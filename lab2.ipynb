{
 "cells": [
  {
   "cell_type": "markdown",
   "id": "319c83df",
   "metadata": {},
   "source": [
    "# NLP Lab 2 / Text classification\n",
    "\n",
    "You may work by pairs. There is no increase of grade or compensation if you work alone. \n",
    "Please first indicate whom you work with in the cell above:"
   ]
  },
  {
   "cell_type": "markdown",
   "id": "738f09f2",
   "metadata": {},
   "source": [
    "Your answer here : worked with Matthieu Sousa Ferreira & Baptiste Rozan"
   ]
  },
  {
   "cell_type": "markdown",
   "id": "05ade3b1",
   "metadata": {},
   "source": [
    "# 0. Submission instructions\n",
    "\n",
    "The due date of this lab is October 13h, 23:59. Late deliveries will be penalized 1pt/day. \n",
    "\n",
    "Please visit https://mvproxy.esiee.fr (disregard the security warning, the certificate is self-signed). When visiting for the first time, provide your ESIEE login, but leave the password field empty, and click on \"Connexion\". You should then receive an email containing your mvproxy password (check your SPAM folder if you don't).\n",
    "\n",
    "Visit https://mvproxy.esiee.fr a second time, but now fill in both your ESIEE login and mvproxy password. You should be logged in.\n",
    "\n",
    "Drop a ZIP archive containing :\n",
    "- This notebook (lab2.ipynb), filled with answers to the questions ;\n",
    "- and a *local* copy of the text articles or CSV files you are working with, which you should access to relatively and not absolutely. \n",
    "\n",
    "Please pay attention to the latter point. Code like\n",
    "```\n",
    "csv.reader('C:\\Users\\Yoyodyne\\My Documents\\AIC-5102B\\Lab2 Text Classification/dataset.csv')\n",
    "```\n",
    "\n",
    "should be banned, and replaced by\n",
    "```\n",
    "csv.reader('dataset.csv')\n",
    "```\n",
    "or\n",
    "```\n",
    "csv.read('./data/class1.csv')\n",
    "csv.read('./data/class2.csv')\n",
    "```\n",
    "\n",
    "I should be able to run your code on *Linux* after sourcing <t>~/pynlp/bin/activate</t> , without modifying the 'C:\\Users\\Yoyodyne\\My Documents\\AIC-5102B' path, which I don't have access to, nor changing anything else in your notebook as I run it. You must also stick to NLTK, and packages I include myself in the following code snippets.\n",
    "\n",
    "\n",
    "## 1. Setup\n",
    "\n",
    "This lab must be done on Linux Debian 12, under the Python virtual environment [decribed here](https://perso.esiee.fr/~hilairex/NLP/docker-fc39.html). You may also use the Docker container described in this document if you prefer, but the Python venv is enough.\n",
    "\n",
    "It is all about text classification, and your first task will consist in selecting a dataset.\n",
    "\n",
    "Please visit https://www.kaggle.com/datasets?search=text+classification in order to choose a dataset you like (or randomly, if you don't known which one to choose). We will attempt to separate samples from 2 classes only, so you may either choose between a dataset that has natively 2 classes only (spam/non spam email, positive/negative review, etc.) or one that has natively $n > 2$ classes, but two only of which will be used (e.g. politics/cooking, or sport/computer articles).\n",
    "\n",
    "Which dataset and classes did you chose ? Plesase give your answer below with its related URL, and copy the related files to your working directory.\n"
   ]
  },
  {
   "cell_type": "markdown",
   "id": "1c4be712-424d-47ae-97b2-a180bf0864ac",
   "metadata": {},
   "source": [
    "Dataset : SMS Spam collection\n",
    "\n",
    "classes : spam / not spam\n",
    "\n",
    "https://www.kaggle.com/datasets/thedevastator/sms-spam-collection-a-more-diverse-dataset\n"
   ]
  },
  {
   "cell_type": "code",
   "execution_count": 6,
   "id": "4112a2a8-2ae5-4b17-aa4c-37be9c6849f2",
   "metadata": {},
   "outputs": [
    {
     "name": "stdout",
     "output_type": "stream",
     "text": [
      "\u001b[31mERROR: Operation cancelled by user\u001b[0m\u001b[31m\n",
      "\u001b[0m^C\n"
     ]
    }
   ],
   "source": [
    "!pip install pandas"
   ]
  },
  {
   "cell_type": "code",
   "execution_count": 10,
   "id": "a40ad4c3",
   "metadata": {},
   "outputs": [
    {
     "data": {
      "text/html": [
       "<div>\n",
       "<style scoped>\n",
       "    .dataframe tbody tr th:only-of-type {\n",
       "        vertical-align: middle;\n",
       "    }\n",
       "\n",
       "    .dataframe tbody tr th {\n",
       "        vertical-align: top;\n",
       "    }\n",
       "\n",
       "    .dataframe thead th {\n",
       "        text-align: right;\n",
       "    }\n",
       "</style>\n",
       "<table border=\"1\" class=\"dataframe\">\n",
       "  <thead>\n",
       "    <tr style=\"text-align: right;\">\n",
       "      <th></th>\n",
       "      <th>sms</th>\n",
       "      <th>label</th>\n",
       "    </tr>\n",
       "  </thead>\n",
       "  <tbody>\n",
       "    <tr>\n",
       "      <th>0</th>\n",
       "      <td>Go until jurong point, crazy.. Available only ...</td>\n",
       "      <td>0</td>\n",
       "    </tr>\n",
       "    <tr>\n",
       "      <th>1</th>\n",
       "      <td>Ok lar... Joking wif u oni...\\n</td>\n",
       "      <td>0</td>\n",
       "    </tr>\n",
       "    <tr>\n",
       "      <th>2</th>\n",
       "      <td>Free entry in 2 a wkly comp to win FA Cup fina...</td>\n",
       "      <td>1</td>\n",
       "    </tr>\n",
       "    <tr>\n",
       "      <th>3</th>\n",
       "      <td>U dun say so early hor... U c already then say...</td>\n",
       "      <td>0</td>\n",
       "    </tr>\n",
       "    <tr>\n",
       "      <th>4</th>\n",
       "      <td>Nah I don't think he goes to usf, he lives aro...</td>\n",
       "      <td>0</td>\n",
       "    </tr>\n",
       "  </tbody>\n",
       "</table>\n",
       "</div>"
      ],
      "text/plain": [
       "                                                 sms  label\n",
       "0  Go until jurong point, crazy.. Available only ...      0\n",
       "1                    Ok lar... Joking wif u oni...\\n      0\n",
       "2  Free entry in 2 a wkly comp to win FA Cup fina...      1\n",
       "3  U dun say so early hor... U c already then say...      0\n",
       "4  Nah I don't think he goes to usf, he lives aro...      0"
      ]
     },
     "execution_count": 10,
     "metadata": {},
     "output_type": "execute_result"
    }
   ],
   "source": [
    "import pandas as pd\n",
    "\n",
    "pd.read_csv('sms-spam-collection-a-more-diverse-dataset/train.csv', encoding='latin-1').head()\n"
   ]
  },
  {
   "cell_type": "markdown",
   "id": "6b79abd6",
   "metadata": {},
   "source": [
    "## 2. Text vectorization\n",
    "\n",
    "The following functions :\n",
    "- extract the vocabulary from a CSV file assuming the text is located in column number 5\n",
    "- build the document-term matrix by reading again the same CSV file\n",
    "\n",
    "Adapt them, so that they fit your dataset and produce a document-term matrix in the end.\n",
    "\n",
    "Please note that:\n",
    "- the tokenization method used is wordpunct_tokenize(), which may not be optimal. You may call something different in case you find too much garbage in your resulting vocabulary.\n",
    "- there are two \"if\" tests in dtmat_from_file which appear unnecessary so far. They are, indeed, because the test samples may include unseen words, which would generate out-of-bounds index. So unseen words are just ignored.\n",
    "- you may also consider lemmatizing. "
   ]
  },
  {
   "cell_type": "code",
   "execution_count": 11,
   "id": "190415fd",
   "metadata": {},
   "outputs": [],
   "source": [
    "import csv\n",
    "import nltk\n",
    "import numpy as np\n",
    "import sys\n",
    "from nltk.tokenize import TweetTokenizer\n",
    "\n",
    "tweet_tokenizer = TweetTokenizer(preserve_case=True, reduce_len=True)\n",
    "def voc_from_csv(csvfile):\n",
    "    nlines=0\n",
    "    voc=[]\n",
    "    with open(csvfile, errors='ignore') as file:\n",
    "        reader=csv.reader(file, delimiter=',')\n",
    "        for row in reader:\n",
    "            nlines=nlines+1\n",
    "            voc.extend(tweet_tokenizer.tokenize(row[0]))\n",
    "    voc=sorted(set(voc))        \n",
    "    return voc,nlines\n",
    "\n",
    "def dtmat_from_csv(csvfile):\n",
    "    voc,rows=voc_from_csv(csvfile)\n",
    "    cols=len(voc)\n",
    "    mat=np.zeros((rows,cols))\n",
    "    d=0\n",
    "    with open(csvfile,  errors='ignore') as file:\n",
    "        reader=csv.reader(file, delimiter=',')\n",
    "        for row in reader:\n",
    "            w= nltk.wordpunct_tokenize(row[0])\n",
    "            X=np.searchsorted(voc,w,side='left')            \n",
    "            for i in range(0,len(w)):\n",
    "                if (X[i] < cols):\n",
    "                    if (w[i] == voc[X[i]]):\n",
    "                        mat[d][X[i]]+=1\n",
    "            d=d+1\n",
    "    return mat\n"
   ]
  },
  {
   "cell_type": "code",
   "execution_count": 17,
   "id": "132552a2",
   "metadata": {},
   "outputs": [],
   "source": [
    "csv_path = 'sms-spam-collection-a-more-diverse-dataset/train.csv'\n",
    "vocab = voc_from_csv(csv_path)\n",
    "dtmat = dtmat_from_csv(csv_path)"
   ]
  },
  {
   "cell_type": "code",
   "execution_count": 12,
   "id": "5cab8996",
   "metadata": {
    "scrolled": true
   },
   "outputs": [
    {
     "name": "stdout",
     "output_type": "stream",
     "text": [
      "(['!', '\"', '#', '#150', '#5000', '$', '%', '&', \"'\", '(', ')', '*', '+', ',', '-', '.', '. .', '. . .', '. . . .', '. . . . .', '. ..', '..', '.. .', '.. . . .', '.. ... ...', '...', '... . . . .', '/', '0', '00', '00870405040', '0089', '01', '0121 2025050', '01223585236', '01223585334', '01256987', '02', '02/06', '02/09', '0207 153 9153', '0207 153 9996', '0207-083-6089', '02072069400', '02073162414', '02085076972', '03', '03530150', '04', '04/09', '05', '050703', '06', '06.05', '06/11', '07/11', '07008009200', '07046744435', '07090201529', '07090298926', '07099833605', '07123456789', '07732584351', '07734396839', '07742676969', '07753741225', '0776xxx', '07786200117', '077xxx', '078', '07801543489', '07808', '07808247860', '07808726822', '07815296484', '07821230901', '078498', '07880867867', '0789xxx', '07946746291', '0796XXX', '07973788240', '07XXX', '07xxx', '08', '0800', '0800 0721072', '0800 169 6031', '0800 195 6669', '0800 1956669', '0800 5050', '0800 542 0578', '0800 542 0825', '08000407165', '08000776320', '08000839402', '08000930705', '08000938767', '08001950382', '08002888', '08002986030', '08002986906', '08002988890', '08006344', '0808 145 4742', '08081263000', '08081560665', '0819', '0844', '08448350055', '08448714184', '0845 021 3680', '0845 2814032', '08450542832', '08452810071', '08452810073', '08452810075', '0870', '08700435505', '08700469649', '08700621170', '08701213186', '08701237397', '08701417012', '08701624', '08701752560', '08701872873', '08702411827', '08702490080', '08702840625', '08702840625.COMUK', '08704050406', '08704439680', '08706091795', '08707379102', '08707500020', '08707509020', '08707533310', '08707808226', '08708034412', '08708800282', '08709222922', '08709501522', '0871-4719', '0871-872-9755', '0871-872-9758', '08710471114', '08712101358', '08712103738', '08712120250', '08712300220', '08712317606', '08712400200', '08712400602', '08712400603', '08712402050', '08712402578', '08712402779', '08712402902', '08712402972', '08712404000', '08712405020', '08712405022', '08712460324', '08712466', '08712778107', '08712778108', '08712778109', '08714342399', '08714712377', '08714712379', '08714712388', '08714712394', '08714712412', '08714714011', '08714740323', '08714742804', '08715203028', '08715203649', '08715203652', '08715203656', '08715203677', '08715203685', '08715203694', '08715205273', '08715500022', '08715705022', '08717111821', '08717168528', '08717205546', '0871750', '08717507382', '08717509990', '08717890890', '08717895698', '08717898035', '08718711108', '08718720201', '08718723815', '08718725756', '08718726270', '08718726970', '08718726971', '08718726978', '08718727200', '08718727868', '08718727870', '08718728876', '08718730555', '08718730666', '08718738001', '08718738002', '08718738034', '08719180219', '08719180248', '08719181259', '08719181503', '08719181513', '08719839835', '08719899217', '08719899229', '08719899230', '09', '09041940223', '09050001295', '09050001808', '09050002311', '09050003', '09050003091', '09050004', '09050005', '09050005321', '09050008', '09050009', '09050090044', '09050280520', '09053750005', '09056242159', '09057039994', '09058091854', '09058091870', '09058094454', '09058094455', '09058094507', '09058094565', '09058094583', '09058094594', '09058094597', '09058094599', '09058095107', '09058095201', '09058097189', '09058097218', '09058098002', '09058099801', '09061104276', '09061104283', '09061209465', '09061213237', '09061221061', '09061221066', '09061701444', '09061701461', '09061701851', '09061701939', '09061702893', '09061743386', '09061743806', '09061743810', '09061743811', '09061744553', '09061749602', '09061790121', '09061790125', '09061790126', '09063440451', '09063442151', '09063458130', '09063463', '09064011000', '09064012103', '09064012160', '09064015307', '09064017295', '09064017305', '09064018838', '09064019014', '09064019788', '09065069120', '09065069154', '09065171142', '09065174042', '09065394514', '09065394973', '09065989180', '09065989182', '09066350750', '09066358152', '09066358361', '09066361921', '09066362206', '09066362220', '09066362231', '09066364311', '09066364349', '09066364589', '09066368327', '09066368470', '09066368753', '09066380611', '09066382422', '09066601', '09066612661', '09066649731', '09071512432', '09071512433', '09071517866', '09077818151', '09090204448', '09090900040', '09094100151', '09094646631', '09094646899', '09095350301', '09096102316', '09099725823', '09099726395', '09099726429', '09099726481', '09099726553', '09111030116', '09111032124', '09701213186', '0A', '0p', '0quit', '1', '1,000', '1,2', '1,50', '1,500', '1.20', '1.5', '1.50', '1.childish', '1/08', '1/1', '1/2', '1/3', '10', '10,000', '10.1', '10/06', '100', '100,000', '1000', '1000CALL', '1000s', '100p', '100txt', '1013', '1030', '10:10', '10:30', '10K', '10am', '10k', '10mins', '10p', '10ppm', '10th', '11', '11.48', '1120', '113', '1131', '114/14', '1146', '1151', '116', '1172', '118p', '11mths', '11pm', '12', '12,000', '1205', '120p', '121', '1225', '123', '125', '1250', '125gift', '128', '1282EssexCM61XN', '12:30', '12Mths', '12hours', '12hrs', '12mths', '12n146tf15', '12n146tf150p', '13/10', '13/4', '130', '1327', '139', '140', '1405', '140ppm', '1450', '146tf150p', '14thMarch', '150', '1500', '150P', '150P16', '150PPM', '150p', '150pm', '150ppermessSubscription', '150ppm', '150ppmPOBox10183BhamB64XE', '150ppmmobilesvary', '150ppmsg', '150ppmx3age16', '150pw', '150x3', '151', '1510', '15541', '15:26', '15H', '16', '16.150', '165', '1680', '16yrs', '177', '177HP51FL', '18', '18/11', '180', '1843', '1896WC1N3XX', '18:0430-', '18p', '18yrs', '1Apple', '1Cup', '1DA', '1ER', '1IM', '1Lemon', '1N3XX', '1Tulsi', '1Winaweek', '1Winawk', '1YF', '1b6a5ecef91ff9', '1hr', '1million', '1more', '1pm', '1st', '1st4Terms', '1stchoice.co.uk', '1stone', '1thing', '1win150ppmx3', '1win150ppmx3age16', '1win150ppmx3age16subscription', '1x150p', '2', '2,000', '2-4-', '2.15', '2.30', '2.50', '2.IM', '2.naughty', '2/2', '2/3', '20', '20,000', '200', '2000', '2003', '2004', '2005', '2006', '2007', '200p', '202', '20M12AQ', '20p', '21', '21/11', '2187000', '21st', '22', '220', '220cm2', '23', '2309', '23F', '23G', '24', '24/10', '24/7', '245c2150pm', '24Hrs', '24M', '24hrs', '24th', '25', '250', '250k', '255', '25p', '26.03', '26/10', '26/11', '2667', '26th', '27', '27/03', '27/6', '28', '28/5', '28days', '28th', '28thFeb', '29', '29/03', '29/10', '2B', '2Bremoved', '2C', '2DAY', '2DOCD.PLEASE', '2EZ', '2End', '2GETHA', '2GEVA', '2Hook', '2I', '2KBSubject', '2MORO', '2MOROW', '2MORRO', '2MRW', '2MWEN', '2NITE', '2OptOut', '2PX', '2StopTx', '2StopTxt', '2U', '2WATERSHD', '2WT', '2WU', '2bed', '2bold', '2channel', '2come', '2day', '2day.love', '2die', '2exit', '2find', '2geva', '2go', '2go.did', '2gthr', '2hear', '2hrs', '2marrow', '2mobile', '2moro', '2morow', '2morro', '2morrow', '2morrowxxx', '2mro', '2mrw', '2nd', '2nhite', '2nights', '2nite', '2optout', '2p', '2rcv', '2stop', '2stoptxt', '2tell', '2the', '2u', '2u2', '2waxsto', '2wks', '2worzels', '2years', '2yr', '2yrs', '3', '3.00', '3.75', '3.99', '3.Sentiment', '30', '300', '3000', '300603', '300603t', '300p', '3030', '30Apr', '30pp', '30s', '30th', '31', '31/10', '3100', '310303', '31p', '32', '32000', '3230', '32323', '326', '33.65', '330', '334', '334SK38ch', '334sk38ch', '3355', '33:50', '342/2', '350', '3510i', '35p', '3650', '36504', '36504W45WQ', '365O4W45WQ', '373', '3750', '37819', '38', '385', '391784', '39822', '3AJ', '3D', '3G', '3GBP', '3LP', '3Lions', '3MOBILE', '3POUND', '3SS', '3UZ', '3XX', '3cktz8r7', '3d', '3days', '3g', '3gbp', '3hrs', '3lp', '3miles', '3mins', '3optical', '3qxj9', '3rd', '3wks', '3x', '4', '4-6', '4-7', '4.15', '4.30', '4.47', '4.49', '4.50', '4.Cook', '4.rowdy', '40', '400', '400mins', '402', '403', '4041', '40411', '40533', '40GB', '40mph', '41', '41685', '41782', '420', '42049', '4217', '4235WC1N3XX', '42478', '42810', '4284', '42WR29C', '42moro', '430', '434', '434SK38WP150PPM18', '44', '440', '4403LDNW1A7RW18', '4477977060', '4478012592', '4487124040', '4490500030', '4490715124', '45', '450', '450Ppw', '450p', '450pw', '45239', '45PO139WA', '45W2TG150P', '47', '48', '4882', '48922', '49557', '4BREKKIE', '4EVA', '4GET', '4JX', '4MY', '4QF2', '4T', '4U', '4WARD', '4a', '4an18th', '4d', '4eva', '4few', '4fil', '4get', '4get2text', '4give', '4got', '4goten', '4info', '4msgs', '4mths', '4th', '4thNOV.BEHIND', '4the', '4txt', '4u', '4uTxt', '4w', '4wrd', '4xx26', '4years', '5', '5.00', '5.15', '5.30', '5.Gardener', '5.Terror', '5.ful', '5/9', '50', '500', '5000', '5000.00', '50award', '50p', '50s', '5120', '515', '5226', '523', '5249', '526', '528', '530', '54', '545', '55', '5K', '5WB', '5WE', '5WQ', '5digital', '5free', '5ish', '5min', '5mls', '5p', '5pm', '5th', '5times', '5we', '5wkg', '5years', '6', '6.30', '6.45', '6.Cruel', '6.House', '6.romantic', '60', '60,400', '600', '60P', '60p', '61', '61200', '61610', '62220Cncl', '6230', '62468', '62735', '630', '63miles', '645', '65,61', '650', '66,382', '6600', '6650', '674', '6744123', '68866', '69', '69101', '69200', '69669', '69696', '69698', '69855', '69866.18', '69876', '69888', '69888Nyt', '69911', '69969', '69988', '6GBP', '6HL', '6WU', '6ZF', '6days', '6hrs', '6ish', '6missed', '6months', '6ph', '6pm', '6th', '6times', '7', '7.30', '7.8', '7.Children', '7.Romantic', '7.shy', '700', '71', '7250', '7250i', '730', '731', '734LS27YF', '74355', '75,000', '750', '7548', '75LDNS7', '762', '7634', '7684', '77.11', '7732584351', '78', '786', '7876150', '79', '7:30', '7WS', '7ZS', '7am', '7cfca1a', '7ish', '7oz', '7pm', '7th', '8', '8,22', '8-8', '8.30', '8.Attractive', '8.Lovable', '8.Neighbour', '80', '800', '8000930705', '80062', '8007', '80082', '80086', '8012230', '80155', '80160', '80182', '8027', '80488', '80488.biz', '80608', '8077', '80878', '81010', '81151', '81303', '81618', '820554ad0a1705572711', '82228', '82242', '82277', '82277.unsub', '82324', '82468', '83021', '83039', '83049', '83110', '83118', '83222', '83332.Please', '83338', '83355', '83370', '83383', '83435', '83600', '83738', '84', '84025', '84122', '84128', '84199', '84484', '85', '850', '85023', '85069', '85222', '85233', '8552', '8555', '86021', '861', '864233', '86688', '86888', '87021', '87066', '87070', '87077', '87121', '87131', '8714714', '87239', '87575', '8800', '88039', '88039.SkilGme', '88066', '88088', '88222', '88600', '888', '88800', '8883', '88877', '89', '89034', '89070', '89080', '89105', '89123', '89545', '89555', '89693', '89938', '8Ball', '8R', '8WP', '8am', '8i', '8lb', '8p', '8th', '9', '9-6', '9.decent', '9.funny', '900', '9061100010', '910', '9280114', '92H', '930', '9307622', '945', '946', '95', '95QU', '97N7QP', '9832156', '9AE', '9YT', '9am', '9ja', '9pm', '9t', '9th', ':', ':(', ':)', ':-(', ':-)', ':-/', ':-D', ':-P', ':-|', ':/', ':8', '::', ':D', ';', ';)', ';-(', ';-)', '<', '<#>', '<3', '<DECIMAL>', '<EMAIL>', '<TIME>', '<UKP>', '<URL>', '=', '=)', '=/', '=D', '>', '>:(', '?', '@', '@150p', '@50p', '@CLUBSAISAI', '@Shesil', '@Warner', '@drivby', '@kiosk', '@thirtyeight', '@vipclub4u', 'A', 'A-Green', 'A-ffectionate', 'A21', 'ABOUT', 'ABOUTAS', 'ABTA', 'ACCEPT', 'ACL', 'ACTION', 'ACTUALLY', 'AD', 'ADAM', 'ADDAMSFA', 'ADP', 'ADRINK', 'AFEW', 'AFTER', 'AFTERNOON', 'AG', 'AGAIN', 'AGAIN.call', 'AGAINST', 'AGE', 'AGES', 'AGO', 'AGO.CUSOON', 'AH', 'AIG', 'AINT', 'AL', 'ALERT', 'ALETTER', 'ALEX', 'ALL', 'ALRITE', 'ALSO', 'ALWAYS', 'AM', 'AMY', 'AN', 'ANAL', 'AND', 'ANNIE', 'ANS', 'ANSWER', 'ANTELOPE', 'ANYTHING', 'AOM', 'APPY', 'APRIL', 'ARE', 'AREA', 'ARIES', 'AROUND', 'ARR', 'AS', 'ASAP', 'ASKED', 'ASLEEP', 'ASTHERE', 'ASUSUAL', 'AT', 'ATM', 'AUCTION', 'AUGUST', 'AV', 'AVA', 'AVE', 'AVENT', 'AWAITING', 'AWARD', 'AXIS', 'Aah', 'Aaniye', 'Aaoooright', 'Ab', 'Abbey', 'Abeg', 'Aberdeen', 'Abiola', 'About', 'Abt', 'Accept', 'Accident', 'AccommodationVouchers', 'Account', 'Accounts', 'Ache', 'Acnt', 'Aco', 'Activate', 'Active', 'Actually', 'Address', 'Admirer', 'Adrian', 'Adult', 'Aeronautics', 'Affections', 'Aft', 'After', 'AfterNoon', 'Afternoon', 'Afternoons', 'Aftr', 'Again', 'Agalla', 'Age', 'Ages', 'Ah', 'Ahhh', 'Ahmad', 'Aight', 'Air', 'Airtel', 'Aiya', 'Aiyah', 'Aiyar', 'Aiyo', 'Aka', 'Akon-Lonely', 'Al', 'Alaikkum.Pride', 'Alaipayuthe', 'Aldrine', 'AlertFrom', 'Alex', 'Alfie', 'Algarve', 'All', 'Allah', 'Allah.Rakhesh', 'Allo', 'Almost', 'Already', 'Alright', 'Alrite', 'Also', 'Although', 'Always', 'Alwys', 'Am', 'Amanda', 'Amazing', 'Ambrith', 'American', 'Ami', 'Amrca', 'Amrita', 'Amy', 'An', 'And', 'Annoying', 'Another', 'Any', 'Anyone', 'Anything', 'Anytime', 'Anyway', 'Anyways', 'Apart', 'Apnt', 'Apo', 'Apparently', 'Apply', 'Apps', 'Appt', 'Ar.Praveesh', 'Arabian', 'Arcade', 'Ard', 'Are', 'Argh', 'Argument', 'Armand', 'Arms', 'Arngd', 'Arrow', 'Arsenal', 'Arul', 'Arun', 'As', 'Ashley', 'Asian', 'Ask', 'Asking', 'Aslamalaikkum', 'Astronomer', 'At', 'Athletic', 'Atlanta', 'Atlast', 'Atleast', 'Auction', 'Audrey', 'Audrie', 'August', 'Auntie', 'Australia', 'Available', 'Ave', 'Avenge', 'Awarded', 'Awesome', 'Aww', 'Awww', 'Ay', 'B', \"B'day\", \"B'tooth\", 'B-Blue', 'B-day', 'B4', 'B4U', 'BA128NNFWFLY150ppm', 'BABE', 'BABE.SOZI', 'BABES', 'BABY', 'BACK', 'BACKWARDS', 'BAHAMAS', 'BAILIFF', 'BAK', 'BANG', 'BANK', 'BANNEDUK', 'BARMED', 'BATH', 'BBC', 'BBD', 'BBDELUXE', 'BCK', 'BCM', 'BCMSFWC', 'BCoz', 'BE', 'BEAUTIFUL', 'BED', 'BEDROOM', 'BEEN', 'BEER', 'BEFORE', 'BEGIN', 'BELIEVE', 'BEST', 'BETTER', 'BETTERSN', 'BIDS', 'BIG', 'BILL', 'BILLING', 'BIRD', 'BIRTHDAY', 'BIT', 'BK', 'BLOKE', 'BLOKES', 'BLOOD.Send', 'BMW', 'BOATIN', 'BONUS', 'BOO', 'BOOKS', 'BORED', 'BORING', 'BORN.PLEASE', 'BOTH', 'BOUT', 'BOX', 'BOYF', 'BOYFRIEND', 'BRAND', 'BREAK', 'BREAKIN', 'BREATHE', 'BRISTOL', 'BROKE', 'BROTHER', 'BSLVYL', 'BT', 'BT-national', 'BT-national-rate', 'BTHERE', 'BTW', 'BUDDY', 'BUS', 'BUT', 'BUTTHERES', 'BUZ', 'BY', 'BYATCH', 'Baaabe', 'Babe', 'Babes', 'Baby', 'BabyGoodbye', 'Back', 'Bad', 'Badrith', 'Bahamas', 'Bajarangabali', 'Ball', 'Balls', 'Bam', 'BangBabes', 'Bani', 'Bank', 'Barbie', 'Barkleys', 'Barry', 'Bbq', 'Bc', 'Bcm', 'Bcoz', 'Be', 'Bears', 'Beautiful', 'Beauty', 'Bec', 'Becaus', 'Because', 'Become', 'Becomes', 'Becoz', 'Been', 'Beer', 'Beer-Rs', 'Beerage', 'Before', 'Behind', 'Being', 'Belovd', 'Ben', 'Bennys', 'Bergkamp', 'Best', 'Beth', 'Better', 'Beware', 'Big', 'Bill', 'Bin', 'Biola', 'Biro', 'Birthday', 'Bishan', 'Bit', 'Bite', 'Bits', 'Black', 'Blacko', 'Blank', 'Bless', 'Blind', 'Block', 'Bloody', 'Bloomberg', 'Blu', 'Blue', 'Bluetooth', 'BluetoothHdset', 'Bob', 'Body', 'Bognor', 'Boltblue', 'Bone', 'Bonus', 'Boo', 'Book', 'Booked', 'Bookmark', 'Booo', 'Boost', 'Bored', 'Boss', 'Both', 'Bought', 'Box', 'Boy', 'Boys', 'Brainless', 'Brandy', 'Bray', 'Brb', 'Brdget', 'Break', 'Breaker', 'Brief', 'Bright', 'Brilliant', 'Bring', 'Bristol', 'British', 'Britney', 'Broadband', 'Brother', 'Brought', 'Brown', 'Bstfrnd', 'Bt', 'Btw', 'Buffy', 'Bugis', 'Building', 'Bull', 'Burger', 'Burns', 'Busy', 'But', 'Buy', 'Buzz', 'Buzzz', 'Bx', 'Bx526', 'By', 'Bye', 'C', \"C's\", 'C-IN', 'C-Red', 'C52', 'CAKE', 'CAL', 'CALL', 'CALLED', 'CALLIN', 'CALM', 'CAME', 'CAMERA', 'CAN', 'CANCEL', 'CANT', 'CARD', 'CARE', 'CAREFUL', 'CARLIE', 'CASH', 'CAT', 'CATCH', 'CAUSE', 'CC', 'CD', 'CDGT', 'CDs', 'CER', 'CERI', 'CHA', 'CHANCE', 'CHARGE', 'CHARITY', 'CHAT', 'CHATLINES', 'CHECKIN', 'CHEER', 'CHEERED', 'CHEERS', 'CHILLIN', 'CHIT-CHAT', 'CHOSEN', 'CL', 'CLAIM', 'CLAIRE', 'CLEAN', 'CLUB', 'CLoSE', 'CM', 'CM2', 'CNN', 'COLLECT', 'COLLEGE', 'COME', 'COMIN', 'COMMON', 'COMPETITION', 'COMPLETELY', 'CONCERNED', 'CONTENTION', 'CONTRACT', 'CONVINCED', 'COOL', 'COS', 'COUNTINLOTS', 'CR01327BT', 'CR9', 'CRAZYIN', 'CREDIT', 'CRISIS', 'CRO', 'CSH', 'CU', 'CUD', 'CULDNT', 'CUM', 'CUP', 'CUST', 'CUTE', 'CW25WX', 'CaRE', 'Cab', 'Cable', 'Cali', 'Call', 'CallFREEFONE', 'Caller', 'Callers', 'Callertune', 'Calling', 'Calls', 'Camcorder', 'Camera', 'Can', \"Can't\", 'Canada', 'Canary', 'Cancel', 'Cancer', 'Cannot', 'Cant', 'Captain', 'Cardiff', 'Care', 'Career', 'Careful', 'Carlos', \"Carlos'll\", 'Carry', 'Case', 'Cash', 'Cashbin.co.uk', 'Catching', 'Caught', 'Cause', 'Cbe', 'Celebrated', 'Celebrations', 'Centre', 'Cha', 'Chachi', 'Chance', 'Change', 'Channel', 'Charles', 'Chart', 'Chasing', 'Chat', 'Cheap', 'Check', 'Checkmate', 'Cheer', 'Cheers', 'Chef', 'Chikku', 'Children', 'Childrens', 'Chinatown', 'Chinese', 'Chk', 'Chloe', 'Choose', 'Christians', 'Christmas', 'Ciao', 'Cine', 'City', 'Claim', 'Classic', 'Click', 'Clos', 'Close', 'Club', 'Co', 'Coca-Cola', 'Code', 'Coffee', 'Cold', 'Colin', 'Colleagues', 'Collect', 'Colour', 'Com', 'Come', 'Comfort', 'Common', 'Companion', 'Company', 'Compass', 'Complete', 'Compliments', 'Concentrate', 'Confidence', 'Congrats', 'Congratulations', 'Consider', 'Contact', 'Content', 'Convey', 'Cool', 'Cool-Mob', 'Cornwall', 'Correct', 'Cos', 'Cost', 'Costa', 'Costs', 'Cougar-Pen', 'Could', 'Courageous', 'Cover', 'Coz', 'Cps', 'Crab', 'Crack', 'Craigslist', 'Cramps', 'Crazy', 'Credit', 'Cribbs', 'Croydon', 'Crucify', 'Crying', 'Cs', 'CsBCM', 'CsC', 'Ctagg', 'Ctargg', 'Cttargg', 'Ctter', 'Cttergg', 'Ctxt', 'Cud', 'Cup', 'Cust', 'CustCare', 'Customer', 'CustomerCare', 'Cut', 'Cute', 'Cutefrnd', 'Cutter', 'Cuz', 'D', 'D3WV', 'D=', 'DA', 'DABOOKS', 'DADS', 'DAMMIT', 'DAN', 'DARLIN', 'DAS', 'DATE', 'DATEBox', 'DAY', 'DAYS', 'DD', 'DE', 'DEAD', 'DECIDED', 'DEF', 'DEFO', 'DEL', 'DENA', 'DETAILS', 'DEVIOUSBITCH.ANYWAY', 'DID', 'DIDN', \"DIDN'T\", 'DIDNT', 'DIGITAL', 'DIRTY', 'DIS', 'DISCOUNT', 'DLF', 'DO', 'DOCKS', 'DOES', 'DOESDISCOUNT', 'DOESNT', 'DOGBREATH', 'DOIN', 'DON', 'DONATE', 'DONE', 'DONT', 'DONTIGNORE', 'DONTPLEASE', 'DOT', 'DOUBLE', 'DOWN', 'DOWNON', 'DPS', 'DRACULA', 'DRAW', 'DREAMS', 'DREAMZ', 'DRINK', 'DRIVE', 'DRUNK', 'DUE', 'DUMB', 'DVD', 'Da', 'Dad', 'Daddy', 'Dai', 'Damn', 'Dan', 'Dare', 'Darling', 'Darren', 'Dasara', 'Dat', 'Date', 'Dates', 'Dating', 'Datz', 'Dave', 'Day', 'De', 'Deal', 'Dear', 'December', 'Declare', 'Deeraj', 'Def', 'Del', 'Delhi', 'Deliver', 'Delivered', 'DeliveredTomorrow', 'Delivery', 'Den', 'Dependable', 'Depends', 'Derp', 'Designation', 'Desires', 'Determined', 'Detroit', 'Devils', 'Dey', 'Dhoni', 'Dial', 'Dick', 'Dictionary', 'Did', \"Didn't\", 'Die', 'Digital', 'Dileep.thank', 'Din', 'Ding', 'Dino', 'Dint', \"Dip's\", 'Direct', 'Dirty', 'Dis', 'Disconnect', 'Discussed', 'Diseases', 'Ditto', 'Divorce', 'Diwali', 'Dizzamn', 'Dizzee', 'Dload', 'Dnt', 'Do', 'Doc', 'Doctor', 'Does', \"Doesn't\", 'Dogging', 'Doggy', 'Doing', 'Doll', 'Dolls', 'Dom', 'Don', \"Don't\", 'Done', 'Dont', 'DontCha', 'Dormitory', 'Dorothy@kiefer.com', 'Double', 'DoubleMins', 'DoubleTxt', 'Download', 'Dozens', 'Dr', 'Draw', 'Dream', 'Drink', 'Drinks', 'Driver', 'Drop', 'Duchess', 'Dude', 'Dun', 'Dunno', 'Dvd', 'E', 'E-namous', 'E-ternal', 'E14', 'EACHOTHER', 'EASTENDERS', 'EAT', 'EC2A', 'EH74RR', 'ELLO', 'ENC', 'END', 'ENG', 'ENGLAND', 'ENJOY', 'ENJOYIN', 'ENTER', 'ENTRY', 'ENUFCREDEIT', 'ER', 'ESPECIALLY', 'EURO', 'EVE', 'EVEN', 'EVENING', 'EVER', 'EVERY', 'EVERYTHIN', 'EVONE', 'EXACT', 'EXAMS', 'EXETER', 'EXORCIST', 'EXP', 'EXPLAIN', 'EXPLOSIVE', 'EXTREME', 'EY', 'Each', 'Early', 'Earth', 'East', 'Easter', 'Easy', 'Eat', 'Eatin', 'Echo', 'Eckankar', 'Edison', 'Ee', 'Eek', 'Eerie', 'Egbon', 'Eh', 'Eire', 'Either', 'Ela', 'Election', 'Eleven', 'Elvis', 'Em', 'Email', 'Emily', 'Emotion', 'En', 'End', 'Energy', 'England', 'English', 'Enjoy', 'Enna', 'Entry', 'Er', 'Erm', 'Err', 'Erutupalam', 'Ese', 'Especially', 'Esplanade', 'Eta', 'Euro', 'EuroDisinc', 'Europe', 'Eve', 'Even', 'Evening', 'Evenings', 'Ever', 'Every', 'Everybody', 'Everyday', 'Everyone', 'Everything', 'Everytime', 'Evn', 'Evr', 'Evrey', 'Evry', 'Ew', 'Exactly', 'Exam', 'Excellent', 'Except', 'Executive', 'Exorcism', 'Expected', 'Expecting', 'Expires', 'Explain', 'Express', 'Expression', 'Extra', 'Eyed-Dont', 'Eyes', 'F', 'F4Q', 'FA', 'FANCY', 'FANTASIES', 'FANTASTIC', 'FANTASY', 'FAR', 'FAV', 'FEEL', 'FEELINGOOD', 'FEELLIKW', 'FFFUUU', 'FIELDOF', 'FIFA', 'FIFTEEN', 'FIGHTS', 'FILTH', 'FINAL', 'FIND', 'FINE', 'FINEST', 'FINISH', 'FIRST', 'FIT', 'FIZZ', 'FLAG', 'FLOWER', 'FM', 'FML', 'FONE', 'FONIN', 'FOR', 'FOREVER', 'FOUNDURSELF', \"FR'NDSHIP\", 'FRAN', 'FRANYxxx', 'FREE', 'FREE-Nokia', 'FREEFONE', 'FREEMSG', 'FREEPHONE', 'FREINDS', 'FRESHERS', 'FRIEND', 'FRIENDS', 'FRIENDSHIP', 'FRMCLOUD', 'FRND', 'FRNDS', 'FRNDSHIP', 'FROM', 'FROMWRK', 'FUCK', 'FUCKED', 'FUCKIN', 'FUCKING', 'FUCKINNICE', 'FUDGE', 'FUNNY', 'Face', 'Facebook', 'Fails', 'Fair', 'Faith', 'Fancy', 'Fantasy', 'Farm', 'Farrell', 'Fat', 'Father', 'Fear', 'Feb', 'Feel', 'Feelin', 'Feeling', 'Feels', 'Ffff', 'Fifty', 'Fighting', 'Filling', 'Fills', 'Filthy', 'Final', 'Finally', 'Find', 'Fine', 'Fingers', 'Finish', 'Finished', 'First', 'Flag', 'Flight', 'Flirt', 'Flung', 'Fml', 'Foley', 'Follow', 'Foned', 'Food', 'Fools', 'Football', 'For', 'Force', 'Forever', 'Forevr', 'Forgets', 'Forgot', 'Forwarded', 'Found', 'Fr', 'Frankie', 'Franxx', 'Fredericksburg', 'Free', 'Free-message', 'FreeMSG', 'FreeMsg', 'Freeentry', 'Freemsg', 'Fresh', 'Fri', 'Friday', 'Friends', 'Friendship', 'Frnd', 'Frog-AXEL', 'From', 'Fuck', 'Full', 'Fun', 'Funny', 'Future', 'Fuuuck', 'Fwiw', 'Fyi', 'G', 'G2', 'GAIL', 'GAILxx', 'GAME', 'GANG', 'GAS', 'GBP', 'GE', 'GENDER', 'GENT', 'GET', 'GETTIN', 'GHOST', 'GIFTS', 'GIMMI', 'GIRL', 'GIRLS', 'GIV', 'GIVE', 'GIVEN', 'GM', 'GMW', 'GN', 'GNT', 'GO', 'GOD', 'GOIN', 'GOING', 'GONE', 'GONNA', 'GONNAMISSU', 'GOOD', 'GOODEVENING', 'GOODFRIEND', 'GOODMORNING', 'GOODNIGHT', 'GOODNITE', 'GOODNOON', 'GOODTIME', 'GORGEOUS', 'GOSS', 'GOSSIP', 'GOT', 'GOTMARRIED', 'GOTTA', 'GOWER', 'GR8FUN', 'GRAN', 'GRAVEL', 'GREAT', 'GROW.RANDOM', 'GSOH', 'GUARANTEED', 'GUD', 'GURL', 'Gain', 'Gal', 'Gam', 'Game', 'Games', 'Gamestar', 'Ganesh', 'Garbage', 'Gary', 'Gay', 'Gaze', 'Gd', 'Ge', 'Gee', 'Geee', 'Genius', 'Gently', 'Geoenvironmental', \"George's\", 'Germany', 'Get', 'Gettin', 'Getting', 'Gibbs', 'Gift', 'Gimme', 'Gin', 'Girl', 'Girls', 'Give', 'Glad', 'Gn', 'Gnarls', 'Go', 'GoTo', 'Goal', 'God', \"God's\", 'Gods', 'Goin', 'Going', 'Gokila', 'GoldDigger', 'Golf', 'Good', 'Goodmorning', 'Goodnight', 'Goodnoon', 'Goodo', 'Google', 'Gopalettan', 'Gosh', 'Gossip', 'Got', 'Goto', 'Gotta', 'Gr8', 'Grahmbell', 'Granite', 'Gravity', 'Grazed', 'Great', 'Green', 'Greet', 'Greetings', 'Grl', 'Grumpy', 'Gsex', 'Guai', 'Guaranteed', 'Gud', 'Gudni', 'Gudnite', 'Gudnyt', 'Guess', 'Guessin', 'Guide', 'Guild', \"Gumby's\", 'Guy', 'Guys', 'Gyno', 'H', 'HAD', 'HALF', 'HAPPY', 'HARD', 'HARDCORE', 'HARDEST', 'HARRY', 'HAS', 'HATES', 'HAUGHAIGHGTUJHYGUJ', 'HAV', 'HAVBEEN', 'HAVE', 'HAVEBEEN', 'HAVENT', 'HAVENTCN', 'HAVIN', 'HAVING', 'HCL', 'HEART', 'HELL', 'HELLO', 'HELLOGORGEOUS', 'HELP', 'HER', 'HEY', 'HF8', 'HG', 'HI', 'HIDE', 'HIM', 'HIS', 'HIT', 'HIYA', 'HL', 'HMM', 'HMV', 'HOLIDAY', 'HOME', 'HON', 'HONEY', 'HONI', 'HOPE', 'HOPEU', 'HORO', 'HOSPITAL', 'HOT', 'HOTMIX', 'HOUSE', 'HOW', 'HOWDY', 'HOWS', 'HOWU', 'HP20', 'HRS', 'HTTP://WWW.URAWINNER.COM', 'HU', 'HUN', 'HUNNY', 'HV9D', 'Ha', 'Habit', 'Hack', 'Had', 'Haf', 'Haha', 'Hahaha', 'Hai', 'Haiyoh', 'Haiz', 'Half', 'Hallaq', 'Halloween', 'Hands', 'Handset', 'Hang', 'Hanging', 'Hanuman', 'Hanumanji', 'Happy', 'Hard', 'Hardcore', 'Hari', \"Harish's\", 'Harry', 'Has', 'Hasbro', \"Hasn't\", 'Hav', 'Have', \"Haven't\", 'Havent', 'Having', 'Havnt', 'He', \"He's\", 'Head', 'Headin', 'Headset', 'Healer', 'Hear', 'Heart', 'Hearts', 'Hee', 'Heehee', 'HehE', 'Height', 'Helen', 'Hell', 'Hello', 'Hello.How', 'Hellooo', 'Help', 'Helpline', 'Henry', 'Her', 'Here', 'Hero', 'Heroes', 'Hey', 'Hhahhaahahah', 'Hi', 'Hi.what', 'High', 'Him', 'Hint', 'His', 'History', 'Hit', 'Hitler', 'Hiya', 'Hlp', 'Hm', 'Hmm', 'Hmmm', 'Hmmm.but', 'Hmmm.still', 'Hmph', 'Ho', 'Hockey', 'Hogli', 'Hogolo', 'Hol', 'Holby', 'Holder', 'Holding', 'Holiday', 'Holla', 'Hols', 'Holy', 'Home', 'Homeowners', 'Honestly', 'Honey', 'Honeybee', 'Hoody', 'Hope', 'Hopefully', 'Hoping', 'Horrible', 'Hospital', 'Hospitals', 'Host-based', 'Hot', 'Hotel', 'Hottest', 'House-Maid', 'How', \"How's\", 'Howda', 'However', 'Hows', 'Howz', 'Hrishi', 'Hubby', 'Hugs', 'Huh', 'Hui', 'Hungry', 'Hurry', 'Hurt', 'Hurts', 'Hyde', 'Hype', 'I', \"I'd\", \"I'll\", \"I'm\", \"I'ma\", \"I've\", 'I-ntimate', 'I.ll', 'IAS', 'IBH', 'IBHltd', 'IBN', 'ID', 'IDIOT', 'IDPS', 'IF', 'IFINK', 'IG11', 'IJUST', 'IKEA', 'IKNO', 'IKNOW', 'IL', 'ILEAVE', 'ILL', 'ILLSPEAK', 'IM', 'IMAT', 'IMF', 'IMIN', 'IMPORTANT', 'IN', 'INC', 'INCLU', 'INCONVENIENCE', 'INDIA', 'INDIANS', 'INDYAROCKS.COM', 'INFORM', 'INFORMATION', 'INK', 'INR', 'INSTEAD', 'INTELLIGENT', 'INTERFLORA', 'INTERVIW', 'INTO', 'INVITED', 'IP4', 'IQ', 'IS', 'ISH', 'ISNT', 'ISV.IMPORTANT', 'IT', 'ITS', 'ITXT', 'IVE', 'IWANA', 'Iam', 'Ibiza', 'Ic', 'Ice', 'Icic', 'Id', 'Idea', 'Identifier', 'Idk', 'If', 'Ill', 'Ilol', 'Im', 'Imagine', 'Immediately', 'Important', 'Imprtant', 'In', 'Including', 'Inclusive', 'Incorrect', 'Incredible', 'Indeed', 'Independence', 'India', 'Indian', 'Indian.Pls', 'Indians', 'Indyarocks.com', 'Inever', 'Infact', 'Inform', 'Information', 'Innocent', 'Insha', 'Instant', 'Intelligent', 'Interflora', 'Invaders', 'Invest', 'Iraq', 'Iriver', 'Irritates', 'Is', 'Isaiah', 'Islands', \"Isn't\", 'It', \"It'll\", \"It's\", \"It'snot\", 'Italian', 'Itna', 'Its', 'Itz', 'Ive', 'Iwas', 'Iyo', 'Izzit', 'J', 'J5Q', 'J89', 'JADE', 'JAN', 'JANE', 'JANINExx', 'JANX', 'JAZ', 'JD', 'JEN', 'JESS', 'JJC', 'JOBYET', 'JSCO', 'JSco', 'JUL', 'JULY', 'JUS', 'JUST', 'JUSWOKE', 'Jackpot', 'Jada', 'James', 'Jamster', 'Jamz', 'Jane', 'January', 'Japanese', 'Jason', 'Jay', \"Jay's\", 'Jealous', 'Jen', 'Jenny', 'Jenxxx', 'Jeremiah', 'Jeri', 'Jerk', 'Jerry', 'Jersey', 'Jesus', 'Jez', 'Jia', 'Joanna', 'John', 'Join', 'Joke', 'Jokes', 'Jokin', 'Joking', 'Jolly', 'Jon', 'Jones', 'Jordan', 'Jorge-Shock', 'Jos', \"Joy's\", 'Jst', 'Jstfrnd', 'Jsut', 'July', 'June', 'Junna', 'Jus', 'Just', 'Juz', 'K', 'K.k.how', 'K.k.this', 'K.then', 'K52', 'K61', 'K718', 'KATE', 'KAVALAN', 'KEEP', 'KING', 'KISS', 'KL341', 'KNACKERED', 'KNOW', 'KNOWS', 'KR', 'KUDI', 'Kaiez', 'Kallis', 'Kanagu', 'Karaoke', 'Kate', 'Katexxx', 'Kath', 'Kay', 'Keep', 'Keep-in-touch', \"Ken's\", 'Kent', 'Kerala', 'KeralaCircle', 'Keris', 'Kicchu', 'Kick', 'Kids', 'Kidz', 'Kind', 'Kinda', 'Kindly', 'King', 'Kingdom', 'Kit', 'Knock', 'Know', 'Kothi', 'Kusruthi', 'L', 'L-oveable', 'L8ER', 'L8R', 'L8RS', 'L8TR', 'L8r', 'LA1', 'LA3', 'LA32WU', 'LADIES', 'LAPTOP', 'LAST', 'LATE', 'LATER', 'LAY', 'LCCLTD', 'LDN', 'LE', 'LEAVE', 'LEKDOG', 'LES', 'LET', 'LETS', 'LF56', 'LIFE', 'LIFT', 'LIKE', 'LIKELY', 'LIKEYOUR', 'LIKING.BE', 'LILY', 'LISTEN', 'LISTENING', 'LITTLE', 'LIVE', 'LKPOBOX', 'LLSPEAK', 'LMAO', 'LOCAL', 'LOCAXX', 'LOG', 'LOL', 'LONG', 'LONGER', 'LOOK', 'LOOKIN', 'LORD', 'LOST', 'LOT', 'LOTR', 'LOTS', 'LOU', 'LOVE', 'LOVEJEN', 'LOVEME', 'LRG', 'LS1', 'LS15HB', 'LS278BB', 'LST', 'LUCKY', 'LUCY', 'LUCYxx', 'LUSH', 'LUTON', 'LUV', 'Lacs.there', 'Ladies', 'Lancaster', 'Landline', 'Lands', 'Langport', 'Lara', 'Large', 'Last', 'Later', 'Latest', 'Laugh', 'Laughed', 'Laughing', 'Ldn', 'LdnW', 'Leaf', 'Leanne.what', 'Leave', 'Leaving', 'Left', 'Lemme', 'Lessons', 'Let', \"Let's\", 'Lets', 'Libertines', 'Lies', 'Life', 'Lifpartnr', 'Like', 'Lil', 'Limited', 'Lindsay', 'Line', 'Linerental', 'Lion', 'Lions', 'Litres', 'Live', 'Liverpool', 'Living', 'Lk', 'Lmao', 'Loads', 'Loan', 'Loans', 'Log', 'Logon', 'Lol', 'Lolnice', 'Lololo', 'London', 'Long', 'LookAtMe', 'Looking', 'Looks', 'Lool', 'Loool', 'Loosu', 'Lots', 'Lovable', 'Love', 'Loved', 'Lovely', 'Lover', 'Loverboy', 'Loves', 'Loving', 'Low-cost', 'Loyalty', 'Ltd', 'LtdHelpDesk', 'Luck', 'Luckily', 'Lucky', 'Lucozade', 'Lucy', 'Lul', 'Luv', 'Lux', 'Luxury', 'Lvblefrnd', 'M', 'M221BP', 'M227XY', 'M26', 'M263UZ', 'M39M51', 'M6', 'M60', 'M95', 'MAD', 'MADE', 'MAHAL', 'MAKE', 'MALL', 'MAN', 'MANEESHA', 'MARCH', 'MARRIED', 'MARSMS', 'MAT', 'MATCH', 'MATCHED', 'MATE', 'MAYBE', 'ME', 'MECAUSE', 'MEET', 'MEETIN', 'MEGA', 'MELNITE', 'MEMBERS', 'MEREMEMBERIN', 'MESSAGE', 'MESSED', 'MF', 'MFL', 'MIDNIGHT', 'MILLIONS', 'MIN', 'MINE', 'MINI', 'MINS', 'MINUTES', 'MISS', 'MISSED', 'MISSIN', 'MISSY', 'MISTAKE', 'MITE', 'MIX', 'MK17', 'MK45', 'MMM', 'MMSto', 'MO', 'MOAN', 'MOB', 'MOBNO', 'MOMENT', 'MON', 'MONKEESPEOPLE', 'MONKEYAROUND', 'MONO', 'MONOC', 'MOON', 'MORAL', 'MORE', 'MORNING', 'MORROW', 'MOST', 'MOVIE', 'MP', 'MP3', 'MQUIZ', 'MR', 'MRNG', 'MSG', 'MSGRCVD', 'MSGS', 'MTALK', 'MTmsg', 'MUCH', 'MUCHXXLOVE', 'MUM', 'MUMS', 'MUNSTERS', 'MUSIC', 'MUST', 'MY', 'MYCALLS', 'MYSELF', 'Ma', 'Maangalyam', 'Maat', 'Macedonia', 'Macha', 'Machan', 'Madam', 'Made', 'Mah', 'Mahaveer', 'Maid', 'Mailbox', 'Maintain', 'Make', 'Makes', 'Making', 'Male', 'Mallika', 'Man', 'Manchester', 'Mandan', 'Mandy', 'Many', 'Map', 'March', 'Maretare', 'Margaret', 'Mark', 'Marley', 'Married', 'Maruti', 'Marvel', 'Match', 'Mathe', 'Mathews', 'Matrix', 'Matthew', 'Max', 'May', 'Mayb', 'Maybe', 'McFly-All', 'Me', 'Means', 'Meanwhile', 'Meat', 'Meds', 'Meet', 'Meeting', 'Melle', 'Men', 'Merry', 'Message', 'Messages', 'Messaging', 'Met', 'Michael', 'Midnight', 'Might', 'Mila', 'Mileage', 'Miles', 'Milk', 'Min', 'Mind', 'Mine', 'Minimum', 'Minnaminunginte', 'Mins', 'Miserable', 'Misplaced', 'Miss', 'Missed', 'Missing', 'Mite', 'Mittelschmertz', 'Mm', 'Mmm', 'Mmmm', 'Mnths', 'Mob', 'MobStoreQuiz', 'MobcudB', 'Mobile', 'MobileUpd', 'Mobiles', 'MobilesDirect', 'Mobileupd', 'Moby', 'MobyPOBox', 'Mode', 'Moji', 'MojiBiola', 'Mom', 'Moment', 'Moms', 'Mon', 'Monday', 'Money', 'Monthly', 'MonthlySubscription', 'Moon', \"Moon's\", 'Moral', 'More', 'Morning', 'Mornings', 'Most', 'Mostly', 'Mother', 'Mother-in-law', 'Motivate', 'Motorola', 'Mountains', 'Movie', 'Mr', 'Ms.Suman', 'Msg', 'MsgrcvdHG', 'Msgs', 'Mt', 'Mtmsgrcvd', 'Muah', 'Much', 'Muhommad', 'Multiply', 'Mum', 'Mumtaz', \"Mumtaz's\", 'Murdered', 'Music', 'Must', 'Musta', 'Muz', 'Mwahs', 'My', 'MySpace', 'Mystery', 'N', 'N-Gage', 'N-atural', 'N-oble', 'N9DX', 'NAKED', 'NAME', 'NBME', 'NEED', 'NEEDS', 'NEFT', 'NEO', 'NETHING', 'NETWORKS', 'NEVA', 'NEVER', 'NEW', 'NEWAY', 'NEWQUAY-SEND', 'NHS', 'NIC', 'NICE', 'NICHOLS', 'NIGHT', 'NITE', 'NITW', 'NO', 'NOK', 'NOKIA', 'NONE', 'NOT', 'NOTHING', 'NOW', 'NOWHERE', 'NR31', 'NRI', 'NTT', 'NUMBER', 'NUMBER-SO', 'NVQ', \"NY's\", 'NY-USA', 'NYTHO', 'Nah', 'Name', 'Nan', 'Nasdaq', 'Natalie', 'Natalja', 'National', 'Nationwide', 'Natural', 'Nature', 'Near', 'Need', 'Neither', 'Neshanth', 'Netcollex', 'Network', 'Networking', 'Neva', 'Never', 'Neville', 'New', 'Neway', 'Newport', 'News', 'Next', 'Ni8', 'Nic', 'Nice', 'Nice.nice.how', 'Nick', 'Nickey', 'Nigeria', 'Nigh', 'Night', 'Nights', 'Nikiyu4.net', 'Nimbomsons', 'Nimya', 'Nite', 'No', 'No1', 'NoWorriesLoans.com', 'Nobody', 'Noice', 'Nokia', 'Nokias', 'None', 'Nookii', 'Nooo', 'Nope', 'Norcorp', 'Normal', 'Normally', 'Not', 'Nothin', 'Nothing', 'Nottingham', 'November', 'Now', 'Nowadays', 'Nt', 'Number', 'Number.Respectful', 'Nurungu', 'Nutter', 'Nver', 'Nvm', 'Nw', 'Nyt', 'O', 'O2', 'O2FWD', 'OF', 'OFF', 'OFFICE', 'OFSI', 'OFTEN', 'OH', 'OJA', 'OK', 'OKDEN', 'OLD', 'OLI', 'ON', 'ONCALL', 'ONE', 'ONLY', 'ONLYFOUND', 'ONTO', 'OPT', 'OR', 'ORANGE', 'OREOS', 'OTBox', 'OTHERWISE', 'OUR', 'OURBACKS', 'OUT', 'OUTL', 'OUTSOMEWHERE', 'OVER', 'OVERDOSE', 'Obviously', 'Ocean', 'Of', 'Ofcourse', 'Off', 'Offer', 'Oh', 'Oi', 'Oic', 'Ok', 'Ok.ok', 'Okay', 'Okey', 'Okie', 'Okies', 'Okors', 'Ola', 'Old', 'Olol', 'Omg', 'Omw', 'On', 'Onam', 'Once', 'One', 'Onion-Rs', 'Only', 'Onum', 'Ooh', 'Oooh', 'Ooooh', 'Oops', 'Open', 'Opinion', 'Opt', 'Opt-out', 'OptOut', 'Optout', 'Or', 'Orange', 'Oranges', 'Orchard', 'Order', 'Organizer', 'Orh', 'Oru', 'Other', 'Others', 'Otherwise', 'Our', 'Out', 'Over', 'Oyea', 'Oz', 'P', 'PA', 'PARENTS', 'PARIS', 'PARIS.FREE', 'PARK', \"PARTNER'S\", 'PARTY', 'PASS', 'PAUL', 'PAY', 'PAYED', 'PC', 'PEACH', 'PERIL', 'PERSOLVO', 'PERSON', 'PETE', 'PETEXXX', 'PETROL', 'PHONE', 'PHP', 'PIC', 'PICK', 'PICS', 'PICSFREE', 'PIN', 'PISS', 'PIX', 'PLAY', 'PLEASE', 'PLEASSSEEE', 'PLS', 'PLUS', 'PM', 'PO', 'PO19', 'POBOX', 'POBOXox', 'POBox', 'POD', 'POINT', 'POKKIRI', 'POLY', 'POLYC', 'POLYPHONIC', 'POLYS', 'POOR', 'PORN', 'PORTIONS', 'POST', 'POSTCARD', 'POWER', 'PPL', 'PREMIER', 'PRESCHOOLCO-ORDINATOR', 'PRICE', 'PRIVACY', 'PRIVATE', 'PRIZEAWAITING', 'PROBLEM', 'PROBPOP', 'PROBTHAT', 'PROPERLY', 'PS', 'PSP', 'PSXTRA', 'PT2', 'PUB', 'PUTTIN', 'PX3748', 'Pa', 'Package', 'Pain', 'Painful', 'Panasonic', 'Pandy', 'Pansy', 'Panther', 'Parents', 'Paris', 'Park', 'Part', \"Party's\", 'Pass', 'Passwords', 'Pathaya', 'Patrick', 'Pavanaputra', 'Payee', 'Peace', 'Peaceful', 'Penny', 'People', 'Per', 'Perhaps', 'Peripherals', 'Persian', 'Person', 'Personality', 'Pest', 'Pete', 'Petey', 'Petrol-Rs', 'Pg', 'Ph', 'Pharmacy', 'Phil', 'Phoenix', 'Phone', 'Phony', 'Pic', 'Pick', 'Pics', 'Pie', 'Piggy', 'Pilates', 'Pin', 'Pink', 'Pity', 'Pix', 'Pl', 'PlanetTalkInstant.com', 'Platt', 'Play', 'Player', 'Playin', 'Please', 'Pleasure', 'Pls', 'Plus', 'Plyr', 'Plz', 'Po', 'PoBox', 'PocketBabe.co.uk', 'Points', 'Police', 'Polo', 'Poly', 'Polyphonic', 'Polys', 'Poop', 'Poor', 'Popcorn', 'Pose', 'Potter', 'Pound', 'Poyyarikatur', 'Prabha', 'Prabu', 'Prakesh', 'Prasanth', \"Prashanthettan's\", 'Pray', 'Prayrs', 'Predicte', 'Prem', 'Premarica.kindly', 'Prepare', 'President', 'Presleys', 'Press', 'Prey', 'Price', 'Princess', 'Printer', 'Prize', 'Pro', 'Probably', 'Problms', 'Prof', 'Promo', 'Promotion', 'Props', 'Proverb', 'Provided', 'Pshew', 'Psychiatrist', 'Psychic', 'Psychologist', 'Ptbo', 'Pub', 'Purity', 'Purple', 'PushButton', 'Put', 'Putting', 'Q', 'QJKGIGHJJGCBL', 'QUITE', 'QUITEAMUZING', 'Qatar', 'Qatar.Rakhesh', 'QlynnBV', 'Que', 'Queen', 'Queries', 'Ques', 'Question', 'Questions', 'Quick', 'Quite', 'Quiz', 'Quiz.Win', 'Quote', 'R', 'R836', 'RALLY', 'RANDOM', 'RANG', 'RCT', 'READ', 'REAL', 'REALISE', 'REALITY', 'REALLY', 'REALLYNEED', 'REALY', 'REBEL', 'RECD', 'RECEIVE', 'RECPT', 'RED', 'REGRET', 'REMEMBER', 'REMINDER', 'REPLY', 'REPLYS', 'REPORT', 'RETURN', 'REVEAL', 'REVISION', 'REWARD', 'RG21', 'RGENT', 'RIGHT', 'RING', 'RINGS', 'RINGTONE', 'RISE', 'RITE', 'ROMCAPspam', 'ROOM', 'ROSES', 'RP176781', 'RSTM', 'RT-KIng', 'RTM', 'RTO', 'RUDI', 'RV', 'RVx', 'RWM', 'Racal', 'Rain', 'Raining', 'Raj', 'Raji', 'Rajitha', 'Rajnikant', 'Rakhesh', 'Rally', 'Ramaduth', 'Randy', 'Ranjith', 'Ranju', 'Rate', 'Rats', 'Raviyog', 'Rayman', 'Re', 'Reach', 'Reaction', 'Read', 'Reading', 'Ready', 'Real', 'Really', 'Realy', 'Reason', 'Received', 'Reckon', 'Records', 'Red', 'Ref', 'Reference', 'Reflection', 'Refused', 'Regards', 'Registered', 'Remember', 'RememberI', 'Remembered', 'Remembr', 'Remembrs', 'Remind', 'Reminder', 'Reminding', 'Remove', 'Rent', 'Rental', 'Reply', 'Requests', 'Resend', 'Response', 'Reverse', 'Rgds', 'Ride', 'Right', 'Rightio', 'Ring', 'Ringtone', 'Ringtones', 'Rock', 'Rodds', 'Rodger', 'Rofl', 'Roger', 'Romantic', 'Ron', 'Rose', 'Row', 'Rs', 'Rum', 'Ryder', 'S', \"S'fine\", 'S.this', 'S3XY', 'S89', 'SAD', 'SAE', 'SAID', 'SAM', 'SAME', 'SARY', 'SAT', 'SAT.LOVE', 'SATTHEN', 'SAUSAGE', 'SAW', 'SAY', 'SCARY', 'SCOOL', 'SCOTLAND', 'SD', 'SED', 'SEE', 'SEEING', 'SEEMED', 'SEEN', 'SELFINDEPENDENCE', 'SELFISH', 'SEND', 'SENDS', 'SENT', 'SERIOUSLY', 'SERVICES', 'SERVs', 'SEX', 'SEXYCHAT', 'SF', 'SHAME', 'SHE', 'SHEFFIELD', 'SHESIL', 'SHIT', 'SHIT.JUSTFOUND', 'SHITIN', 'SHITINNIT', 'SHOP', 'SHOULD', 'SHOW', 'SHOWR', 'SHUDVETOLD', 'SI', 'SIB', 'SIM', 'SIMPLE', 'SING', 'SIR', 'SITUATION', 'SIX', 'SK3', 'SK38XH', 'SK38xh', 'SKY', 'SLAP', 'SLEEP', 'SLEEPING', 'SLEEPINGWITH', 'SLEPT', 'SLO', 'SMILEY', 'SMS', 'SMSSERVICES', 'SN', 'SNAP', 'SNORING.THEY', 'SO', 'SOFA', 'SOIREE', 'SOMEONE', 'SOMETHIN', 'SOMETHING', 'SONY', 'SOO', 'SOON', 'SOONLOTS', 'SORRY', 'SORTED', 'SOUND', 'SOUNDING', 'SOZ', 'SP', 'SPAM', 'SPECIAL', 'SPECIALE', 'SPEEDCHAT', 'SPIDER', 'SPINOUT', 'SPJanuary', 'SPK', 'SPOOK', 'SPORT', 'SPORTSx', 'SPTV', 'SPUN-OUT', 'ST', 'STAPATI', 'STAR', 'STARS', 'START', 'STATION', 'STIL', 'STILL', 'STOP', 'STOPBCM', 'STOPCS', 'STORE', 'STORES', 'STRIKE', 'STU', 'STUDENT', 'STUDENTFINANCIAL', 'STUDY', 'STUPID', 'STaY', 'SUBPOLY', 'SUE', 'SUM', 'SUMMER', 'SUMTHIN', 'SUNDAY', 'SUPER', 'SURE', 'SURPRISE', 'SUZY', 'SW7', 'SW73SS', 'SWAN', 'SWAP', 'SWAT', 'SWEET', 'SWITCH', 'SYMPTOMS', 'SaLL', 'Sac', 'Sad', 'Saeed', 'Safe', 'Sagamu', 'Said', 'Salad', 'Salam', 'Sale', 'Sam', 'Same', 'Sankatmochan', 'Sankranti', 'Santa', 'Sar', 'Sara', 'Sarcasm', 'Saristar', 'Sary', 'Sat', 'Saturday', 'SavaMob', 'SavaMob-member', 'Save', 'Saw', 'Say', 'Says', 'Scared', 'School', 'Schools', 'Science', 'Scoring', 'Scotch', 'Scotsman', 'Sday', 'Search', 'Second', 'Secret', 'Secured', 'See', 'Seem', 'Select', 'Sen', 'Send', 'Sender', 'Sending', 'Sends', 'Sent', 'Senthil', 'Sept', 'Serena', 'Serious', 'Service', 'Services', 'Set', 'Seventeen', 'Sex', 'Sexy', 'Sez', 'Sh', 'Shah', 'Shahjahan', \"Shahjahan's\", 'Shakespeare', 'Shall', 'Shampain', 'Shanil', 'Shant', 'Shb', 'She', \"She'll\", \"She's\", 'Sherawat', 'Shhh', 'Shifad', 'Shijas', 'Shijutta', 'Shinco', 'Shiny', 'Shit', 'Shivratri', 'Shola', 'Shop', 'Shop.We', 'Shopping', 'Shoranur', 'Short', 'Shoul', 'Should', 'Show', 'ShrAcomOrSglSuplt', 'Shuhui', 'Si', 'Si.como', 'SiPix', 'Sian', 'Silent', 'Simple', 'Simply', 'Simpsons', 'Since', 'Sinco', 'Sindu', 'Single', 'Singles', 'Sir', 'Sirji', 'Sister', 'Sitting', 'Siva', 'SkilGme', 'SkillGame', 'Skip', 'Sky', 'Slaaave', 'Sleep', 'Sleeping', 'Sleepwell', 'Slept', 'Slide', 'Slow', 'Slowly', 'Small', 'SmartCall', 'Smile', 'Smiling', 'Smith', 'Smith-Switch', 'Sms', 'Snd', 'So', 'Sol', 'Sold', 'Solve', 'Some', 'Somebody', 'Someone', 'Someonone', 'Something', 'Sometimes', 'Somewhr', 'Sonetimes', 'Sony', 'SonyEricsson', 'Soon', 'Sorry', 'Sort', 'Sos', 'Soul', 'Sounds', 'Soup', 'South', 'Space', 'Spain', 'Spanish', 'Speak', 'Speaking', 'Special', 'Spending', 'Spider-man', 'Spiral', 'Spl', 'SplashMobile', 'Splat', 'Spoke', 'Spook', 'Spoons', 'Spose', 'Sppok', 'Spring', 'Sprint', 'Sptv', 'Squeeeze', 'Squishy', 'Sry', 'St', 'Staff', 'StarWars', 'Start', 'Started', 'Starting', 'Starts', 'Statement', 'Stay', 'Staying', 'StdTxtRate', 'Stereophonics', 'StewartSize', 'Still', 'Stockport', 'Stop', 'Storming', 'Stream', 'Street', 'Strip', 'Strokes', 'Strong-Buy', 'Student', 'Studying', 'Stuff', 'Stupid', 'Stupid.its', 'Stylish', 'Stylist', 'Sub', 'Subs', 'Subscribe', 'Subscriber', 'Subscription', 'Subscriptn', 'Such', 'Sugababes', 'Suganya', 'Sugar', 'Suite', 'Sullivan', 'Summer', 'Summers', 'Sun', 'Sunday', 'Sunscreen', 'Sunshine', 'Sup', 'Super', 'Superb', 'Suprman', 'Sure', 'Surely', 'Surly', 'Sux', 'Swayze', 'Sweet', 'Sweetest', 'Sweetheart', 'Swtheart', 'Symbol', 'Sympathetic', 'Syria', 'T', \"T's\", 'T-Mobile', 'T-ruthful', 'T91', 'TA', 'TAJ', 'TAKE', 'TALK', 'TALKBUT', 'TALKED', 'TALKIN', 'TALKING', 'TAMPA', 'TAROT', 'TASTS', 'TBS', 'TC', 'TC-LLC', 'TCR', 'TCs', 'TEL', 'TELL', 'TELLMISS', 'TERMINATED.WE', 'TEX', 'TEXD', 'TEXT', 'TEXTBUDDY', 'TEXTCOMP', 'TEXTPOD', 'TEXTS', 'TH', 'THAN', 'THANKS', 'THANX', 'THASA', 'THAT', 'THATMUM', 'THE', 'THEACUSATIONS', 'THECD', 'THEMOB', 'THEN', 'THERE', \"THERE'S\", 'THESE', 'THEW', 'THING', 'THINK', 'THIS', 'THNQ', 'THO', 'THOSE', 'TIME', 'TISSCO', 'TITLE', 'TO', 'TOBED', 'TOCALL.SHALL', 'TODAY', 'TOME', 'TOMORROW', 'TOMORW', 'TONE', 'TONES', 'TONEXS', 'TONIGHT', 'TONITE', 'TOOL', 'TOP', 'TOPLAY', 'TOTAL', 'TOTALLY', 'TOWN', 'TOWN.DONTMATTER', 'TROUBLE', 'TRUBLE', 'TRUE', 'TRY', 'TS', 'TULIP', 'TV', 'TWILIGHT', 'TX', 'TXT', 'TXTAUCTION', 'TXTstar', 'Ta', \"Ta's\", 'Ta-Daaa', 'TaKe', 'Taka', 'Take', 'Takecare', 'Takin', 'Talk', 'Tata', 'Tayseer', 'Tb', 'Tea', 'Teach', 'Teacher', 'Teachers', 'Team', 'Tear', 'Tears', 'Tease', 'Tee', 'Tel', 'Telephonic', 'Teletext', 'Tell', 'Ten', 'Tenants', 'Tenerife', 'Tension', 'Teresa', 'Terms', 'Termsapply', 'Terry', 'Tessy', 'Test', 'Text', 'TextOperator', 'Texting', 'Thank', 'Thanks', 'Thanku', 'Thankyou', 'Thanx', 'That', \"That'll\", \"That's\", 'Thats', 'The', 'TheDailyDraw', 'TheMob', 'Them', 'Then', 'Theoretically', 'Theory', 'There', \"There'll\", \"There're\", \"There's\", 'These', 'They', \"They're\", 'Theyre', 'Thgt', 'Thing', 'Things', 'Think', 'Thinkin', 'Thinking', 'Thinks', 'This', 'Thk', 'Thnx', 'Tho', 'Those', 'Though', 'Thought', 'Thout', 'Thts', 'Thurs', 'Thursday', 'Thx', 'Thy', 'Tick', 'Tickets', 'Tiger', 'Till', 'Tim', 'Time', 'Tired', 'Tis', 'Titles', 'Tiwary', 'Tmorrow.pls', 'Tmr', 'Tmrw', 'TnC', 'TnCs', 'To', 'Toa', 'Today', \"Today's\", 'Today-sunday', 'Todays', 'Toledo', 'Toll', 'Tom', 'Tomarrow', 'Tomorrow', 'Tone', 'Tones', 'Tonight', 'Too', 'Took', 'Tooth', 'Top', 'Total', 'Touch', 'Tour', 'Toxic', 'Trackmarque', 'Traditions', 'Traffic', 'Transaction', 'Trav', 'Travel', 'Treat', 'Triple', 'True', 'Truro', 'Trust', 'Truth', 'Try', 'Trying', 'Ts', 'TsCs', 'TsandCs', 'Tsunami', 'Tsunamis', 'Ttyl', 'Tues', 'Tuesday', 'Tunde', 'Tunji', 'Turns', 'Twelve', 'Twiggs', 'Twinks', 'Twittering', 'Two', 'Txt', 'Txt250.com', 'TxtNO', 'Txting', 'Txts', 'Tyler', 'Tyrone', 'U', \"U'll\", \"U're\", \"U've\", 'U-find', 'U.CALL', 'U2MORO', 'U4', 'UAWAKE', 'UIN', 'UK', \"UK's\", 'UK-mobile-date', 'UKs', 'UNBELIEVABLE', 'UNDERSTaND', 'UNI', \"UNICEF's\", 'UNLIMITED', 'UP', 'UP.YEH', 'UP4', 'UPDAT', 'UR', 'URE', 'URFEELING', 'URGENT', 'URGOIN', 'URGRAN', 'URN', 'URSELF', 'US', 'USED', 'USER', 'Ubi', 'Ugadi', 'Ugh', 'Uh', 'Uhhhrmm', 'Ujhhh', 'Uks', 'Ultimate', 'Ultimately', 'Umma', 'Ummma.will', 'Ummmaah', 'UnSub', 'Unbreakable', 'Uncle', 'Under', 'Understand', 'Unfortunately', 'Uni', 'United', 'University', 'Unkempt', 'Unless', 'Unlike', 'Unlimited', 'Unni', 'Unsecured', 'Unsub', 'Unsubscribe', 'Untamed', 'Until', 'Up', 'Upd', 'Update', 'Update_Now', 'UpgrdCentre', 'Ups', 'Uptown', 'Ur', 'Urgent', 'Urgh', 'Us', 'Use', 'Usf', 'Usher', 'Usmle', 'Usually', 'Uve', 'V', 'V-aluable', \"VALENTINE'S\", 'VALENTINES', 'VALUED', 'VAT', 'VCo', 'VE', 'VIA', 'VIDEO', 'VILLA', 'VIOLENCE', 'VIOLET', 'VIP', 'VIVEKANAND', 'VPOD', 'VU', 'Valentine', 'Valentines', 'Valid', 'Values', 'Vatian', 'Vegas', 'Velly', 'Velusamy', 'Verify', 'Very', 'Vettam', 'ViVa', 'Video', 'Videophones', 'Videos', 'Vijay', 'Vikky', 'Village', 'Virgin', 'Voda', 'Vodafone', 'Vodka', 'Voila', 'Vote', 'Voucher', 'Vouchers', 'Vry', 'W', 'W1', 'W111WX', 'W14RG', 'W1A', 'W1J', 'W1J6HL', 'W1JHL', 'W1j6HL', 'W4', 'W45WQ', 'WA14', 'WAIT', 'WAITING', 'WALES', 'WANNA', 'WANNATELL', 'WANT', 'WAP', 'WAS', 'WAY', 'WAY2SMS.COM', 'WC1N', 'WC1N3XX', 'WE', 'WEDLUNCH', 'WEEK', 'WELL', 'WELLDA', 'WEN', 'WENT', 'WENWECAN', 'WERE', 'WEREBORED', 'WERETHE', 'WHASSUP', 'WHAT', 'WHEN', 'WHERE', 'WHICH', 'WHILE', 'WHITE', 'WHO', 'WHORE', 'WHY', 'WID', 'WIFE', 'WILD', 'WILL', 'WIN', 'WINNER', 'WISH', 'WISHING', 'WITH', 'WITHOUT', 'WIV', 'WK', 'WKEND', 'WKENT', 'WOKE', 'WOMAN', 'WOMEN', 'WON', 'WONT', 'WORDS', 'WORK', 'WORLD', 'WORRIED', 'WORRY', 'WOT', 'WOTU', 'WOULD', \"WOULDN'T\", 'WOW', 'WRC', 'WRK', 'WRKIN', 'WRLD', 'WRONG', 'WTF', 'WWW.ASJESUS.COM', 'Wa', 'Waaat', 'Wah', 'Wahleykkum.sharing', 'Wait', 'Waiting', 'Wake', 'Walk', 'Wan', 'Wana', 'Wanna', 'Want', 'Wanting', 'Waqt', 'Warm', 'Warner', 'Was', \"Wasn't\", 'Waste', 'Wasted', 'Wat', \"Wat's\", 'Watch', 'Watching', 'Water', 'Wating', 'Watr', 'Wats', 'Waves', 'We', \"We'd\", \"We'll\", \"We're\", \"We've\", 'WeBeBurnin', 'WeLL', 'Webpage', 'Wed', 'WeddingFriend', 'Wednesday', 'Weekly', 'Weightloss', 'Weiyi', 'Welcome', 'Well', 'Welp', 'Wen', 'Wendy', 'Went', 'Were', 'Westlife', 'Wet', 'Wewa', 'What', \"What's\", 'Whatever', 'Whats', 'Whatsup', 'When', \"When're\", \"When's\", 'Whenevr', 'Whens', 'Where', \"Where's\", 'Wherevr', \"Wherre's\", 'Which', 'Who', \"Who's\", 'Whom', 'Whos', 'Why', 'Wicklow', 'Wif', 'Wife', 'Wife.how', 'Wil', 'Will', 'Win', 'Wine', 'Wings', 'Winner', 'WinnersClub', 'Winning', 'Wins', 'Wipe', 'Wire3.net', 'Wish', 'Wishing', 'With', 'Wk', 'Wkly', 'Wld', 'Wn', 'Wnevr', 'Woke', 'Woman', 'Won', 'Wondering', 'Wont', 'Woo', 'Woodland', 'Woods', 'Woohoo', 'Words.Evry', 'Work', 'Working', 'World', 'Worth', 'Wot', 'Wotz', 'Would', 'Wow', 'Wright', 'Wrong', 'Wtf', 'Wud', 'Wuld', 'Wun', 'Wylie', 'X', 'X2', 'X29', 'X49', 'X49.Your', 'XCHAT', 'XCLUSIVE', 'XMAS', 'XX', 'XXUK', 'XXX', 'XXXMobileMovieClub', 'Xavier', 'Xmas', 'XoXo', 'Xuhui', 'Xx', 'XxX', 'Xy', 'Y', 'Y87', 'YA', 'YEAH', 'YEAR', 'YEARS', 'YEH', 'YES', 'YEST', 'YESTERDAY', 'YET', 'YHL', 'YM', 'YMCA', 'YO', 'YOR', 'YOU', \"YOU'RE\", \"YOU'VE\", 'YOUR', 'YOURJOB', 'YRS', 'Ya', 'Yahoo', 'Yalru', 'Yar', 'Yavnt', 'Yaxx', 'Yaxxx', 'Yay', 'Yeah', 'Year', 'Years', 'Yeesh', 'Yeh', 'Yellow', 'Yelow', 'Yen', 'Yep', 'Yes', 'Yes.he', 'Yes.mum', 'Yest', 'Yesterday', 'Yet', 'Yetunde', 'Yo', 'Yogasana', 'You', \"You'd\", \"You'll\", \"You're\", \"You've\", 'Youi', 'Your', 'Yours', 'Yourself', 'Yoyyooo', 'Yummm', 'Yummy', 'Yun', 'Yunny', 'Yup', 'Yupz', 'Z', 'ZOE', 'ZOUK', \"Zaher's\", 'Zebra', 'Zindgi', 'Zogtorius', '[', '\\\\', ']', '^', '_', '___', 'a', 'a30', 'aa', 'aathi', 'abdomen', 'abel', 'abi', 'ability', 'abj', 'able', 'abnormally', 'about', 'above', 'abroad', 'absence', 'absolutely', 'absolutly', 'abstract', 'abt', 'aburo', 'abuse', 'abusers', 'ac', 'academic', 'acc', 'accent', 'accenture', 'accept', 'access', 'accessible', 'accidant', 'accident', 'accidentally', 'accommodation', 'accomodate', 'accomodations', 'accordin', 'accordingly', 'accordingly.or', 'account', \"account's\", 'accounting', 'accumulation', 'achan', 'ache', 'achieve', 'acid', 'acknowledgement', 'across', 'act', 'acted', 'actin', 'acting', 'action', 'activ', 'activate', 'activities', 'actor', 'actual', 'actually', 'ad', 'add', 'added', 'addicted', 'addie', 'adding', 'address', 'adds', 'adewale', 'adi', 'adjustable', 'admin', 'administrator', 'admirer', 'admission', 'admit', 'adore', 'adoring', 'adress', 'ads', 'adsense', 'adult', 'adults', 'advance', 'adventure', 'adventuring', 'advice', 'advise', 'advising', 'advisors', 'aeroplane', 'affair', 'affairs', 'affection', 'affectionate', 'affidavit', 'afford', 'afghanistan', 'afraid', 'africa', 'african', 'aft', 'after', 'afternon', 'afternoon', 'afterwards', 'aftr', 'again', 'against', 'agalla', 'age', 'agency', 'agent', 'agents', 'ages', 'agidhane', 'aging', 'ago', 'agree', 'ah', 'ah.now', 'ah.the', 'aha', 'ahead', 'ahold', 'aid', 'aids', 'aight', \"ain't\", 'aint', 'air', 'airport', 'airtel', 'ajith', 'ak', 'aka', 'al', 'albi', 'album', 'album-quite', 'alcohol', 'alert', 'alerts', 'alex', \"alex's\", 'alfie', 'algebra', 'algorithms', 'ali', 'alian', 'alibi', 'alive', 'alive.better', 'all', \"all's\", 'allah', 'allalo', 'allday', 'alle', 'allow', 'allowed', 'allows', 'almost', 'alone', 'along', 'alot', 'already', 'alright', 'alright.Okay', 'alrite', 'alrite.have', 'also', 'also.or', 'alter', 'alternative.hope', 'although', 'alwa', 'always', 'alwys', 'am', 'amazing', 'ambitious', 'american', 'amigos', 'amk', 'amma.Rakhesh.Qatar', 'ammae', 'ammo', 'amnow', 'among', 'amongst', 'amore', 'amount', 'amplikater', 'ams', 'amt', 'amused', 'an', 'ana', 'analysis', 'anand', 'and', 'anderson', 'andre', 'andres', 'andrews-boy', 'andros', 'angels', 'angry', 'animal', 'animation', 'anjie', \"anjola's\", 'anna', 'annie', 'anniversary', 'annoncement', 'announced', 'announcement', 'annoyin', 'annoying', 'anonymous', 'anot', 'another', 'ans', 'ansr', 'answer', 'answered', 'answerin', 'answering', 'answers', 'answr', 'antha', 'anthony', 'anti', 'antibiotic', 'any', 'anybody', \"anybody's\", 'anyhow', 'anymore', 'anyone', 'anyones', 'anyplaces', 'anythiing', 'anythin', 'anything', \"anything's\", 'anythingtomorrow', 'anytime', 'anyway', 'anyways', 'anywhere', 'apart', 'apartment', 'apes', 'apeshit', 'aphex', 'apo', 'apologetic', 'apologise', 'apologize', 'apology', 'app', 'apparently', 'appeal', 'appear', 'appendix', 'applebees', 'apples', 'application', 'apply', 'applyed', 'applying', 'appointment', 'appointments', 'appreciate', 'appreciated', 'approaches', 'approaching', 'appropriate', 'approve', 'approved', 'approx', 'apps', 'appt', 'april', 'aproach', 'apt', 'aptitude', 'aquarius', 'ar', 'arab', 'archive', 'ard', 'are', 'area', \"aren't\", 'arent', 'arestaurant', 'aretaking', 'argentina', 'argh', 'argue', 'arguing', 'argument', 'arguments', 'arise', 'arises', 'arithmetic', 'arm', 'armand', \"armand's\", 'armenia', 'arms', 'arng', 'arnt', 'around', 'aroundn', 'arrange', 'arranging', 'arrested', 'arrival', 'arrive', 'arrived', 'arsenal', 'art', 'artists', 'arts', 'arty', 'arun', 'as', 'asa', 'asap', 'asap.ok', 'asda', 'ashes', \"ashley's\", 'ashwini', 'asia', 'ask', 'askd', 'asked', 'askin', 'asking', 'asks', 'asleep', 'aspects', 'ass', 'assessment', 'asshole', 'assistance', 'associate', 'asssholeee', 'assume', 'assumed', 'asthma', 'astne', 'astoundingly', 'astrology', 'asus', 'at', 'atHome', 'ate', 'atlanta', 'atlast', 'atm', 'atrocious', 'attach', 'attached', 'attack', 'attempt', 'atten', 'attend', 'attended', 'attending', 'attention', 'attitude', 'attraction', 'attracts', 'attributed', 'auction', 'audiitions', 'audition', \"audrey's\", 'aunt', 'aunties', 'aunts', 'aunty', \"aunty's\", 'aust', 'authorise', 'auto', 'autocorrect', 'av', 'availa', 'available', 'available.they', 'avalarr', 'avatar', 'avble', 'ave', 'avent', 'avenue', 'avin', 'avo', 'avoid', 'avoiding', 'avoids', 'await', 'awaiting', 'awake', 'award', 'awarded', 'away', 'awesome', 'awkward', 'ax', 'ayn', 'ayo', 'b', \"b'coz\", \"b'day\", 'b4', 'b4190604', 'b4280703', 'ba', 'babe', 'babes', 'babies', 'baby', 'babyjontet', 'babysit', 'babysitting', 'bac', 'back', 'backdoor', 'bad', 'badass', 'badly', 'bag', 'bags', 'baig', 'bak', 'bakra', 'bakrid', 'balance', 'baller', 'balloon', 'bambling', 'band', 'bandages', 'bang', 'bangb', 'bank', 'banks', 'banned', 'banter', 'bao', 'bar', 'barcelona', 'bare', 'barely', 'bari', 'barolla', 'barred', 'barrel', 'barring', 'bars', 'base', 'bash', 'basic', 'basically', \"basket's\", 'basketball', 'basq', 'bat', 'batch', 'batchlor', 'bath', 'bathe', 'bathing', 'bathroom', 'batsman', 'batt', 'battery', 'battle', 'bawling', 'bay', 'bb', \"bb's\", 'bc', 'bcaz', 'bck', 'bcoz', 'bcum', 'bcums', 'bcz', 'bday', 'be', 'beach', 'beads', 'bear', 'bears', 'beatings', 'beauties', 'beautiful', 'beauty', 'bec', 'because', 'becausethey', 'become', 'becoz', 'becz', 'bed', 'bedbut', 'bedreal', 'bedrm', 'bedroom', 'beeen', 'beehoon', 'been', 'beendropping', 'beer', 'beers', 'befor', 'before', 'before.went', 'beforehand', 'beg', 'beggar', 'begging', 'begin', 'begins', 'begun', 'behalf', 'behave', 'behind', 'bein', 'being', 'believe', 'belive', 'bell', 'bellearlier', 'belligerent', 'belly', 'belong', 'belongs', 'belovd', 'beloved', 'belt', 'ben', 'bend', 'beneath', 'beneficiary', 'benefits', 'beside', 'best', 'bet', 'beta', 'betta', 'better', 'bettr', 'between', 'beverage', 'bevies.waz', 'beyond', 'bf', 'bffs', 'bfore', 'bhaji', 'bhaskar', 'bhayandar', 'bian', 'biatch', 'bid', 'bids', 'big', 'bigger', 'biggest', 'bike', 'bill', 'billed', 'billion', 'bills', 'billy', 'bilo', 'bimbo', 'bin', \"biola's\", 'bird', 'birds', 'birla', 'birth', 'birthdate', 'birthday', 'bishan', 'bit', 'bitch', 'bitching', 'bite', 'bites', 'bk', 'black', 'blackberry', 'blah', \"blake's\", 'blame', 'blank', 'blanked', 'blanket', 'blankets', 'blastin', 'bleak', 'bleh', 'bless', 'bless.get', 'blessed', 'blessing', 'blessings', 'blimey', 'block', 'blocked', 'blog', 'blogging', 'bloke', \"bloke's\", 'blonde', 'bloo', 'blood', 'bloody', 'bloomberg.com', 'blow', 'blowing', 'blown', 'blue', 'bluff', 'blur', 'bluray', 'board', 'boat', 'body', 'boggy', 'bold', 'bollox', 'bomb', 'bone', 'bong', 'bonus', 'boo', 'boobs', 'book', 'booked', 'bookedthe', 'booking', 'books', 'bookshelf', 'boost', 'booty', 'bootydelious', 'borderline', 'bored', 'borin', 'boring', 'born', 'borrow', 'boss', 'boston', 'bot', 'both', 'bother', 'bothering', 'bottle', 'bottom', 'bought', 'boundaries', 'bout', 'bowa', 'bowl', 'bowls', 'box', 'boy', 'boy-y', 'boye', 'boyfriend', 'boys', 'boytoy', 'bpo', 'brah', 'brain', 'braindance', 'brains', 'brainy', 'brand', 'bras', 'brats', 'braved', 'bread', 'breadstick', 'break', 'breakfast', 'breaking', 'breaks', 'breath', 'breathe', 'breather', 'breathing', 'breeze', 'breezy', 'bribe', 'bridge', 'bridgwater', 'brief', 'bright', 'brighten', 'brilliant', 'brilliantly', 'brin', 'bring', 'bringing', 'brings', 'brisk', 'brison', 'bro', 'broad', 'broke', 'broken', 'brolly', 'bros', 'broth', 'brothas', 'brother', 'brothers', 'brought', 'brownie', 'brownies', 'browse', 'browser', 'browsin', 'bruce', 'brum', 'bruv', 'bsn', 'bsnl', 'bt', 'btw', 'btwn', 'bucks', 'bud', 'buddys', 'budget', 'buen', 'buff', 'buffet', 'bugis', 'build', 'building', 'built', 'bulbs', 'bullshit', 'bunch', 'bundle', 'bunkers', 'buns', 'burden', 'burger', 'burgundy', 'burial', 'burn', 'burning', 'burns', 'burnt', 'burrito', 'bus', 'buses', 'busetop', 'business', 'busty', 'busy', 'but', 'butt', 'butting', 'buttons', 'buy', 'buyer', 'buyers', 'buying', 'buzy', 'buzz', 'bw', 'bx420', 'by', 'bye', 'c', \"c's\", 'cThen', 'cabin', 'cafe', 'cage', 'cake', 'cakes', 'cal', 'calculated', 'calculation', \"cali's\", 'calicut', 'california', 'call', 'call.drove', 'call.urgent', 'callback', 'callcost', 'calld', 'called', 'caller', 'callertune', 'callin', 'calling', 'calling.Forgot', 'callon', 'calls', 'calm', 'cam', 'camcorder', 'came', 'camera', 'camp', 'campus', 'camry', 'can', \"can't\", 'can.dont', 'canada', 'canal', 'cancel', 'canceled', 'cancelled', 'cancer', 'canlove', \"cann't\", 'canname', 'cannot', 'cant', 'cantdo', 'canteen', 'capacity', 'capital', 'cappuccino', 'caps', 'captain', 'captaining', 'car', 'car.so', 'card', 'cardiff', 'cardin', 'cards', 'care', 'care.insha', 'care.umma', 'careabout', 'cared', 'career', 'careful', 'carefully', 'careless', 'cares', 'caring', 'carlin', 'carlos', 'carly', 'carolina', 'caroline', 'carpark', 'carry', 'carryin', 'cars', 'cartons', 'cartoon', 'case', 'cash', 'cash-balance', 'cash-in', 'cashed', 'cashto', 'casing', 'cast', 'casting', 'castor', 'casualty', 'cat', 'catch', 'catches', 'catching', 'categories', 'caught', 'cause', 'causes', 'causing', 'cave', 'caveboy', 'cbe', 'cc100p', 'ccna', 'cd', 'cedar', 'ceiling', 'celeb', 'celebrate', 'celebration', 'cell', 'census', 'center', 'centre', 'century', 'cereals', 'certainly', 'certificate', 'cha', 'chad', 'chain', 'challenge', 'challenging', 'champ', 'champlaxigating', 'champneys', 'chance', 'chances', 'change', 'changed', 'changes', 'changing', 'channel', 'chapel', 'chaps', 'chapter', 'character', 'characters', 'charge', 'charged', 'charges', 'charity', 'charles', 'charlie', 'charming', 'chart', 'charts', 'chase', 'chasing', 'chastity', 'chat', 'chatter', 'chatting', 'cheap', 'cheaper', 'cheat', 'cheating', 'chechi', 'check', 'checkboxes', 'checked', 'checking', 'checkup', 'cheek', 'cheers', 'cheery', 'cheese', 'cheesy', 'cheetos', 'chennai', 'cheque', 'cherish', 'cherthala.in', 'chess', 'chest', 'chex', 'cheyyamo', 'chez', 'chg', 'chgs', 'chic', 'chick', 'chicken', 'chickened', 'chief', 'chik', 'chikku', 'child', \"child's\", 'childish', 'childporn', 'children', 'chile', 'chill', 'chillaxin', 'chillin', 'china', 'chinchillas', 'chinese', 'chinky', 'chinnu', 'chiong', 'chip', 'chocolate', 'choice', 'choices', 'choose', 'choosing', 'chop', 'chords', 'chores', 'chosen', 'chrgd', 'christ', 'christmas', 'christmassy', 'chuck', 'chuckin', 'church', 'cine', 'cinema', 'citizen', 'city', 'citylink', 'claim', 'claimcode', 'claims', 'claire', 'clarification', 'clarify', 'clark', 'clas', 'clash', 'class', 'classes', 'classmates', 'claypot', 'cld', 'clean', 'cleaning', 'clear', 'cleared', 'clearer', 'clearing', 'clearly', 'clever', 'click', 'cliff', 'cliffs', 'clip', 'clock', 'clocks', 'close', 'closeby', 'closed', 'closer', 'closes', 'closingdate', 'cloth', 'clothes', 'cloud', 'clover', 'club', 'club4mobiles.com', 'clue', 'cm', 'cme', 'cmon', 'cn', 'cnl', 'coach', 'coast', 'coat', 'coaxing', 'coccooning', 'cochin', 'cock', 'cocksuckers', 'coco', 'code', 'coffee', 'coherently', 'coimbatore', 'coin', 'coincidence', 'coins', 'colany', 'cold', 'collages', 'collapsed', 'collect', 'collected', 'collecting', 'collection', 'colleg', 'college', 'color', 'colour', 'colourful', 'colours', 'com', 'comb', 'combination', 'combine', 'come', 'comedy', 'comes', 'comfey', 'comfort', 'comin', 'coming', 'coming.tmorow', 'comingdown', 'command', 'comment', 'commercial', 'commit', 'common', 'community', 'comp', 'comp.ofstuff', 'companies', 'company', 'compare', 'compensation', 'competition', 'complacent', 'complain', 'complaining', 'complaint', 'complementary', 'complete', 'completed', 'completely', 'completes', 'completing', 'complexities', 'complimentary', 'comprehensive', 'compromised', 'compulsory', 'computational', 'computer', 'computerless', 'computers', 'comuk', 'conacted', 'concentrate', 'concentrating', 'concentration', 'concern', 'concert', 'conclusion', 'condition', 'conditions', 'conducts', 'conected', 'conference', 'confidence', 'configure', 'confirm', 'confirmd', 'confirmed', 'conform', 'confused', 'confuses', 'congrats', 'congratulation', 'connect', 'connected', 'connection', 'connections', 'cons', 'consensus', 'consent', 'conserve', 'consider', 'considering', 'consistently', 'console', 'constant', 'constantly', 'contact', 'contacted', 'contacts', 'contains', 'content', 'contented', 'contents', 'continent', 'continue', 'continued', 'contract', 'contribute', 'control', 'convenience', 'conversations', 'converted', 'converter', 'convey', 'conveying', 'convince', 'convincing', 'cook', 'cooked', 'cookies', 'cooking', 'cool', 'cooped', 'cooperative', 'copied', 'copies', 'coping', 'cops', 'copy', 'corect', 'cornwall', 'corporation', 'corrct', 'correct', 'correction', 'correctly', 'corrupt', 'corvettes', 'cos', 'cosign', 'cost', 'costing', 'costs', 'costume', 'costumes', 'couch', 'cough', 'coughing', 'could', 'coulda', 'couldn', \"couldn't\", 'count', 'countin', 'country', 'counts', 'coupla', 'couple', 'courage', 'course', 'court', 'courtroom', 'cousin', 'cover', 'coveragd', 'covers', 'coz', 'cozy', 'cr', 'crab', 'crammed', 'cramps', 'crap', 'crash', 'crashed', 'crashing', 'crave', 'craving', 'craziest', 'crazy', 'crckt', 'cream', 'created', 'creative', 'creativity', 'credit', 'credited', 'credits', 'creep', 'creepy', 'cres', 'cricket', 'cricketer', 'crickiting', 'cried', 'crisis', 'crore', 'cross', 'crossing', 'crowd', 'crucial', 'cruise', 'cruisin', 'crushes', 'cry', 'csBCM', 'cst', 'cstore', 'ctla', 'cts', 'cuck', 'cud', 'cuddle', 'cuddled', 'cuddling', 'cudnt', 'cultures', 'cum', 'cumin', 'cumming', 'cup', 'cupboard', 'cuppa', 'curfew', 'curious', 'current', 'currently', 'curry', 'curtsey', 'cust', 'custcare', 'custom', 'customer', 'customers', 'customersqueries@netvision.uk.com', 'cut', 'cute', 'cutest', 'cutie', 'cutting', 'cuz', 'cya', 'cyclists', 'cysts', 'd', 'da', 'dabbles', 'dad', \"dad's\", 'daddy', 'daily', 'damn', 'dancce', 'dance', 'dancin', 'dancing', 'dane', 'dang', 'danger', 'dangerous', 'dao', 'dare', 'dark', 'darker', 'darkest', 'darkness', 'darlin', 'darling', 'darlings', 'darren', 'dartboard', 'dat', \"dat's\", 'data', 'date', 'dates', 'dating', 'dats', 'dawns', 'day', 'days', 'days.he', 'days.so', 'days.will', 'daytime', 'daywith', 'de', 'de.am', 'dead', 'deal', 'dealer', \"dealer's\", 'dealing', 'deals', 'dear', 'dear-loving', 'dear.Rakhesh', 'dear.take', 'dear.with', 'dearer', 'dearly', 'death', 'debating', 'dec', 'decades', 'decide', 'decided', 'deciding', 'decimal', 'decision', 'decisions', 'deck', 'decking', 'decorating', 'dedicate', 'dedicated', 'deduct', 'deep', 'deepak', 'deepest', 'deer', 'def', 'defeat', 'defer', 'definite', 'definitely', 'definitly', 'degree', 'degrees', 'dehydrated', 'dehydration', 'del', 'delTOMORROW', 'delay', 'delayed', 'delete', 'deleted', 'delicious', 'deliver', 'delivered', 'delivery', 'deluxe', 'dem', 'demand', 'den', 'dengra', 'denis', 'dent', 'dental', 'dentist', 'dentists', 'deny', 'denying', 'department', 'dependents', 'depends', 'deposit', 'deposited', 'depressed', 'depression', 'dept', 'der', 'derek', \"derek's\", 'describe', 'description', 'desert', 'deserve', 'desk', 'desparate', 'desparately', 'desperate', 'despite', 'dessert', 'destination', 'destiny', 'detail', 'detailed', 'details', 'determine', 'deus', 'develop', 'developed', 'developer', 'device', 'devouring', 'dey', 'dha', 'dhanush', 'dhina', 'dhoni', 'dhorte', 'di', 'dial', 'dialling', 'dialogue', 'diamond', 'diamonds', 'diapers', 'dice', 'dick', 'dict', 'dictionary', 'did', \"did'nt\", \"did't\", 'diddy', 'didn', \"didn't\", 'didnt', 'didntgive', 'die', 'died', 'diesel', 'diet', 'dieting', 'diff', 'differ', 'differ.be', 'difference', 'differences', 'different', 'difficult', 'difficulties', 'dificult', 'digi', 'digital', 'digits', 'dignity', 'dime', 'dimension', 'din', 'dine', 'dined', 'dinero', 'ding', 'dining', 'dinner', 'dinner.msg', 'dint', 'dippeditinaDEW', 'direct', 'directly', 'director', 'directors', 'dirt', 'dirtiest', 'dirty', 'dis', 'disagreeable', 'disappeared', 'disappointment', 'disaster', 'disasters', 'disastrous', 'disc', 'disclose', 'disconnected', 'discount', 'discreet', 'discuss', 'discussed', 'disk', 'dislikes', 'dismay', 'dismissial', 'display', 'distance', 'distract', 'disturb', 'disturbance.might', 'disturbing', 'divert', 'division', 'divorce', 'diwali', 'dl', 'dled', 'dnt', 'do', 'do.Interested', 'dob', 'dobby', \"dobby's\", 'doc', 'dock', 'docs', 'doctor', 'doctors', 'documents', 'dodda', 'dodgey', 'does', 'doesn', \"doesn't\", 'doesnt', 'dog', 'dogg', 'doggin', 'dogging', 'doggy', 'dogs', 'dogwood', 'doin', 'doinat', 'doing', 'doke', 'dokey', 'dollar', 'dollars', 'domain', 'don', \"don't\", 'donate', 'done', 'donno', 'dont', 'donyt', 'dooms', 'door', 'doors', 'dorm', 'dose', 'dosomething', 'dot', 'double', 'double-faggot', 'doubles', 'doubt', 'doug', 'dough', 'down', 'download', 'downloaded', 'downloads', 'downs', 'downstem', 'dr', 'drama', \"dramastorm's\", 'dramatic', 'drastic', 'draw', 'draws', 'dreading', 'dream', 'dream.love', 'dreams', 'dress', 'dressed', 'dresser', 'drink', 'drink.pa', 'drinkin', 'drinking', 'drinks', 'drive', 'driver', 'drivin', 'driving', 'drizzling', 'drms', 'drms.take', 'drop', 'dropped', 'drops', 'drove', 'drpd', 'drug', 'drugdealer', 'drugs', 'drum', 'drunk', 'drunkard', 'drunken', 'drvgsTo', 'dry', 'dryer', \"dsn't\", 'dt', 'dual', 'dub', 'dubsack', 'ducking', 'dude', 'dudes', 'dudette', 'due', 'duffer', 'dull', 'dumb', 'dump', 'dun', 'dungerees', 'dunno', 'duo', 'durban', 'durham', 'during', 'dusk', 'dust', 'duvet', 'dvg', 'dwn', 'dying', 'dysentry', 'e', 'e-mail', 'e-threats', 'ea', 'each', 'ear', 'earlier', 'earlier-we', 'earliest', 'early', 'earn', 'earning', 'ears', 'earth', 'easier', 'easiest', 'easily', 'east', 'easter', 'easy', 'eat', 'eaten', 'eatin', 'eating', 'ebay', 'ec2a', 'ecstacy', 'ecstasy', 'edge', 'edhae', 'edition', 'edrunk', 'education', 'educational', 'edukkukayee', 'edward', 'edwards', 'ee', 'eerie', 'eerulli', 'effect', 'effects', 'efficient', 'efreefone', 'eg', 'egg', 'egg-potato', 'eggs', 'eggs-pert', 'ego', 'eh', 'eight', 'eighth', 'eightish', 'either', 'el', 'ela', 'elaborate', 'elaborating', 'elaine', 'elama', 'elaya', 'eldest', 'elections', 'electricity', 'elephant', 'elliot', 'else', 'elsewhere', 'em', 'email', 'emailed', 'embarassed', 'embarassing', 'embarrassed', 'embassy', 'emergency', 'emerging', 'emigrated', 'employee', \"employer's\", 'empty', 'en', 'end', 'ended', 'ending', 'endless', 'endof', 'endowed', 'ends', 'enemies', 'enemy', 'energy', 'eng', 'engaged', 'engagement', 'engalnd', 'engin', 'england', 'english', 'enjoy', 'enjoyed', 'enjoying', 'enketa', 'ennal', 'enough', 'ente', 'enter', 'entered', 'enters', 'entertain', 'entertaining', 'entey', 'entire', 'entirely', 'entitled', 'entrepreneurs', 'entropication', 'entry', 'enuff', 'envelope', 'envy', 'epi', 'eppolum', 'epsilon', 'equally', \"er'ything\", 'ericson', 'ericsson', 'erode', 'erotic', 'error', 'errors', 'ertini', 'eruku', 'erupt', 'esaplanade', 'escalator', 'escape', 'ese', 'eshxxx', \"espe'll\", 'especially', 'esplanade', 'essay', 'essential', 'establish', 'eta', 'etc', 'ethnicity', 'ettans', 'europe', 'evaluation', 'evaporated', 'eve', 'eveB', 'even', 'evening', 'evenings', 'event', 'events', 'eventually', 'ever', 'every', 'everybody', \"everybody's\", 'everyboy', 'everyday', 'everyone', 'everyones', 'everyso', 'everything', 'everywhere', 'evey', 'eviction', 'evil', 'evn', 'evng', 'evo', 'evry', 'evrydy', 'ex', 'ex-wife', 'exact', 'exactly', 'exam', 'exams', 'excellent', 'except', 'exchanged', 'excited', 'exciting', 'excuse', 'excused', 'excuses', 'exe', 'executive', 'exercise', 'exeter', 'exhaust', 'exhausted', 'exhibition', 'exist', 'exmpel', 'expect', 'expecting', 'expects', 'expensive', 'experience', 'experiencehttp', 'experiment', 'expert', 'expired', 'expiry', 'explain', 'explicit', 'explicitly', 'exposed', 'exposes', 'express', 'expression', 'ext', 'exterminator', 'extra', 'extract', 'ey', 'eye', 'eyes', 'f', 'fab', 'faber', 'face', 'facebook', 'facilities', 'fact', 'factory', 'facts', 'faded', 'faggy', 'faglord', 'failed', 'failing', 'failure', 'fainting', 'fair', 'faith', 'fake', \"fakeye's\", 'fal', 'falconerf', 'fall', 'fallen', 'falling', 'falls', 'fals', 'famamus', 'familiar', 'family', 'famous', 'fan', 'fancied', 'fancies', 'fancy', 'fans', 'fantasies', 'fantastic', 'fantasy', 'far', 'farm', 'farting', 'fassyole', 'fast', 'fast.pls', 'faster', 'fastest', 'fat', 'fated', 'father', 'fathima', 'fats', 'fatty', 'fault', 'fav', 'fave', 'favor', 'favorite', 'favour', 'favourite', 'fb', 'fear', 'feathery', 'features', 'feb', 'feb-april', 'february', 'fed', 'fedex', 'feed', 'feel', 'feelin', 'feeling', 'feeling.wavering', 'feels', 'fees', 'feet', 'fell', 'fellow', 'felt', 'female', 'feng', 'festival', 'fetch', 'fetching', 'fever', 'few', 'fgkslpo', 'fgkslpoPW', 'fidalfication', 'field', 'fiend', 'fifteen', 'fifth', 'fight', 'fighting', 'fightng', 'fights', 'figure', 'figures', 'figuring', 'file', 'files', 'fill', 'filled', 'filling', 'fills', 'film', 'films', 'filthy', 'filthyguys', 'final', 'finalise', 'finally', 'finance', 'financial', 'find', 'finding', 'finds', 'fine', 'fine.Inshah', 'fingers', 'finish', 'finishd', 'finished', 'finishes', 'finishing', 'fink', \"finn's\", 'fire', 'fired', 'firefox', 'fireplace', 'fires.Are', 'firmware', 'firsg', 'first', 'fish', 'fishhead', 'fishrman', 'fit', 'fiting', 'five', 'fix', 'fixd', 'fixed', 'fixedline', 'fixes', 'flag', 'flaked', 'flaky', 'flame', 'flash', 'flat', 'flatter', 'flavour', 'flea', 'fletcher', 'flew', 'flies', 'flight', 'flights', 'flim', 'flip', 'flippin', 'flirt', 'flirting', 'floating', 'flood', 'floor', 'floppy', 'florida', 'flow', 'flower', 'flowers', 'flowing', 'fluids', 'flurries', 'flute', 'fly', 'flying', 'flyng', 'fml', 'fne', 'fo', 'fold', 'folks', 'follow', 'followed', 'followin', 'following', 'follows', 'fond', 'fondly', 'fone', 'fones', 'food', 'fool', 'fooled', 'foot', 'football', 'footbl', 'footie', 'footprints', 'footy', 'for', 'force', 'forced', 'foregate', 'foreign', 'forever', 'forevr', 'forfeit', 'forget', 'forgets', 'forgive', 'forgiven', 'forgiveness', 'forgot', 'forgotten', 'forgt', 'form', 'formal', 'formally.Pls', 'format', 'formatting', 'forms', 'forms.don', 'forth', 'fortune', 'forum', 'forums', 'forward', 'forwarded', 'forwarding', 'found', 'four', 'fourth', 'foward', 'fowler', 'fox', 'fps', 'fr', 'fraction', 'frank', 'frauds', 'freak', 'freaked', 'freaking', 'freaky', 'free', 'free-send', 'freedom', 'freefone', 'freek', 'freely', 'freezing', 'fren', \"fren's\", 'french', 'frens', 'frequently', 'fret', 'fri', 'friday', 'friday.hope', 'fridays', 'fridge', 'fried', 'friend', \"friend's\", 'friend-of-a-friend', 'friends', 'friendsare', 'friendship', 'friendships', 'fring', 'fringe', 'frm', 'frnd', 'frndZ', 'frnds', 'frndship', 'frndshp', 'frndsship', 'frnt', 'fro', 'frog', 'from', 'fromm', 'front', 'frontierville', 'frosty', 'fruit', 'frwd', 'frying', 'ft', 'fuck', \"fuck's\", 'fucked', 'fuckin', 'fucking', 'fucks', 'fuelled', 'fujitsu', 'ful', 'fulfil', 'full', 'fullonsms.com', 'fumbling', 'fun', 'function', 'functions', 'fund', 'fundamentals', 'funeral', 'funk', 'funky', 'funny', 'funs', 'furniture', 'further', 'fusion', 'future', 'fyi', 'g', \"g's\", 'g696ga', 'gET', 'gOoD', 'ga', 'gain', 'gained', 'gal', 'gal-can', 'gal-no', 'galileo', 'gals', 'game', 'games', 'gandhipuram', 'ganesh', 'gang', 'gap', 'gaps', 'garage', 'garbage', 'garden', 'gari', 'garments', 'gas', 'gastroenteritis', 'gate', 'gauge', 'gautham', 'gauti', 'gave', 'gay', 'gayle', 'gays', 'gaytextbuddy.com', 'gbp', 'gd', 'gdeve', 'ge', 'gee', 'gei', 'gek', 'general', 'generally', 'genes', 'genius', 'gentle', 'gentleman', 'gently', 'genuine', 'genus', 'gep', 'ger', 'get', 'getiing', 'geting', 'gets', 'getsleep', 'getstop', 'gettin', 'getting', 'getzed.co.uk', 'gf', 'ghodbandar', 'gibbs', 'gibe', 'gift', 'gifted', 'giggle', 'gigolo', 'gimme', 'girl', 'girlfrnd', 'girlie', 'girls', 'gist', 'giv', 'give', 'given', 'gives', 'giving', 'glad', 'glands', 'glasgow', 'glass', 'glo', 'global', 'glorious', 'glory', 'gloucesterroad', 'gn', 'gnun', 'go', 'go.wait', 'go2', 'go2sri', 'goal', 'goals', 'gobi', 'god', \"god's\", 'god.You', 'god.not', 'goes', 'goggles', 'goigng', 'goin', 'going', 'gold', 'golden', 'goldviking', 'gon', 'gona', 'gone', 'gong', 'gonna', 'gooD', 'good', 'good.environment', 'goodies', 'goodmate', 'goodnight', 'goodnite', 'goods', 'google', 'gorgeous', 'gossip', 'got', 'gota', 'gotany', 'goto', 'gotta', 'gotten', 'gotto', 'goverment', 'govt.instituitions', 'gprs', 'gpu', 'gr8', 'gr8prizes', 'grab', 'grace', 'graduated', 'gram', 'grams', 'grand', 'grandfather', 'grandma', 'grandmas', 'granted', 'graphics', 'grasp', 'grateful', 'grave', 'gravy', 'gray', 'gre', 'great', 'great.bye', 'greatest', 'greatly', 'greatness', 'greece', 'green', 'greet', 'greeting', 'greetings', 'grief', 'grinder', 'grins', 'grinule', 'grocers', 'grooved', 'groovy', 'groovying', 'ground', 'ground.amla', 'group', 'grow', 'growing', 'grown', 'grownup', 'grr', 'grumble', 'gt', 'gua', 'guarantee', 'guaranteed', 'gucci', 'gud', 'guess', 'guessed', 'guesses', 'guessing', 'guidance', 'guide', 'guides', 'guilty', 'guitar', 'guoyang', 'gut', 'guy', \"guy's\", 'guys', 'gv', 'gving', 'gym', 'gymnastics', 'gynae', 'h', 'ha', 'habba', 'habit', 'had', \"hadn't\", 'haf', 'haha', 'hai', 'hail', 'hair', 'haircut', 'hairdressers', 'half', 'hall', 'halla', 'ham', 'hamper', 'hamster', 'hand', 'handed', 'handing', 'handle', 'hands', 'handset', 'handsome', 'handsomes', 'hang', 'hanger', 'hangin', 'hanging', 'hanks', 'hannaford', 'happen', 'happend', 'happened', 'happenin', 'happening', 'happens', 'happier', 'happiest', 'happily', 'happiness', 'happy', 'hard', 'hardcore', 'harder', 'hardly', 'harlem', 'harri', 'has', \"hasn't\", 'hasnt', 'hassling', 'hat', 'hate', 'haul', 'haunt', 'hav', 'hava', 'have', 'haven', \"haven't\", 'havent', 'havin', 'having', \"havn't\", 'hdd', 'he', \"he'll\", \"he's\", 'head', 'headache', 'headin', 'heading', 'heads', 'headstart', 'heal', 'healthy', 'heap', 'hear', 'heard', 'hearin', 'hearing', 'heart', 'hearted', 'hearts', 'heat', 'heater', 'heaven', 'heavily', 'heavy', 'hectic', 'hee', 'held', 'helen', 'helens', 'hell', 'hella', 'hello', 'hello-ed', 'help', 'helpful', 'helping', 'helps', 'heltini', 'hen', 'hence', 'hep', 'her', 'her.love', 'her.my', 'her.she', 'her.will', 'here', 'here.pls', 'here.thanks', 'heron', 'herself', 'hes', 'hesitant', 'hesitate', 'hesitation', 'hex', 'hey', 'hi', 'hidden', 'hide', 'hides', 'hiding', 'high', 'highest', 'hilarious-also', 'hill', 'hills', 'hillsborough', 'him', 'himself', 'himso', 'hint', 'hip', 'hiphop', 'hire', 'his', 'history', 'hit', 'hitman', 'hits', 'hitter.anyway', 'hittng', 'hiya', 'hlday', 'hme', 'hmm', 'hmmm', 'ho', 'hockey', 'hogidhe', 'hol', 'hold', 'holder', 'holding', 'hole', 'holiday', 'holla', 'hollalater', 'hols', 'holy', 'home', 'home.check', 'home.left', 'home.love', 'home.wot', 'hon', 'honest', 'honesty', 'honey', 'honeymoon', 'hont', 'hoo', 'hooch', 'hook', 'hooked', 'hoops', 'hop', 'hope', 'hopeSo', 'hoped', 'hopeful', 'hopefully', 'hopeing', 'hopes', 'hoping', 'hor', 'horniest', 'horny', 'horrible', 'horse', 'hos', 'hospital', 'hospitals', 'hostel', 'hostile', 'hot', 'hotel', 'hotels', 'hour', 'hourish', 'hours', 'house', 'houseful', 'housewives', 'housework', 'housing', 'how', \"how're\", \"how's\", \"how've\", 'howard', 'however', 'hows', 'hp', 'hppnss', 'hr', 'hrs', 'hsbc', 'html', 'http', 'http://alto18.co.uk/wave/wave.asp?o=44345', 'http://careers', 'http://doit', 'http://gotbabes.co.uk', 'http://img', 'http://tms', 'http://wap', 'http://www.bubbletext.com', 'http://www.e-tlp.co.uk/expressoffer', 'http://www.e-tlp.co.uk/reward', 'http://www.urawinner.com', 'http://www.wtlp.co.uk/text', 'huai', 'hubby', \"hubby's\", 'hudgi', 'hug', 'huge', 'hugging', 'hugh', 'huh', 'huiming', 'hum', 'humanities', 'humans', 'hun', 'hun-onbus', 'hundred', 'hundred.he', 'hundreds', 'hungover', 'hungry', 'hunks', 'hunny', 'hunt', 'hunting', 'hurricanes', 'hurried', 'hurry', 'hurt', 'hurting', 'hurts', 'husband', 'hussey', 'hustle', 'hut', 'hv', 'hvae', 'hw', \"hw'd\", 'hyde', 'hypertension', 'hypotheticalhuagauahahuagahyuhagga', 'i', \"i'd\", \"i'll\", \"i'm\", \"i've\", 'i.ll', 'iPOD', 'iPod', 'iZ', 'iam', 'ibm', 'ibored', 'ibuprofens', 'ic', 'iccha', 'ice', 'icicibank.com', 'icky', 'icmb', 'icon', 'id', 'id.convey', 'idc', 'idea', \"idea's\", 'ideal', 'ideas', 'identification', 'idiot', 'idk', 'idu', 'ie', 'if', 'iff', 'ignorant', 'ignore', 'ignoring', 'ihave', 'ikea', 'il', 'ill', 'illness', 'im', 'image', 'images', 'imagination', 'imagine', 'imma', 'immed', 'immediately', 'immunisation', 'imp', 'impatient', 'impede', 'implications', 'important', 'importantly', 'imposed', 'impossible', 'imposter', 'impress', 'impressed', 'impression', 'impressively', 'improve', 'improved', 'in', 'in.our', 'in2', 'inc', 'inch', 'inches', 'incident', 'include', 'includes', 'including', 'inclusive', 'incomm', 'inconsiderate', 'inconvenient', 'increase', 'increments', 'inde', 'indeed', 'independently', 'india', 'indian', 'indicate', 'individual', 'individual.time', 'infections', 'infernal', 'influx', 'info', 'info@ringtoneking.co.uk', 'info@txt82228.co.uk', 'inform', 'information', 'informed', 'informed.Rgds', 'infra', 'infront', 'ing', 'ingredients', 'initiate', 'inlude', 'inmind', 'inner', 'innings', 'innocent', 'innu', 'inperialmusic', 'inpersonation', 'insects', 'insha', 'inshah', 'inside', 'inspection', 'inst', 'install', 'installation', 'installing', 'instantly', 'instead', 'instructions', 'insurance', 'intelligent', 'intend', 'intention', 'intentions', 'interest', 'interested', 'interesting', 'interfued', 'internal', 'internet', 'interview', 'interviews', 'intha', 'into', 'intrepid', 'intro', 'intrude', 'invention', 'invest', 'investigate', 'invitation', 'invite', 'invited', 'inviting', 'invnted', 'invoices', 'involve', 'involved', 'iouri', 'ip', 'ip4', 'ipad', 'ipaditan', 'ipads', 'iphone', 'ipod', 'irene.ere', 'iron', 'ironing', 'irritated', 'irritating', 'irritation', 'irulinae', 'is', \"is'LOVE\", 'isComing', 'iscoming', 'ish', 'ishtamayoo', 'island', 'islands', 'isn', \"isn't\", 'isnt', 'issue', 'issues', 'it', \"it's\", 'it.may', 'it.or', 'italian', 'itcould', 'items', 'iter', 'ithink', 'itried', 'its', 'itself', 'itwhichturnedinto', 'itz', 'ivatte', 'ive', 'iz', 'izzit', 'j', 'jabo', 'jack', 'jacket', 'jackson', 'jacuzzi', 'jaklin', 'jam', 'james', 'jamster', 'jamster.co.uk', 'jan', 'janarige', 'jane', 'january', 'jap', 'jas', 'jason', 'java', 'jay', \"jay's\", 'jaya', 'jaykwon', 'jazz', 'jb', 'je', 'jealous', 'jeans', 'jeetey', 'jeevithathile', 'jelly', 'jenne', 'jenny', 'jess', 'jesus', 'jet', 'jetton', 'jewelry', 'ji', 'jiayin', 'jide', 'jiu', 'jo', 'job', 'jobs', 'jocks', 'jod', 'jog', 'jogging', 'john', 'join', 'joined', 'joined.Hope', 'joined.so', 'joining', 'joke', \"joke's\", 'joke--thet', 'joker', 'jokes', 'jokin', 'joking', 'jolly', 'jolt', 'jontin', 'jot', 'journey', 'joy', 'joys', 'jp', 'js', 'jst', 'juan', 'judgemental', 'juicy', 'jules', 'juliana', 'julianaland', 'jump', 'jumpers', 'june', 'jungle', 'jurong', 'jus', 'just', 'justbeen', 'justify', 'justthought', 'juz', 'k', 'k.are', 'k.good', 'k.its', 'k.wish', 'kaaj', 'kadeem', 'kaila', 'kaitlyn', 'kalaachutaarama', 'kalainar', 'kalisidare', 'kallis', 'kalstiya', 'kama', 'kane', 'kanji', 'kano', 'kappa', 'karaoke', 'karnan', 'karo', 'kaypoh', 'kb', 'ke', 'keen', 'keep', 'keeping', 'keeps', 'kegger', 'keluviri', 'kent', 'kept', 'kerala', 'kettoda', 'key', 'keypad', 'keys', 'keyword', 'kfc', 'kg', 'khelate', 'ki', 'kick', 'kickboxing', 'kickoff', 'kicks', 'kid', 'kidding', 'kids', 'kill', 'killed', 'killing', 'kills', 'kilos', 'kind', 'kinda', 'kindly', 'king', 'kintu', 'kip', 'kisi', 'kiss', 'kisses', 'kissing', 'kittum', 'kitty', 'knackered', \"knee's\", 'knees', 'knew', 'knickers', 'knocking', 'know', 'knowing', 'known', 'knows', 'knw', 'ko', 'kochi', 'kodstini', 'kodthini', 'kolathupalayam', 'konw', 'korche', 'korean', 'korli', 'korte', 'kotees', 'kothi', 'ktv', 'kuch', 'kvb', 'kz', 'l', \"l'm\", 'l8', 'l8r', 'l8tr', 'la', 'lab', 'labor', 'lac', 'lacking', 'lacs', 'laden', 'ladies', 'lady', 'lag', 'lage', 'lager', 'laid', 'lakhs', 'lambda', 'lambu', 'lamp', 'land', 'landing', 'landline', 'landlineonly', 'landlines', 'landmark', 'lands', 'lane', 'langport', 'language', 'lanka', 'lanre', 'lap', 'lapdancer', 'laptop', 'lar', 'laready', 'largest', 'lark', 'lasagna', 'last', 'lastest', 'lasting', 'late', 'lately', 'latelyxxx', 'later', 'latest', 'latests', 'latr', 'laugh', 'laughing', 'laughs', 'laundry', 'laurie', 'lautech', 'lavender', 'law', 'laxinorficated', 'layin', 'laying', 'lays', 'lazy', 'le', 'lead', 'leadership', 'leading', 'leads', 'leafcutter', 'league', 'learn', 'learned', 'least', 'leave', 'leaves', 'leaving', 'lect', 'lecture', 'lecturer', 'left', 'leftovers', 'leg', 'legal', 'legitimat', 'legs', 'leh', 'lei', 'lemme', 'length', 'lengths', 'lennon', 'leo', 'leona', \"leona's\", 'leonardo', 'less', 'lesser', 'lesson', 'lessons', 'let', \"let's\", 'lets', 'letter', 'letters', 'level', 'li', 'liao', 'lib', 'library', 'lick', 'licks', 'lido', 'lie', 'lies', 'life', 'life.and', 'life.you', 'lifebook', 'lifeis', 'lifetime', 'lift', 'lifted', 'lifting', 'light', 'lighters', 'lightly', 'lik', 'like', 'liked', 'likely', 'likes', 'lil', 'lim', 'limit', 'limiting', 'limits', 'limping', 'line', 'line--you', 'linear', 'lined', 'linerental', 'lines', 'lingerie', 'lingo', 'link', 'links', 'linux', 'lion', 'lionm', 'lionp', 'lip', 'lipo', 'lips', 'liquor', 'list', 'listed', 'listen', 'listened', 'listener', 'listening', 'listn', 'lists', 'lit', 'literally', 'little', 'live', 'lived', 'liver', 'lives', 'living', 'lk', 'll', 'lmao', 'lnly', 'lo', 'load', 'loads', 'loan', 'loans', 'lobby', 'local', 'location', 'locations', 'lock', 'locks', 'lodge', 'lodging', 'log', 'logged', 'logging', 'login', 'logo', 'logoff', 'logos', 'loko', 'lol', 'londn', 'london', 'loneliness', 'lonely', 'long', 'longer', 'lonlines', 'loo', 'look', 'looked', 'lookin', 'looking', 'looks', 'looovvve', 'loose', 'loosing', 'lor', 'lose', 'losers', 'loses', 'losing', 'loss', 'lost', 'lot', 'lot.will', 'lotr', 'lots', 'lotsly', 'lotsof', 'lotta', 'lotto', 'lotz', 'lou', 'loud', 'lounge', 'lousy', 'lov', 'lovable', 'love', 'love.rakhesh', 'loveJen', 'loved', 'lovely', 'lover', 'loverboy', 'lovers', 'loves', 'lovin', 'loving', 'lovingly', 'lovly', 'low', 'lower', 'lowes', 'loxahatchee', 'loyal', 'loyalty', 'lst', 'lt', 'lttrs', 'lubly', 'luck', 'lucky', 'lucozade.co.uk/wrc', 'luks', 'lunch', 'lunchtime', 'lunsford', 'lush', 'luv', 'luvd', 'luvs', 'luxury', 'lv', 'lyf', 'lyfu', 'lying', 'lyk', 'lyricalladie', 'lyrics', 'm', 'm100', 'm8', 'm8s', 'ma', 'maaan', 'mac', 'machan', 'machi', 'machines', 'macho', 'mack', 'macleran', 'macs', 'mad', 'mad.then', 'madam', 'made', 'madodu', 'madoke', 'madstini', 'madurai', 'mag', 'maga', 'magazine', 'maggi', 'magic', 'magical', 'magicalsongs.blogspot.com', 'mah', 'mahal', 'mahfuuz', 'mail', 'mailed', 'mails', 'main', 'maintaining', 'major', 'make', 'makes', 'makiing', 'makin', 'making', 'malaria', 'malarky', 'male', 'mall', 'man', 'manage', 'manageable', 'managed', 'management', 'manda', 'mandara', 'manege', 'mango', 'maniac', 'manky', 'manual', 'many', 'map', 'mapquest', 'maps', 'maraikara', 'marandratha', 'march', 'margin', 'marine', 'mark', 'market', 'marketing', 'marking', 'marrge', 'marriage', 'married', 'marry', 'mary', 'mas', 'masked', 'massage', 'massages', 'massive', 'masteriastering', 'masters', 'match', 'matches', 'mate', 'mates', 'math', 'mathematics', 'maths', 'matra', 'matric', 'matter', 'matters', 'matured', 'maturity', 'max', 'maximize', 'maximum', 'may', 'mayb', 'maybe', 'mb', 'mc', 'mca', 'mcat', 'mcr', 'me', 'me.Remove', 'me.need', 'me.she', 'meal', 'meals', 'mean', 'meaning', 'meaningful', 'meaningless', 'means', 'meant', 'measure', 'meatballs', 'med', 'medical', 'medicine', 'meds', 'mee', 'meet', 'meetin', 'meeting', 'meetins', 'meets', 'meg', 'mega', 'meh', 'mei', \"mei's\", 'meive', 'mel', 'melody', 'melt', 'member', 'members', 'membership', 'membership.take', 'memorable', 'memories', 'memory', 'men', 'mens', 'mental', 'mention', 'mentioned.tomorrow', 'mentionned', 'mentor', 'menu', 'meow', 'merely', 'merry', 'mesages', 'mess', 'message', 'message.it', 'message.pandy', 'messaged', 'messages', 'messages-Text', 'messenger', 'messy', 'met', 'method', 'mgs', 'mi', 'mia', 'mid', 'middle', 'midnight', 'mids', 'might', 'miiisss', 'miles', 'milk', 'millers', 'million', 'milta', 'min', 'minAPN', 'minMobsmore', 'minMobsmoreLKPOBOX', 'mina', 'mind', 'minded', 'mindset.believe', 'mine', \"mine's\", 'minecraft', 'mini', 'minimum', 'minmoremobsEMSPOBox', 'minor', 'mins', 'mint', 'minus', 'minute', 'minutes', 'minuts', 'miracle', 'mirror', 'mis', 'misbehaved', 'miserable', 'misfits', 'mising', 'miss', 'miss.take', 'misscall', 'missed', 'missin', 'missing', 'missionary', 'missions', 'misss', 'missunderstding', 'mist', 'mistake', 'mistakes', 'misundrstud', 'mite', 'mitsake', 'miwa', 'mj', 'mjzgroup', 'ml', 'mns', 'mnth', 'mo', 'moan', 'mob', 'mobile', 'mobiles', 'mobilesvary', 'mobs', 'mobsi.com', 'moby', 'mode', 'model', 'modl', 'module', 'modules', 'mofo', 'moji', 'mokka', 'molested', 'mom', \"mom's\", 'moment', 'moments', 'moms', 'mon', 'monday', 'mone', 'moneY', 'money', 'monkey', 'monkeys', 'mono', 'monos', 'monster', 'month', \"month's\", 'month.not', 'monthly', 'months', 'mood', 'moon', 'more', 'moreFrmMob', 'morn', 'mornin', 'morning', 'morning.take', 'morphine', 'moseley', 'most', 'mostly', 'mother', 'motherfucker', 'motivating', 'motive', 'motor', 'motorola', 'mountain', 'mouse', 'mouth', 'move', 'moved', 'moves', 'movie', 'movies', 'moving', 'mp3', 'mr', 'mre', 'mrng', 'mrt', 'ms', 'msg', 'msg+ticket@kiosk.Valid', 'msging', 'msgrcvd', 'msgs', 'msn', 'mt', 'mth', 'mths', 'mtmsg', 'mtnl', 'mu', 'much', 'muchand', 'mudyadhu', 'mufti', 'muht', 'multimedia', 'multis', 'mum', \"mum's\", 'mumHas', 'mumbai', 'mummy', \"mummy's\", 'mundhe', 'murali', 'murder', 'murdered', 'murderer', 'mus', 'mush', 'mushy', 'music', 'musical', 'musicnews', 'must', 'musthu', 'mustprovide', 'mutai', 'mutations', 'muz', 'mw', 'my', 'my-tone.com/enjoy', 'mylife', 'mymoby', 'myparents', 'mys', 'myself', 'n', 'n8', 'na', 'na-tuition', 'naal', 'nachos', 'nag', 'nagar', 'nahi', 'nails', 'naked', 'nalla', 'nalli', 'name', 'name.my', 'named', 'names', 'nammanna', 'nan', 'nange', 'nanny', 'nannys', 'nap', 'narcotics', 'naseeb', 'nasty', 'nat', 'national', 'nattil', 'natural', 'nature', 'natwest', 'naughty', 'nauseous', 'nav', 'navigate', 'nb', 'nd', 'ne', 'near', 'nearby', 'nearer', 'nearly', 'necesity', 'necessarily', 'necessary', 'necessity', 'neck', 'necklace', 'ned', 'need', 'needa', 'needed', 'needed.Salary', 'needing', 'needle', 'needs', 'needy', 'neekunna', 'negative', 'neglect', 'neglet', 'neighbor', 'neighbors', 'neither', 'nelson', 'nervous', 'net', 'netflix', 'network', 'networks', 'neva', 'nevamind', 'never', 'nevering', 'nevr', 'new', 'newest', 'news', 'news.By', 'newscaster', 'newspapers', 'next', 'ni8', 'ni8.swt', 'nice', 'nichols', 'nicky', 'nig', 'nigeria', 'night', 'night.nobody', 'nighters', 'nightnight', 'nights', 'nigpun', 'nigro', 'nike', 'ninish', 'nino', 'nipost', 'nit', 'nite', 'nitro', 'nitros', 'nitz', 'njan', 'nmde', 'no', \"no's\", 'nobbing', 'nobody', \"nobody's\", 'noe', 'noi', 'noise', 'noisy', 'nokia', 'nokias', 'noline', 'non', 'noncomittal', 'none', 'nonetheless', 'noon', 'nor', 'nora', 'nordstrom', 'norm', 'normal', 'normally', 'north', 'northampton', 'nos', 'nose', 'nosh', 'nosy', 'not', 'note', 'notebook', 'notes', 'nothin', 'nothing', 'notice', 'notifications', 'notified', 'notixiquating', 'notxt.co.uk', 'noun', 'novelty', 'now', 'now.onion', 'nowadays', 'nt', 'nt.swt', 'nte', 'ntwk', 'nuclear', 'nudist', 'nuerologist', 'num', 'number', 'number.pls', 'numbers', 'nursery', 'nurses', 'nus', 'nusstu', 'nuther', 'nvm', 'nw', 'nxt', 'nyc', 'nydc', 'nyt', 'nz', 'nìte', 'o', 'o2.co.uk/games', 'oath', 'obedient', 'obese', 'obey', 'objection', 'oblisingately', 'oblivious', 'obviously', 'occasion', 'occupied', 'occupy', 'occur', 'occurs', 'oclock', 'october', 'odalebeku', 'odi', 'of', 'off', 'offc', 'offcampus', 'offdam', 'offense', 'offer', 'offered', 'offering', 'offers', 'office', 'office.thenampet', 'officer', 'official', 'officially', 'offline', 'ofice', 'often', 'oga', 'ogunrinde', 'oh', 'oil', 'ok', 'ok.varunnathu', 'okay', 'okday', 'okie', 'okmail', 'ola', 'olage', 'olave', \"olayiwola's\", 'old', 'ollu.but', 'olowoyey', 'olympics', 'omw', 'on', 'on-edge', 'once', 'ondu', 'one', \"one's\", 'ones', 'oni', 'online', 'onluy', 'only', 'only.don', 'onto', 'onwards', 'onwords', 'open', 'opened', 'opener', 'openin', 'opening', 'openings', 'operate', 'operator', 'opinion', 'opinions', 'opponenter', 'opportunity', 'opportunity.all', 'opportunity.pls', 'opposed', 'opposite', 'opps', 'opt', 'opted', 'optimistic', 'optin', 'option', 'optout', 'or', 'or2optout', 'or2stoptxt', 'oral', 'orange', 'orc', 'orchard', 'order', 'ordered', 'ore', 'oredi', 'oreo', 'organise', 'orig', 'original', 'orno', 'ors', 'ortxt', 'oru', 'os', 'oscar', 'oso', 'other', 'others', 'otherwise', 'othrs', 'otside', 'ou', 'ouch', 'our', 'ours', 'out', 'out--have', 'out--if', 'outage', 'outages', 'outbid', 'outdoors', 'outfit', 'outfor', 'outgoing', 'outrageous', 'outreach', 'outs', 'outside', 'outsider', 'outstanding', 'outta', 'ovarian', 'over', 'overa', 'overdid', 'overemphasise.or', 'overheating', 'overtime', 'ovr', 'ovulate.when', 'ovulation', 'ow', 'owe', 'owed', 'owl', 'own', \"own--you've\", 'owned', 'owns', 'owo', 'oxygen', 'oyster', 'oz', 'p', 'pa', 'paces', 'pack', 'pack.also', 'package', 'packing', 'packs', 'padhe', 'page', 'pages', 'pai', 'paid', 'pain', 'pain.it', 'painful', 'paining', 'painting', 'pairs', 'pale', 'palm', 'pan', 'panalam', 'panic', 'panicks', 'panren', 'panties', 'pants', 'pap', 'papa', 'paper', 'papers', 'paperwork', 'paracetamol', 'parachute', 'parade', 'paragon', 'paragraphs', 'paranoid', 'parantella', 'parchi', 'parco', 'parent', 'parents', 'parish', 'park', 'parked', 'parkin', 'parking', 'part', 'participate', 'particular', 'particularly', 'parties', 'partner', 'partnership', 'parts', 'party', 'paru', 'pases', 'pass', 'pass.They', 'passable', 'passed', 'passes', 'passion', 'passionate', 'passport', 'password', 'past', 'pataistha', 'patent', 'path', 'paths', 'patients', 'pattern', 'patty', \"patty's\", 'pause', 'pax', 'pay', 'payasam', 'payback', 'payed', 'paying', 'payment', 'payments', 'payoh', 'paypal', 'pc', 'pdate_Now', 'peace', 'peaceful', 'peak', 'pears', 'pee', 'peeps', 'pehle', 'pei', 'pen', 'pence', 'pendent', 'pending', 'penis', 'people', 'peoples', 'per', 'perWKsub', 'percent', 'percentages', 'perf', 'perfect', 'perform', 'performance', 'performed', 'perfume', 'perhaps', 'period', 'permanent', 'permission', 'permissions', 'perpetual', 'persevered', 'person', 'person.Meet', 'personal', 'personally', 'persons', 'perspective', 'perumbavoor', 'perweeksub', 'pes', 'pesky', 'petrol', 'pg', 'ph', 'phasing', 'phd', 'phews', 'philosophical', 'philosophy', 'phne', 'phone', \"phone's\", 'phonebook', 'phoned', 'phones', 'photo', 'photos', 'photoshop', 'phrase', 'physics', 'piah', 'pic', 'pick', 'picked', 'picking', 'pickle', 'pics', 'picture', 'pictures', 'pie', 'piece', 'pieces', 'pierre', 'pig', 'pilates', 'pile', 'pillows', 'pimples', 'pin', 'pink', 'pints', 'pisces', 'piss', 'pissed', 'pix', 'pixels', 'pizza', 'place', 'place.No', 'placed', 'placement', 'places', 'plaid', 'plan', 'plane', 'planet', 'planned', 'planning', 'plans', 'plate', 'play', 'played', 'player', 'player.why', 'players', 'playing', 'playng', 'plaza', 'pleasant', 'please', 'pleased', 'pleasure', 'pleasured', 'plenty', 'plm', 'ploughing', 'pls', 'plum', 'plumbers', 'plumbing', 'plural', 'plus', 'plz', 'pm', 'pmmorefrommobile', 'pmt', 'po', 'pocay', 'pocked', 'pockets', 'pocy', 'poem', 'poet', 'point', 'points', 'poker', 'poking', 'pole', 'police', 'politicians', 'poly', 'polyH', 'polyPH', 'polypH', 'polyphonic', 'polys', 'pongal', 'ponnungale', 'poo', 'pooja', 'pookie', 'pool', 'poop', 'poor', 'poorly', 'poortiyagi', 'pop', 'popcorn', 'popped', 'popping', 'porn', 'porridge', 'port', 'portal', 'portege', 'posh', 'posible', 'position', 'positions', 'positive', 'possession', 'possessive', 'possessiveness', 'possibility', 'possible', 'possibly', 'post', 'postal', 'postcode', 'posted', 'posting', 'postponed', 'posts', 'potato', 'potential', 'pouch', 'pound', 'pounded', 'pounds', 'poured', 'pours', 'pouts', 'power', 'powerful', 'ppermessSubscription', 'ppl', 'pple', 'ppm', 'ppt', 'prabha', 'pract', 'practical', 'practice', 'practicing', 'practicum', 'practising', 'praises', 'prakasam', 'prakasamanu', 'praps', 'prasad', 'pray', 'prayers', 'praying', 'praying.will', 'pre', 'pre-book', 'predict', 'predicting', 'prediction', 'predictive', 'prefer', 'preferably', 'prem', 'premium', 'prepaid', 'prepare', 'prepared', 'prepayment', 'preponed', 'prescribed', 'prescripiton', 'prescription', 'presence', 'present', 'presents', 'presnts', 'press', 'pressies', 'pressure', 'prestige', 'pretend', 'pretsorginta', 'pretsovru', 'pretty', 'prevent', 'previews', 'previous', 'previously', 'prey', 'price', 'prices', 'pride', 'priest', 'prin', 'prince', 'princes', 'princess', 'print', 'printed', 'printing', 'prior', 'priority', \"priscilla's\", 'privacy', 'private', 'prix', 'priya', 'prize', 'prize.To', 'prizes', 'prizesWith', 'prob', 'probably', 'problem', 'problem-free', 'problematic', 'problems', 'problum', 'probs', 'process', 'process.Excellent', 'process.networking', 'processed', 'prods', 'products', 'professional', 'professors', 'profile', 'profiles', 'profit', 'program', 'programs', 'progress', 'project', 'projects', 'prolly', 'prometazine', 'prominent', 'promise', 'promised', 'promises', 'promoting', 'promptly', 'prompts', 'prone', 'proof', 'proove', 'proper', 'properly', 'property', 'propose', 'propsd', 'pros', 'prospects', 'protect', 'prove', 'provided', 'provider', 'province', 'proze', 'prsn', 'ps3', 'pthis', 'pub', 'public', 'publish', 'pubs', 'pudunga', 'pull', 'pulling', 'pulls', 'pump', 'punch', 'punish', 'punishment', 'punj', 'punto', 'puppy', 'pura', 'purchase', 'purchases', 'pure', 'purpose', 'purse', 'push', 'pushes', 'pussy', 'put', 'puts', 'puttin', 'putting', 'puzzeles', 'puzzles', 'qatar', 'qbank', 'qet', 'qi', 'qing', 'quality', 'quarter', 'queen', 'question', 'questioned', 'questions', 'quick', 'quickly', 'quiet', 'quit', 'quite', 'quitting', 'quiz', 'quizclub', 'quizzes', 'quote', 'quoting', 'r', 'racing', 'radiator', 'radio', 'raed', 'rael', 'raglan', 'rahul', 'raiden', 'railway', 'rain', 'raining', 'raise', 'raised', 'rajas', 'rajini', 'rakhesh', 'raksha', 'ralphs', 'ramen', 'ran', 'random', 'randomlly', 'randomly', 'randy', 'rang', 'range', 'raping', 'rate', 'rates', 'rather', 'ratio', 'rawring', 'rayan', 'rays', 'rcb.battle', 'rcd', 'rcv', 'rcvd', 'rd', 'rdy', 're', 're-met', 're-schedule', 're-send', 're-sub', 'reLation', 'reach', 'reache', 'reached', 'reaching', 'reacting', 'reaction', 'read', 'readers', 'readiness', 'reading', 'ready', 'ready.all', 'real', 'realise', 'realised', 'realising', 'reality', 'realize', 'realized', 'realizes', 'really', 'realy', 'reapply', 'rearrange', 'reason', 'reasonable', 'reasons', 'reassurance', 'reassuring', 'reboot', 'rebooting', 'rebtel', 'rec', 'recd', 'receipt', 'receipts', 'receive', 'receivea', 'received', 'receiving', 'recent', 'recently', 'reception', 'recession', 'recharge', 'recharged', 'recieve', 'reckon', 'recognise', 'recognises', 'record', 'recorded', 'recorder', 'records', 'recount', 'recovery', 'recreation', 'recycling', 'red', 'redeemable', 'reduce', 'ree', 'ref', 'reference', 'references', 'referin', 'reffering', 'refilled', 'reflex', 'reformat', 'refreshed', 'refund', 'refunded.This', 'refused', 'reg', 'regard', 'regarding', 'regards', 'register', 'registered', 'registration', 'regret', 'regretted', 'regular', 'rejected', 'related', 'relation', 'relationship', 'relatives', 'relax', 'relaxing', 'released', 'reliant', 'relieved', 'religiously', 'relocate', 'reltnship', 'rem', 'remain', 'remains', 'remb', 'remember', 'remembered', 'remembr', 'remind', 'reminded', 'reminder', 'reminding', 'reminds', 'remixed', 'removal', 'remove', 'removed', 'rencontre', 'renewal', 'renewed', 'renewing', 'rent', 'rental', 'renting', 'rentl', 'rents', 'repair', 'repairs', 'repeat', 'repeating', 'repent', 'replace', 'replacement', 'replacing', 'replied', 'replies', 'reply', 'reply.Be', 'replying', 'report', 'reppurcussions', 'representative', 'republic', 'request', 'requests', 'require', 'required', 'requirements', 'requires', 'research', 'resent', 'reservations', 'reserve', 'reserved', 'reserves', 'reset', 'residency', 'resizing', 'reslove', 'resolution', 'resolved', 'resort', 'respect', 'respectful', 'responce', 'respond', 'responding', 'response', 'responsibilities', 'responsibility', 'responsible', 'rest', 'restaurant', 'restock', 'restocked', 'restrict', 'restrictions', 'resubbing', 'resubmit', 'result', 'results', 'resume', 'resuming', 'retard', 'retired', 'retrieve', 'return', 'returned', 'returning', 'returns', 'reunion', 'reveal', 'revealed', 'revealing', 'review', 'revision', 'reward', 'rewarding', 'rhode', 'rhythm', 'rice', 'rich', 'riddance', 'ridden', 'ride', 'right', 'rightly', 'rights', \"riley's\", 'rimac', 'ring', 'ringing', 'ringtone', 'ringtone-get', 'ringtoneking', 'ringtones', 'rinu', 'rip', 'ripped', 'risk', 'risks', 'rite', 'ritten', 'river', 'road', 'roads', 'roast', 'rob', 'robinson', 'robs', 'rock', 'rocking', 'rocks', 'rofl', 'roger', 'role', 'roles', 'rolled', 'roller', 'romantic', 'ron', \"ron's\", 'room', 'roomate', 'roommate', \"roommate's\", 'roommates', 'rooms', 'ros', 'rose', 'rough', 'round', 'rounder', 'rounds', 'route', 'row', 'rows', 'royal', 'rpl', 'rply', 'rr', 'rs', 'ru', 'rub', 'rubber', 'rude', 'rugby', 'ruin', 'ruining', 'rule', 'rules', 'rumbling', 'rummer', 'rumour', 'run', 'running', 'running.lets', 'runs', 'rupaul', 'rush', 'rushing', 'ryan', \"ryan's\", 's', 's.nervous', 'sOOn', 'sabarish', 'sachin', 'sachin.just', 'sack', 'sacked', 'sacrifice', 'sad', 'safe', 'safely', 'safety', 'saibaba', 'said', 'sake', 'salary', 'sale', 'sales', 'salesman', 'salmon', 'salon', 'salt', 'samachara', 'samantha', 'sambar.life', 'same', 'samus', 'sandiago', 'sane', 'sang', 'sao', 'sapna', 'sar', 'sarasota', 'sarcasm', 'sarcastic', 'sariyag', 'sashimi', 'sat', 'satanic', 'sathy', 'sathya', 'satisfied', 'satisfy', 'satsgettin', 'saturday', 'saucy', 'save', 'saved', 'saves', 'savings', 'saw', 'say', 'sayhey', 'sayin', 'saying', 'says', 'sayy', 'sc', 'scallies', 'scammers', 'scarcasim', 'scared', 'scary', 'scenario', 'scenery', 'sch', 'schedule', 'school', 'schools', 'science', 'scold', 'scorable', 'score', 'scores', 'scotland', 'scouse', 'scraped', 'scrappy', 'scratches', 'scratching', 'scream', 'screamed', 'screaming', 'screen', 'screwd', 'scrounge', 'scrumptious', 'sculpture', 'sd', 'sdryb', 'se', 'sea', 'search', 'searching', 'season', 'seat', 'sec', 'second', 'secondary', 'seconds', 'secret', 'secretary', 'secretly', 'secrets', 'secs', 'section', 'sections', 'secure', 'sed', 'see', \"see's\", 'seeds', 'seeing', 'seekers', 'seeking', 'seem', 'seemed', 'seems', 'seen', 'sef', 'seh', 'sehwag', 'seing', 'select', 'selected', 'selection', 'self', 'selfish', 'selflessness', 'sell', 'selling', 'sells', 'sem', 'semester', 'semi', 'semiobscure', 'sen', 'send', 'sending', 'senor', 'senrd-dnot', 'sense', 'senses.respect', 'sensible', 'sensitive', 'sent', 'sentence', 'senthil', 'senthil.hsbc', 'seperated', 'sept', 'september', 'series', 'serious', 'seriously', 'served', 'server', 'service', 'services', 'serving', 'set', 'setting', 'settings', 'settle', 'settled', 'settling', 'seven', 'several', 'sex', 'sexiest', 'sextextuk.com', 'sexual', 'sexy', 'sh', 'sha', \"shade's\", 'shadow', 'shag', 'shagged', 'shakara', 'shake', 'shaking', 'shall', 'shame', 'shangela', 'shanghai', 'shaping', 'share', 'shared', 'sharing', 'shattered', 'shaved', 'shd', 'she', \"she'll\", \"she's\", 'sheet', 'sheets', 'sheffield', 'shelf', 'shell', 'shelves', 'shes', 'shexy', 'shindig', 'shining', 'ship', 'shipped', 'shipping', 'shirt', 'shirts', 'shit', \"shit's\", 'shite', 'shitload', 'shitstorm', 'shld', 'shldxxx', 'shock', 'shocking', 'shoes', 'shoot', 'shop', 'shop--the', 'shoppin', 'shopping', 'shore', 'short', 'shortage', 'shortcode', 'shorter', 'shortly', 'shorts', 'shot', 'should', 'shoulders', 'shouldn', \"shouldn't\", 'shouted', 'shouting', 'shove', 'shoving', 'show', 'showed', 'shower', 'showered', 'showers', 'showing', 'showrooms', 'shows', 'shrek', 'shrink', 'shrub', 'shu', 'shud', 'shuhui', 'shun', 'shut', 'shy', 'si', 'sian', 'sic', 'sick', 'sickness', 'side', 'sigh', 'sighs', 'sight', 'sign', 'signal', 'significance', 'significant', 'signin', 'signing', 'siguviri', 'silence', 'silent', 'silently', 'silly', 'silver', 'sim', 'simonwatson', 'simple', 'simpler', 'simply', 'simulate', 'since', 'sing', 'singapore', 'singing', 'single', 'singles', 'sink', 'sip', 'sips', 'sir', \"sir's\", 'sis', 'sister', 'sisters', 'sit', 'site', 'sitll', 'sitter', 'sittin', 'sitting', 'situation', 'situations', 'siva', 'six', 'size', 'sized', 'skateboarding', 'skills', 'skinny', 'skins', 'skint', 'skip', 'skirt', 'sky', 'skye', 'skype', 'skyped', 'skyving', 'slacking', 'slap', 'slave', 'sleep', 'sleepin', 'sleeping', 'sleeps', 'sleepy', 'slept', 'slice', 'slices', 'slide', 'sliding', 'slightly', 'slip', 'slippers', 'slippery', 'slo', 'slob', 'slots', 'slovely', 'slow', 'slower', 'slowing', 'slowly', 'slp', 'slurp', 'smacks', 'small', 'smaller', 'smart', 'smarter', 'smash', 'smashed', 'smear', 'smell', 'smells', 'smeone', 'smidgin', 'smile', 'smiled', 'smiles', 'smiling', 'smoke', 'smoked', 'smokes', 'smokin', 'smoking', 'smoothly', 'sms', \"sms'd\", 'sms.shsex.netUN', 'smsing', 'smsrewards', 'smth', 'sn', 'snake', 'snappy', 'snatch', 'sneham', 'snickering', 'snogs', 'snow', 'snowball', 'snowboarding', 'snowman', 'snuggles', 'so', 'so.so', 'soc', 'sochte', 'social', 'sofa', 'soft', 'software', 'soil', 'soiree', 'soladha', 'solihull', 'solve', 'solved', 'some', 'somebody', 'someday', 'someone', \"someone's\", 'someplace', 'somerset', 'sometext', 'somethin', 'something', \"something's\", 'sometime', 'sometime.Rakhesh', 'sometimes', 'sometme', 'somewhat', 'somewhere', 'somewhereSomeone', 'somone', 'somtimes', 'sonathaya', 'song', 'songs', 'sony', 'soo', 'soon', 'soon.xxx', 'sooner', 'sooo', 'sophas', 'sore', 'sorrow', 'sorrows', 'sorry', 'sorry-i', 'sort', 'sorta', 'sorted', 'sorting', 'sorts', 'sory', 'soryda', 'soul', 'sound', 'sounds', 'soundtrack', 'soup', 'source', 'sources', 'south', 'southern', 'souveniers', 'space', 'spacebucks', 'spaces', 'spageddies', 'spanish', 'spare', 'spares', 'spark', 'sparkling', 'spatula', 'speak', 'speaking', 'special', 'special-call', 'specialisation', 'specialise', 'specially', 'specific', 'specify', 'specs', 'speechless', 'speed', 'speeding', 'speling', 'spell', 'spelled', 'spelling', 'spend', 'spending', 'spent', 'spice', 'spiffing', 'spile', 'spin', 'spirit', 'spiritual', 'spk', 'spl', 'splash', 'splendid', 'split', 'splleing', 'spoil', 'spoiled', 'spoilt', 'spoke', 'spoken', 'sponsors', 'spontaneously', 'spoon', 'sporadically', 'sport', 'sports', 'spot', 'spotty', 'spouse', 'spreadsheet', 'spree', 'spring', 'springs', 'spys', 'sq825', 'squatting', 'squeezed', 'squid', 'srs', 'srsly', 'srt', 'sry', 'st', 'stability', 'stable', 'stadium', 'staff', 'staff.science.nus.edu.sg/~phyhcmk/teaching/pc1323', 'stage', 'stagwood', 'stairs', 'stalk', 'stalking', 'stamped', 'stamps', 'stand', 'standard', 'standing', 'stands', 'star', 'starer', 'staring', 'starring', 'stars', 'starshine', 'start', 'started', 'started.india', 'starting', 'starts', 'starve', 'starving', 'stash', 'stated', 'statement', 'statements', 'station', \"station's\", 'status', 'stay', 'stayed', 'stayin', 'staying', 'stays', 'std', 'steak', 'steal', 'stealing', 'steam', 'steamboat', 'steed', 'steering', 'step', 'steps', 'stereo', 'sterling', 'sterm', 'steve', 'steyn', 'sth', 'stick', 'sticky', 'stifled', 'still', 'still.maybe', 'stink', 'stitch', 'stock', 'stocked', 'stolen', 'stomach', 'stomps', 'stone', 'stoners', 'stones', 'stool', 'stop', 'stopCost', 'stopped', 'stops', 'stopsms', 'stoptxtstop', 'store', 'store.like', 'stores', 'stories', 'story', 'str', 'straight', 'strain', 'strange', 'stranger', 'street', 'stress', 'stressed', 'stressful', 'stressfull', 'stretch', 'strewn', 'strict', 'strike', 'strings', 'stripes', 'strips', 'strong', 'strongly', 'strt', 'strtd', 'struggling', 'sts', 'stubborn', 'stuck', 'studdying', 'students', 'studies', 'studio', 'study', 'studying', 'studyn', 'stuff', 'stuff--why', 'stuff.leaving', 'stuffed', 'stuffing', 'stuffs', 'stunning', 'stupid', 'style', 'styles', 'styling', 'stylish', 'sub', 'subject', 'subletting', 'submitted', 'submitting', 'subs', 'subscribe', 'subscribed', 'subscriber', 'subscribers', 'subscription', 'subscriptions', 'subscrition', 'subsequent', 'subtoitles', 'success', 'successful', 'successfully', 'sucker', 'suckers', 'sucks', 'sudden', 'suddenly', 'sudn', 'sue', 'suffer', 'suffering', 'suffers', 'sufficient', 'sugar', 'sugardad', 'suggest', 'suggestion', 'suggestions', 'suite', 'suitemates', 'suits', 'sum', 'sumfing', 'summer', 'summon', 'sumthin', 'sun', 'sunday', 'sundayish', 'sunlight', 'sunny', 'sunoco', 'sunroof', 'sunshine', 'suntec', 'sup', 'super', 'superb', 'superior', 'supervisor', 'suply', 'supose', 'suppliers', 'supplies', 'supply', 'support', 'support.providing', 'supports', 'suppose', 'supposed', 'supreme', 'sura', 'sure', 'surely', 'surf', 'surfing', 'surgical', 'surname', 'surprise', 'surprised', 'surrender', 'surrounded', 'survey', 'surya', 'sutra', 'sux', 'suzy', 'svc', 'swalpa', 'swann', 'swashbuckling', 'swatch', 'sway', 'swear', 'sweater', 'sweatter', 'sweet', 'sweetie', 'sweets', 'swell', 'swhrt', 'swimming', 'swimsuit', 'swing', 'swiss', 'switch', 'swollen', 'swoop', 'swt', 'syd', 'syllabus', 'symbol', 'synced', 'syrup', 'system', 'systems', 't', \"t's\", 't-shirt', 'ta', 'table', \"table's\", 'tablet', 'tablets', 'tackle', 'tacos', 'tactful', 'tactless', 'tag', 'tagged', 'tahan', 'tai', 'tait', 'take', 'taken', 'takes', 'takin', 'taking', 'talent', 'talents', 'talk', 'talking', 'talks', 'tall', 'tallahassee', 'tallent', 'tamilnadu', 'tampa', 'tank', \"tantrum's\", 'tap', 'tape', 'tariffs', 'tarpon', 'taste', 'tat', 'tats', 'tattoos', 'tau', 'taught', 'taunton', 'taxes', 'taxi', 'taxless', 'taxt', 'taylor', \"taylor's\", 'tb', 'tc', 'tddnewsletter@emc1.co.uk', 'tea', 'teach', 'teacher', 'teaches', 'teaching', 'team', 'teams', 'tear', 'tears', 'tease', 'teasing', 'tech', 'technical', 'technologies', 'teenager', 'teeth', 'teju', 'tel', 'telephone', 'tell', 'telling', 'tells', 'telly', 'telphone', 'telugu', 'temales', 'temp', 'temper', 'temple', 'ten', 'tendencies', 'tensed', 'term', \"term's\", 'terms', 'terrible', 'terrific', 'terrorist', 'tescos', 'test', 'testing', 'tests', 'texas', 'text', 'textand', 'textbook', 'texted', 'textin', 'texting', 'textoperator', 'texts', 'tgxxrz', 'th', 'than', 'thandiyachu', 'thangam', 'thangam.it', 'thank', 'thanks', 'thanksgiving', 'thanx', 'thanx.xx', 'that', \"that'd\", \"that'll\", \"that's\", 'that.dont', 'thats', 'the', 'theKingshead', 'theater', 'theatre', 'their', 'theirs', 'them', 'themed', 'themes', 'then', 'then.will', 'theory', 'theplace', 'thepub', 'there', \"there're\", \"there's\", 'there.goodnight', 'there.xx', 'theres', 'these', 'thesedays', 'thesis', 'thesmszone.com', 'they', \"they'll\", \"they're\", 'thia', 'thin', 'thing', 'things', 'think', 'thinkThis', 'thinked', 'thinkin', 'thinking', 'thinks', 'thinl', 'thirunelvali', 'this', 'thk', 'thkin', 'thm', 'thnk', 'tho', 'those', 'thot', 'thou', 'though', 'thought', 'thoughts', 'thousad', 'thousands', 'thread', 'threats', 'three', 'threw', 'thriller', 'throat', 'through', 'throw', 'throwin', 'throwing', 'thrown', 'throws', 'thru', 'thru.Respect', 'ths', 'tht', 'thts', 'thuglyfe', 'thurs', 'thursday', 'thus', 'thx', 'tick', 'ticket', 'tickets', 'tie-pos', 'tiempo', 'tight', 'tightly', 'tigress', 'tihs', 'tiime', 'til', 'till', 'time', 'time-hope', 'time.Your', 'time.you', 'times', 'timi', 'timin', 'timing', 'timings', 'tiny', 'tip', 'tips', 'tired', 'tiring', 'tirunelvai', 'tirunelvali', 'tirupur', 'tis', 'title.so', 'tiwary', 'tix', 'tiz', 'tke', 'tkts', 'tlk', 'tm', \"tm'ing\", 'tming', 'tmr', 'tmrw', 'tms', 'tmw', 'to', 'toClaim', 'toDo', 'toa', 'toaday', 'tobacco', 'today', \"today's\", 'today.Good', 'today.do', 'today.he', 'todays', 'tog', 'together', 'tohar', 'toilet', 'tok', 'token', 'toking', 'tol', 'told', 'tolerance', 'tolerat.bcs', 'tom', 'tomarrow', 'tomeandsaid', 'tomo', 'tomorro', 'tomorrow', 'tomorrow.call', 'tone', 'tones', 'tones2you.co.uk', 'tonght', 'tongued', 'tonight', 'tonights', 'tonite', 'tonite.busy', 'tonite.things', 'tons', 'tonsolitusaswell', 'too', 'too.Lets', 'too.Pray', 'too.pray', 'took', 'tookplace', 'tool', 'tooo', 'toot', 'toothpaste', 'tootsie', 'top', 'topic', 'topped', 'toppoly', 'tops', 'tor', 'torch', 'torrents', 'tortilla', 'torture', 'tosend', 'toshiba', 'toss', 'tot', 'total', 'totally', 'totes', 'touch', 'touched', 'tough', 'toughest', 'tour', 'towards', 'town', 'toyota', 'tp', 'track', 'trade', 'traffic', 'train', 'trained', 'training', 'trainners', 'trains', 'tram', 'tranquility', 'transaction', 'transcribing', 'transfer', 'transfered', 'transferred', 'transfr', 'transfred', 'transport', 'trash', 'trauma', 'travel', 'traveling', 'travelled', 'travelling', 'treacle', 'treadmill', 'treasure', 'treat', 'treated', 'treatin', 'treats', 'trebles', 'tree', 'trek', 'trends', 'trial', 'tried', 'trip', 'trips', 'trishul', 'triumphed', 'tron', 'trouble', 'troubleshooting', 'trouser', 'truck', 'true', 'truffles', 'truly', 'trust', 'trusting', 'truth', 'try', 'tryin', 'trying', 'tsunamis', 'tt', \"tt's\", 'ttyl', 'tue', 'tues', 'tuesday', 'tui', 'tuition', 'tul', 'tune', 'turkeys', 'turn', 'turned', 'turning', 'turns', 'tuth', 'tv', 'twat', 'twelve', 'twenty', 'twice', 'twins', 'two', 'txt', 'txtStop', 'txtX', 'txtin', 'txting', 'txts', 'tyler', \"tyler's\", 'type', 'types', 'typical', 'u', \"u'll\", \"u're\", \"u've\", 'u.Othrwise', 'u.So', 'ubandu', 'ubi', \"ugo's\", 'uh', 'uk', \"uk's\", 'ultimatum', 'um', 'umma', 'ummifying', 'un', 'un-redeemed', 'unable', 'unbelievable', 'unclaimed', 'uncle', 'uncles', 'uncomfortable', 'unconditionally', 'unconscious', 'unconsciously', 'unconvinced', 'uncountable', 'uncut', 'under', 'underdtand', 'understand', 'understanding', 'understood', 'underwear', 'undrstnd', 'undrstndng', 'unemployed', 'uneventful', 'unfolds', 'unfortunately', 'unfortuntly', 'unhappiness', 'unhappy', 'uni', 'uniform', 'unintentional', 'unintentionally', 'unique', 'units', 'univ', 'university', 'unjalur', 'unknown', 'unless', 'unlimited', 'unmits', 'unnecessarily', 'unrecognized', 'unredeemed', 'unsold', 'unsold.mike', 'unsold.now', 'unspoken', 'unsubscribe', 'unsubscribed', 'until', 'unusual', 'up', 'upcharge', 'update', 'upgrade', 'upgrading', 'upload', 'uploaded', 'upon', 'upping', 'upset', \"upset--it's\", 'upstairs', 'upto', 'ur', 'ure', 'urgent', 'urgent.but', 'urgently', 'urgnt', 'urination', 'url', 'urmom', 'urself', 'us', 'us.GET', 'us.LET', 'usb', 'usc', 'usc.edu', 'use', 'used', 'useful', 'useless', 'user', 'uses', 'usf', 'using', 'usps', 'usual', 'usually', 'uterus', 'utter', 'uttered', 'uup', 'uv', 'uwana', 'uwant', 'uworld', 'v', 'v.pist', 'v.tired', 'va', 'vaazhthukkal', 'vague', 'vaguely', 'vale', 'valentine', 'valentines', 'valid', 'valuable', 'value', 'value-Morning', 'valued', 'valuing', 'varaya', 'vargu', 'various', 'varma', 'vary', 'vasai', 'vava', 'vday', 've', 'vegas', 'vegetables', 'veggie', 'vehicle', 'velachery', 'venaam', 'venugopal', 'verified', 'verify', 'verifying', 'version', 'versus', 'very', 'vewy', 'via', 'vibrant', 'vibrate', 'vibrator', 'vic', 'victoria', 'victors', 'vid', 'video', 'videochat', 'videosound', 'videosounds', 'view', 'vijay', 'vijaykanth', 'vikky', 'vilikkam', 'vill', 'village', 'vinobanagar', 'violated', 'violence', \"virgil's\", 'virgin', 'virgins', 'virtual', 'visa', 'visionsms.com', 'visit', 'visit.need', 'visiting', 'visitor', 'visitors', 'vital', 'vitamin', 'vivek', 'vl', 'vodafone', 'vodka', 'voice', 'voicemail', 'volcanoes', 'vomit', 'vomitin', 'vomiting', 'vote', 'voted', 'voucher', 'vouchers', 'vouchers-Text', 'vry', 'vs', 'vth', 'w', 'w1t1jy', 'w8in', 'wa', 'wad', 'wadebridge', 'wahala', 'wahay', 'waheed', 'waheeda', 'waht', 'wait', 'waited', 'waitin', 'waiting', 'wake', 'waking', 'waliking', 'walk', 'walkabout', 'walked', 'walkin', 'walking', 'walks', 'wall', 'wallet', 'wallpaper', 'wallpaper-all', 'walls', 'walmart', 'walsall', 'wamma', 'wan', 'wana', 'wanna', 'want', 'wanted', 'wanting', 'wants', 'wap', 'warm', 'warming', 'warned', 'warner', 'warning', 'warranty', 'warwick', 'was', 'washob', 'wasn', \"wasn't\", 'wasnt', 'waste', 'wasted', 'wasting', 'wat', \"wat'll\", \"wat's\", 'watch', 'watched', 'watches', 'watchin', 'watching', 'watchng', 'water', 'watever', 'watevr', 'wats', 'watts', 'waves', 'way', 'wc1n3xx', 'we', \"we'd\", \"we'll\", \"we're\", \"we've\", 'weak', 'weakness', 'weaknesses', 'weapon', 'wear', 'wearing', 'weaseling', 'weasels', 'weather', \"weather's\", 'web', 'webadres', 'website', 'wed', 'weddin', 'wedding', 'wednesday', 'weds', 'wee', 'weed', 'weed-deficient', 'week', \"week's\", 'week-stop', 'weekdays', 'weekend', \"weekend's\", 'weekends', 'weekly', 'weeks', 'weigh', 'weighed', 'weight', 'weird', 'weirdest', 'weirdo', 'weirdy', 'welcome', 'welcomes', 'well', 'well.you', 'welp', 'wen', 'wenever', 'went', 'wer', 'were', \"weren't\", 'wesley', 'wesleys', 'west', 'western', 'westonzoyland', 'westshore', 'wet', 'wetherspoons', 'what', \"what's\", 'whatever', 'whats', 'wheat', 'wheel', 'wheellock', 'when', \"when's\", 'whenever', 'where', \"where's\", 'whereare', 'wherever', 'whether', 'which', 'while', 'whillTake', 'whispers', 'white', 'whn', 'who', \"who's\", 'whoever', 'whole', 'whom', 'whos', 'whose', 'whr', 'why', 'wi', 'wicked', 'wicket', 'wid', 'widelive.com/index', 'wif', 'wife', 'wife.dont', 'wifes', 'wifi', 'wihtuot', 'wikipedia.com', 'wil', 'wildest', 'wildlife', 'will', 'willing', 'willpower', 'win', 'wind', 'window', 'windows', 'winds', 'windy', 'wine', 'wined', 'wining', 'winner', 'winning', 'wins', 'winterstone', 'wipro', 'wisdom', 'wise', 'wish', 'wisheds', 'wishes', 'wishin', 'wishing', 'wishlist', 'wiskey', 'wit', 'with', 'withdraw', 'wither', 'within', 'without', 'witin', 'witot', 'witout', 'wiv', 'wizzle', 'wk', 'wk.TXT', 'wkend', 'wkg', 'wkly', 'wknd', 'wks', 'wlcome', 'wld', 'wml', 'wnt', 'wo', 'woah', 'wocay', 'woke', 'woken', 'woman', 'womdarfull', 'women', 'won', \"won't\", 'wondar', 'wondarfull', 'wonder', 'wonderful', 'wondering', 'wonders', 'wont', 'woot', 'woould', 'woozles', 'worc', 'word', 'words', 'work', 'workAnd', 'workage', 'workin', 'working', 'workout', 'works', 'world', \"world's\", 'worlds', 'worms', 'worried', 'worries', 'worry', 'worrying', 'worse', 'worst', 'worth', 'worthless', 'wot', 'woul', 'would', 'woulda', \"wouldn't\", 'wounds', 'wow', 'wrecked', 'wrench', 'wrenching', 'write', 'writhing', 'wrk', 'wrking', 'wrks', 'wrnog', 'wrong', 'wrongly', 'wrote', 'ws', 'wt', 'wtc', 'wtf', 'wth', 'wthout', 'wud', \"wudn't\", 'wuld', 'wuldnt', 'wun', 'www.07781482378.com', 'www.100percent-real.com', 'www.4-tc.biz', 'www.80488.biz', 'www.Applausestore.com', 'www.B4Utele.com', 'www.Idew.com', 'www.Ldew', 'www.Ldew.com', 'www.SMS.ac/u/bootydelious', 'www.SMS.ac/u/goldviking', 'www.SMS.ac/u/hmmross', 'www.SMS.ac/u/nat27081980', 'www.SMS.ac/u/natalie2k9', 'www.areyouunique.co.uk', 'www.bridal.petticoatdreams.co.uk', 'www.cashbin.co.uk', 'www.clubmoby.com', 'www.clubzed.co.uk', 'www.cnupdates.com/newsletter', 'www.comuk.net', 'www.dbuk.net', 'www.flirtparty.us', 'www.fullonsms.com', 'www.gamb.tv', 'www.getzed.co.uk', 'www.gr8prizes.com', 'www.ldew', 'www.ldew.com', 'www.movietrivia.tv', 'www.music-trivia.net', 'www.orange.co.uk/ow', 'www.phb1.com', 'www.regalportfolio.co.uk', 'www.ringtoneking.co.uk', 'www.ringtones.co.uk', 'www.rtf.sphosting.com', 'www.santacalling.com', 'www.shortbreaks.org.uk', 'www.smsco.net', 'www.t-c.biz', 'www.telediscount.co.uk', 'www.textcomp.com', 'www.textpod.net', 'www.tkls.com', 'www.txt-2-shop.com', 'www.txt43.com', 'www.txt82228.com', 'www.txttowin.co.uk', 'www.vouch4me.com/etlp/dining.asp', 'www.win-82050.co.uk', 'wylie', 'x', \"x'mas\", 'x-net', 'xafter', 'xam', 'xavier', 'xin', \"xin's\", 'xmas', 'xt', 'xuhui', 'xx', 'xxSP', 'xxx', 'xxxX', 'xxxmobilemovieclub.com', 'xy', 'y', \"y'day\", 'ya', 'yah', 'yahoo', 'yalrigu', 'yam', 'yan', 'yarasu', 'yards', 'yay', 'yck', 'yeP', 'yeah', 'year', 'years', 'yelling', 'yellow', 'yeovil', 'yep', 'yer', 'yes', 'yest', 'yesterday', 'yet', \"yetty's\", 'yetunde', 'yi', 'yifeng', 'yijue', 'yijue@hotmail.com', 'ym', 'yo', 'yo-Here', 'yoga', 'yogasana', 'yor', 'yorge', 'you', \"you'd\", \"you'ld\", \"you'll\", \"you're\", \"you've\", 'you.my', 'you.thats', 'youPhone', 'youdoing', 'young', 'younger', 'your', \"your's\", 'youre', 'yourinclusive', 'yours', 'yourself', 'youuu', 'youwanna', 'yoville', 'yowifes', 'yr', 'yrs', 'ystrday.ice', 'yummy', 'yun', 'yuo', 'yuou', 'zac', 'zealand', 'zed', 'zeros', 'zhong', 'zoom', 'zyada', '|', '~', '\\x91', '\\x92', '\\x93', '\\x94', '\\x96', '¡', '£', '»', 'É', 'Ü', \"Ü'll\", 'èn', 'é', 'ú1', 'ü', \"ü'll\", '–', '—', '‘', '’', '“', '…', '┾', '〨ud', '鈥'], 5575)\n",
      "[[0. 0. 0. ... 0. 0. 0.]\n",
      " [0. 0. 0. ... 0. 0. 0.]\n",
      " [0. 0. 0. ... 0. 0. 0.]\n",
      " ...\n",
      " [0. 0. 0. ... 0. 0. 0.]\n",
      " [0. 0. 0. ... 0. 0. 0.]\n",
      " [0. 0. 0. ... 0. 0. 0.]]\n"
     ]
    }
   ],
   "source": [
    "print(vocab)\n",
    "print(dtmat)"
   ]
  },
  {
   "cell_type": "markdown",
   "id": "7c4d9a6e",
   "metadata": {},
   "source": [
    "### Question 1 \n",
    "\n",
    "Run dtmat_from_csv on your dataset, or on a sample drawn from it if it is very large. Examine the resulting matrix. How many times does it happen that a given word is seen only once (possibly twice) in your training set ? Give a few Python code lines which show this below."
   ]
  },
  {
   "cell_type": "code",
   "execution_count": null,
   "id": "3d196c2f",
   "metadata": {},
   "outputs": [],
   "source": []
  },
  {
   "cell_type": "code",
   "execution_count": 13,
   "id": "d99d89ad",
   "metadata": {},
   "outputs": [
    {
     "name": "stdout",
     "output_type": "stream",
     "text": [
      "Mots vus une seule fois : ['0089', '01223585236', '02072069400', '02085076972', '07008009200', '07046744435', '07090201529', '07090298926', '07099833605', '07732584351']\n",
      "Mots vus deux fois : ['01223585334', '02073162414', '050703', '07123456789', '07734396839', '07742676969', '07786200117', '07821230901', '08', '08000407165']\n",
      "Nombre de mots vus une seule fois : 5202\n",
      "Nombre de mots vus deux fois : 1700\n"
     ]
    }
   ],
   "source": [
    "# Calculer la fréquence totale de chaque mot dans le corpus\n",
    "total_counts = np.sum(dtmat, axis=0)\n",
    "\n",
    "# Indices des mots vus une seule fois\n",
    "once_indices = np.where(total_counts == 1)[0]\n",
    "# Indices des mots vus deux fois\n",
    "twice_indices = np.where(total_counts == 2)[0]\n",
    "\n",
    "# Afficher quelques exemples de mots vus une seule ou deux fois\n",
    "print(\"Mots vus une seule fois :\", [vocab[0][i] for i in once_indices[:10]])\n",
    "print(\"Mots vus deux fois :\", [vocab[0][i] for i in twice_indices[:10]])\n",
    "\n",
    "# Nombre total de mots vus une seule fois\n",
    "print(\"Nombre de mots vus une seule fois :\", len(once_indices))\n",
    "# Nombre total de mots vus deux fois\n",
    "print(\"Nombre de mots vus deux fois :\", len(twice_indices))"
   ]
  },
  {
   "cell_type": "markdown",
   "id": "8d66ec46-4fb7-41ff-acb1-b2eed3b73d10",
   "metadata": {},
   "source": [
    "### Analyse des dimensions du problème\n",
    "\n",
    "Les résultats montrent qu'un grand nombre de mots n'apparaissent qu'une ou deux fois dans le corpus. Ces mots rares (hapax legomena) n'apportent généralement pas d'information discriminante pour la classification et peuvent causer du surapprentissage (overfitting). C'est pourquoi il est recommandé de les filtrer, ce qui sera fait dans la Question 4 avec le paramètre `purge=True`."
   ]
  },
  {
   "cell_type": "code",
   "execution_count": 18,
   "id": "57256787",
   "metadata": {},
   "outputs": [
    {
     "name": "stdout",
     "output_type": "stream",
     "text": [
      "============================================================\n",
      "DIMENSIONS DU PROBLÈME\n",
      "============================================================\n",
      "n (nombre de documents)           : 5,575\n",
      "d (taille du vocabulaire)         : 11,382\n",
      "Dimension de la matrice D-T       : 5,575 × 11,382\n",
      "Nombre total d'éléments           : 63,454,650\n",
      "Mémoire requise (dense, float64)  : 484.1 MB\n",
      "\n",
      "Rapport d/n                       : 2.04\n",
      "Problème: d > n\n",
      "\n",
      "Mots moyens par document          : 18.4\n",
      "Sparsité estimée                  : 99.84% de zéros\n",
      "Éléments non-zéros (estimé)       : 102,628\n",
      "Mémoire sparse (estimé)           : 1.6 MB\n",
      "============================================================\n"
     ]
    }
   ],
   "source": [
    "# Calcul des dimensions du problème pour la Question 2\n",
    "import csv\n",
    "import nltk\n",
    "from nltk.tokenize import TweetTokenizer\n",
    "\n",
    "\n",
    "tweet_tokenizer = TweetTokenizer(preserve_case=True, reduce_len=True)\n",
    "\n",
    "# Compter le nombre de documents\n",
    "n_documents = 0\n",
    "all_words = []\n",
    "\n",
    "with open(csv_path, errors='ignore') as file:\n",
    "    reader = csv.reader(file, delimiter=',')\n",
    "    for row in reader:\n",
    "        n_documents += 1\n",
    "        words = tweet_tokenizer.tokenize(row[0])\n",
    "        all_words.extend(words)\n",
    "\n",
    "# Nombre de mots uniques dans le vocabulaire\n",
    "d_vocabulary = len(set(all_words))\n",
    "\n",
    "print(\"=\" * 60)\n",
    "print(\"DIMENSIONS DU PROBLÈME\")\n",
    "print(\"=\" * 60)\n",
    "print(f\"n (nombre de documents)           : {n_documents:,}\")\n",
    "print(f\"d (taille du vocabulaire)         : {d_vocabulary:,}\")\n",
    "print(f\"Dimension de la matrice D-T       : {n_documents:,} × {d_vocabulary:,}\")\n",
    "print(f\"Nombre total d'éléments           : {n_documents * d_vocabulary:,}\")\n",
    "print(f\"Mémoire requise (dense, float64)  : {n_documents * d_vocabulary * 8 / (1024**2):.1f} MB\")\n",
    "print()\n",
    "print(f\"Rapport d/n                       : {d_vocabulary/n_documents:.2f}\")\n",
    "print(f\"Problème: d {'>' if d_vocabulary > n_documents else '<='} n\")\n",
    "print()\n",
    "\n",
    "# Estimation de la sparsité\n",
    "avg_words_per_doc = len(all_words) / n_documents\n",
    "sparsity = 100 * (1 - avg_words_per_doc / d_vocabulary)\n",
    "non_zeros_total = n_documents * avg_words_per_doc\n",
    "\n",
    "print(f\"Mots moyens par document          : {avg_words_per_doc:.1f}\")\n",
    "print(f\"Sparsité estimée                  : {sparsity:.2f}% de zéros\")\n",
    "print(f\"Éléments non-zéros (estimé)       : {non_zeros_total:,.0f}\")\n",
    "print(f\"Mémoire sparse (estimé)           : {non_zeros_total * 16 / (1024**2):.1f} MB\")\n",
    "print(\"=\" * 60)"
   ]
  },
  {
   "cell_type": "markdown",
   "id": "26b8d219",
   "metadata": {},
   "source": [
    "### Question 2\n",
    "\n",
    "In this part, we are a interested in separating the two classes you chose by linear discriminant analysis (LDA). You have the choice between 3 strategies:\n",
    "\n",
    "1. Use the direct formula $u=W^{-1}(m_1-m_2)$, as stated in [the course](https://perso.esiee.fr/~hilairex/AIC-5102B/complements.pdf), directly as such\n",
    "2. Use the kernelized version of LDA, also explained in [the course](https://perso.esiee.fr/~hilairex/AIC-5102B/complements.pdf), the kernel of which will simply be $k(x,y) = <x,y>$ to comply with the statement\n",
    "3. Use an alternative (possibly smarter) strategy\n",
    "\n",
    "Remember that all that is requested here is to classify using LDA. As a clue, several methods are available to compute the $k$ highest eigenvalues/eigenvectors or singular values/singular vectors of an $m\\times n$ matrix :\n",
    "- if the matrix is sparse : Lanczos-like methods are quite efficient, with respective time and memory complexities of $O(nnz.k)$ and $O(nnz + (n+m)k)$. Python's <t>scipy.sparse.linalg.svds</t> does a good job.\n",
    "- if the matrix is not sparse, but does not fit entirely into memory : the Dask package provides a similar time complexity, and an $O(block + (n+m)k)$ memory complexity\n",
    "\n",
    "where $nnz$ is the total number number of non-zero components in the matrix, and $block$ is the size of the largest block of RAM you can allocate for computations. Also keep in mind that properly training a classifier normally requires cross-validation by repeated attempts using folded versions of the data.\n",
    "\n",
    "This question does not require any programming, but a clever analysis of the problem. You should pay attention to the dimension of the problem you have at hand (shape of the document-term matrix, total number of words) and compare the time and memory complexities each solution will demand. Keep in mind that your resources are limited (ESIEE's machine typically have 32 GB of RAM, and about the same amount of user disk quota). \n",
    "\n",
    "Which strategy do you adopt, and why ? Write your answer below."
   ]
  },
  {
   "cell_type": "markdown",
   "id": "89b57a54-94a4-4a1a-9d1a-805d99442bdd",
   "metadata": {},
   "source": [
    "### Réponse : Stratégie 1 (sklearn.discriminant_analysis.LinearDiscriminantAnalysis)\n",
    "\n",
    "**Analyse du problème :**\n",
    "\n",
    "Pour le dataset SMS Spam, nous avons approximativement :\n",
    "- $n \\approx 5000$ documents (messages SMS)\n",
    "- $d \\approx 11000$ mots dans le vocabulaire (après tokenization)\n",
    "- La matrice document-terme est de dimension $5000 \\times 11000$\n",
    "\n",
    "**Stratégie 3 : Utiliser sklearn.discriminant_analysis.LinearDiscriminantAnalysis**\n",
    "- Utilise la SVD (décomposition en valeurs singulières) pour gérer le cas $d > n$\n",
    "- Projette d'abord dans un sous-espace de dimension $\\min(n, d)$ via SVD\n",
    "- Complexité mémoire : $O(nd + n^2)$ (gère les matrices sparse efficacement)\n",
    "- Complexité temporelle : $O(nd \\min(n,d))$ avec la SVD\n",
    "- **Avantages** : \n",
    "  - Implémentation optimisée et stable numériquement\n",
    "  - Gère automatiquement le cas $d > n$ (shrinkage, SVD solver)\n",
    "  - Support des matrices sparse si converties en dense (ou utilisation de QDA pour sparse)\n",
    "  - Cross-validation facile avec scikit-learn\n",
    "\n",
    "**Choix : Stratégie 3**\n",
    "\n",
    "J'adopte la **Stratégie 3** en utilisant `sklearn.discriminant_analysis.LinearDiscriminantAnalysis` avec le solver SVD car :\n",
    "\n",
    "1. **Praticité** : Implémentation robuste et testée, gère automatiquement les cas pathologiques\n",
    "2. **Complexité raisonnable** : $O(nd \\min(n,d)) \\approx O(5000 \\times 7000 \\times 5000)$ est gérable\n",
    "3. **Mémoire acceptable** : Environ 280 MB pour la matrice document-terme (dense) + overhead\n",
    "4. **Cas $d > n$ géré** : La SVD projette dans un espace de dimension $n-c$ où $c$ est le nombre de classes\n",
    "5. **Intégration** : Facilite la cross-validation avec `cross_val_score` et `GridSearchCV`\n",
    "6. **Alternative** : Si la matrice est trop grande, on peut utiliser le paramètre `shrinkage='auto'` pour régulariser\n",
    "\n",
    "Si les performances sont insuffisantes, on pourrait envisager une réduction de dimensionnalité préalable (TF-IDF + TruncatedSVD) ou passer à la Stratégie 2 (K-FDA) avec un kernel non-linéaire."
   ]
  },
  {
   "cell_type": "markdown",
   "id": "62aa9d6f",
   "metadata": {},
   "source": [
    "### Question 3\n",
    "\n",
    "We return to question 1 for a while.  Suppose that the number of \"seen only once\" words becomes larger than the total number of documents. a) What will be the predicted direction by LDA in such a case ? \n",
    "b) What will be the recognition accuracy in case you reuse part of the training data as test data ?\n",
    "c) What will it be in case you don't ?"
   ]
  },
  {
   "cell_type": "markdown",
   "id": "c238cffb-61b3-4248-94be-d628a23bc875",
   "metadata": {},
   "source": [
    "A) chaque doc contient au moins un mot qui est vue une seul fois dans le corpus. la dimensions est egale au vocabulaire et la droite de la LDA aura un vecteur directeur de la dimension du vocabulaire et sera constitué de la premier moitier avec des 1 et la deuxieme -1 ou inversement \n",
    "\n",
    "\n",
    "(-1,-1,-1,1,1,1)\n",
    "\n",
    "\n",
    "B) si on entraine le model LDA avec des docs qui ne contiennent que des mots vue une fois dans le corpus et que l'on test le model sur l'entrainement alors le resultat de la train accuracy sera de 100% acause du overfitting le model manque terriblement de generalité \n",
    "\n",
    "\n",
    "C) si on entraine le model LDA avec des docs qui ne contiennent que des mots vue une fois dans le corpus et que l'on test le model sur un nouveau corpus alors le resultat de la test accuracy sera de 0% acause du overfitting le model manque terriblement de generalité \n",
    "\n",
    "\n",
    "La solution serai de retirer ces valeurs uniques qui dans notre cas sont des numéros"
   ]
  },
  {
   "cell_type": "markdown",
   "id": "6d7c3521-e377-4cbc-966b-a50825ec89fb",
   "metadata": {},
   "source": [
    "### Question 4 \n",
    "\n",
    "No matter what your answer to question 2 is, add a boolean parameter to voc_from_csv(), say \"purge\", which is True by default, so that when \"purge\" is True, the \"only seen once\" words are *not* included in the vocabulary. The dtmat_from_csv() you wrote should not change, except for the new parameter. Give the new voc_from_csv() function below."
   ]
  },
  {
   "cell_type": "code",
   "execution_count": 23,
   "id": "69142056-bfd2-4cab-9595-83e297a777b9",
   "metadata": {},
   "outputs": [
    {
     "name": "stdout",
     "output_type": "stream",
     "text": [
      "Avec purge=True: 5392 mots dans le vocabulaire\n",
      "Avec purge=False: 11382 mots dans le vocabulaire\n",
      "\n",
      "Nombre de mots exclus (vus une seule fois): 5990\n",
      "Pourcentage de mots exclus: 52.63%\n",
      "Dimension de la matrice D-T avec purge=True : (5575, 5392)\n",
      "Dimension de la matrice D-T avec purge=False: (5575, 11382)\n"
     ]
    }
   ],
   "source": [
    "import csv\n",
    "import nltk\n",
    "import numpy as np\n",
    "from nltk.tokenize import TweetTokenizer\n",
    "\n",
    "tweet_tokenizer = TweetTokenizer(preserve_case=True, reduce_len=True)\n",
    "\n",
    "def voc_from_csv(csvfile, purge=True):\n",
    "    \"\"\"\n",
    "    Extract vocabulary from a CSV file.\n",
    "    \n",
    "    Parameters:\n",
    "    - csvfile: path to the CSV file\n",
    "    - purge: if True (default), exclude words that appear only once in the corpus\n",
    "    \n",
    "    Returns:\n",
    "    - voc: sorted list of vocabulary words\n",
    "    - nlines: number of lines in the file\n",
    "    \"\"\"\n",
    "    nlines = 0\n",
    "    word_counts = {}  # Dictionary to count word frequencies across all documents\n",
    "    \n",
    "    # First pass: count all words in the corpus\n",
    "    with open(csvfile, errors='ignore') as file:\n",
    "        reader = csv.reader(file, delimiter=',')\n",
    "        for row in reader:\n",
    "            nlines = nlines + 1\n",
    "            words = tweet_tokenizer.tokenize(row[0])\n",
    "            for word in words:\n",
    "                word_counts[word] = word_counts.get(word, 0) + 1\n",
    "    \n",
    "    # Build vocabulary based on purge parameter\n",
    "    if purge:\n",
    "        # Only include words that appear more than once in the entire corpus\n",
    "        voc = [word for word, count in word_counts.items() if count > 1]\n",
    "    else:\n",
    "        # Include all words\n",
    "        voc = list(word_counts.keys())\n",
    "    \n",
    "    voc = sorted(voc)\n",
    "    return voc, nlines\n",
    "\n",
    "\n",
    "def dtmat_from_csv(csvfile, purge=True):\n",
    "    \"\"\"\n",
    "    Build document-term matrix from CSV file.\n",
    "    \n",
    "    Parameters:\n",
    "    - csvfile: path to the CSV file\n",
    "    - purge: if True (default), exclude words that appear only once\n",
    "    \n",
    "    Returns:\n",
    "    - mat: document-term matrix (rows=documents, columns=words)\n",
    "    \"\"\"\n",
    "    voc, rows = voc_from_csv(csvfile, purge=purge)\n",
    "    cols = len(voc)\n",
    "    mat = np.zeros((rows, cols))\n",
    "    d = 0\n",
    "    \n",
    "    with open(csvfile, errors='ignore') as file:\n",
    "        reader = csv.reader(file, delimiter=',')\n",
    "        for row in reader:\n",
    "            w = nltk.wordpunct_tokenize(row[0])\n",
    "            X = np.searchsorted(voc, w, side='left')\n",
    "            for i in range(0, len(w)):\n",
    "                if (X[i] < cols):\n",
    "                    if (w[i] == voc[X[i]]):\n",
    "                        mat[d][X[i]] += 1\n",
    "            d = d + 1\n",
    "    \n",
    "    return mat\n",
    "\n",
    "\n",
    "# Avec purge=True (par défaut)\n",
    "vocab_purged, nlines = voc_from_csv(csv_path, purge=True)\n",
    "print(f\"Avec purge=True: {len(vocab_purged)} mots dans le vocabulaire\")\n",
    "\n",
    "# Avec purge=False\n",
    "vocab_all, nlines = voc_from_csv(csv_path, purge=False)\n",
    "print(f\"Avec purge=False: {len(vocab_all)} mots dans le vocabulaire\")\n",
    "\n",
    "print(f\"\\nNombre de mots exclus (vus une seule fois): {len(vocab_all) - len(vocab_purged)}\")\n",
    "print(f\"Pourcentage de mots exclus: {100 * (len(vocab_all) - len(vocab_purged)) / len(vocab_all):.2f}%\")\n",
    "\n",
    "dtmat_purged = dtmat_from_csv(csv_path, purge=True)\n",
    "dtmat_all = dtmat_from_csv(csv_path, purge=False)\n",
    "print(f\"Dimension de la matrice D-T avec purge=True : {dtmat_purged.shape}\")\n",
    "print(f\"Dimension de la matrice D-T avec purge=False: {dtmat_all.shape}\")"
   ]
  },
  {
   "cell_type": "markdown",
   "id": "c2116dab",
   "metadata": {},
   "source": [
    "### Question 5\n",
    "\n",
    "Implement the strategy you chose at question 2. You may either use the sklearn.lda.LDA class from Scikit-Learn (strategy 1), the Kfda class from Pypi (strategy 2), or your own implementation (strategy 3). In all cases, you should assume that the data of the two classes are normally distributed after they are projected.\n",
    "Test your implementation on the classes you chose."
   ]
  },
  {
   "cell_type": "code",
   "execution_count": 25,
   "id": "e472e60f",
   "metadata": {},
   "outputs": [
    {
     "name": "stderr",
     "output_type": "stream",
     "text": [
      "/user/rozanb/AIC-5102B_Lab1/.venv/lib/python3.11/site-packages/sklearn/feature_extraction/text.py:517: UserWarning: The parameter 'token_pattern' will not be used since 'tokenizer' is not None'\n",
      "  warnings.warn(\n",
      "/user/rozanb/AIC-5102B_Lab1/.venv/lib/python3.11/site-packages/sklearn/feature_extraction/text.py:517: UserWarning: The parameter 'token_pattern' will not be used since 'tokenizer' is not None'\n",
      "  warnings.warn(\n",
      "/user/rozanb/AIC-5102B_Lab1/.venv/lib/python3.11/site-packages/sklearn/feature_extraction/text.py:517: UserWarning: The parameter 'token_pattern' will not be used since 'tokenizer' is not None'\n",
      "  warnings.warn(\n",
      "/user/rozanb/AIC-5102B_Lab1/.venv/lib/python3.11/site-packages/sklearn/feature_extraction/text.py:517: UserWarning: The parameter 'token_pattern' will not be used since 'tokenizer' is not None'\n",
      "  warnings.warn(\n",
      "/user/rozanb/AIC-5102B_Lab1/.venv/lib/python3.11/site-packages/sklearn/feature_extraction/text.py:517: UserWarning: The parameter 'token_pattern' will not be used since 'tokenizer' is not None'\n",
      "  warnings.warn(\n"
     ]
    },
    {
     "name": "stdout",
     "output_type": "stream",
     "text": [
      "=== Validation croisée (5-fold StratifiedKFold) ===\n",
      "Accuracy moyenne : 0.929 ± 0.011\n"
     ]
    },
    {
     "name": "stderr",
     "output_type": "stream",
     "text": [
      "/user/rozanb/AIC-5102B_Lab1/.venv/lib/python3.11/site-packages/sklearn/feature_extraction/text.py:517: UserWarning: The parameter 'token_pattern' will not be used since 'tokenizer' is not None'\n",
      "  warnings.warn(\n"
     ]
    },
    {
     "name": "stdout",
     "output_type": "stream",
     "text": [
      "\n",
      "=== Évaluation sur l'échantillon de test (20%) ===\n",
      "Accuracy : 0.919\n",
      "\n",
      "Classification report :\n",
      "              precision    recall  f1-score   support\n",
      "\n",
      "    non-spam       0.97      0.94      0.95       966\n",
      "        spam       0.66      0.81      0.73       149\n",
      "\n",
      "    accuracy                           0.92      1115\n",
      "   macro avg       0.82      0.87      0.84      1115\n",
      "weighted avg       0.93      0.92      0.92      1115\n",
      "\n"
     ]
    },
    {
     "data": {
      "image/png": "[encoded data removed]",
      "text/plain": [
       "<Figure size 400x400 with 2 Axes>"
      ]
     },
     "metadata": {},
     "output_type": "display_data"
    }
   ],
   "source": [
    "import pandas as pd\n",
    "import numpy as np\n",
    "from sklearn.model_selection import train_test_split, cross_val_score\n",
    "from sklearn.feature_extraction.text import TfidfVectorizer\n",
    "from sklearn.preprocessing import FunctionTransformer\n",
    "from sklearn.pipeline import Pipeline\n",
    "from sklearn.discriminant_analysis import LinearDiscriminantAnalysis\n",
    "from sklearn.metrics import accuracy_score, classification_report, ConfusionMatrixDisplay\n",
    "import matplotlib.pyplot as plt\n",
    "\n",
    "# Charger les données\n",
    "sms_df = pd.read_csv(csv_path, encoding=\"latin-1\")\n",
    "texts = sms_df[\"sms\"].astype(str)\n",
    "labels = sms_df[\"label\"].astype(int)\n",
    "\n",
    "# Pipeline : TF-IDF -> conversion dense -> LDA (solver SVD)\n",
    "lda_pipeline = Pipeline(steps=[\n",
    "    (\"tfidf\", TfidfVectorizer(\n",
    "        tokenizer=tweet_tokenizer.tokenize,\n",
    "        preprocessor=None,\n",
    "        lowercase=False,\n",
    "        min_df=2  # purge implicite des hapax\n",
    "    )),\n",
    "    (\"to_dense\", FunctionTransformer(lambda x: x.toarray(), accept_sparse=True)),\n",
    "    (\"lda\", LinearDiscriminantAnalysis(solver=\"svd\"))\n",
    "])\n",
    "\n",
    "# Validation croisée stratifiée (5 folds)\n",
    "cv_scores = cross_val_score(lda_pipeline, texts, labels, cv=5, n_jobs=-1)\n",
    "print(\"=== Validation croisée (5-fold StratifiedKFold) ===\")\n",
    "print(f\"Accuracy moyenne : {cv_scores.mean():.3f} ± {cv_scores.std():.3f}\")\n",
    "\n",
    "# Apprentissage / évaluation sur split hold-out\n",
    "X_train, X_test, y_train, y_test = train_test_split(\n",
    "    texts, labels,\n",
    "    test_size=0.2,\n",
    "    random_state=42,\n",
    "    stratify=labels\n",
    " )\n",
    "lda_pipeline.fit(X_train, y_train)\n",
    "y_pred = lda_pipeline.predict(X_test)\n",
    "\n",
    "print(\"\\n=== Évaluation sur l'échantillon de test (20%) ===\")\n",
    "print(f\"Accuracy : {accuracy_score(y_test, y_pred):.3f}\")\n",
    "print(\"\\nClassification report :\")\n",
    "print(classification_report(y_test, y_pred, target_names=[\"non-spam\", \"spam\"]))\n",
    "\n",
    "# Afficher la matrice de confusion\n",
    "fig, ax = plt.subplots(figsize=(4, 4))\n",
    "ConfusionMatrixDisplay.from_predictions(\n",
    "    y_test, y_pred,\n",
    "    display_labels=[\"non-spam\", \"spam\"],\n",
    "    cmap=\"Blues\",\n",
    "    normalize=None,\n",
    "    ax=ax\n",
    ")\n",
    "ax.set_title(\"Matrice de confusion LDA (solver SVD)\")\n",
    "plt.show()"
   ]
  },
  {
   "cell_type": "markdown",
   "id": "6dcc15f6",
   "metadata": {},
   "source": [
    "## 4. Kernelized LDA\n",
    "\n",
    "The kernelized version of LDA is implemented as a kfda package. Its homepage is here: https://pypi.org/project/kfda/\n",
    "To install it, suffice to run <t>pip3 install kfda</t> from your Python virtual environment.\n",
    "\n",
    "### Question 6\n",
    "\n",
    "Let $\\boldsymbol{x}$ and $\\boldsymbol{y}$ be any two columns of your D-T matrix (which you may assume TD-IDF normalized or not, it does not change the problem). Consider the inhomogeneous polynomial kernel \n",
    "$$k(\\boldsymbol{x},\\boldsymbol{y})= (1+<\\boldsymbol{x},\\boldsymbol{y}>)^d$$\n",
    "where $d>0$ is integer.\n",
    "\n",
    "- Suppose that $d=2$, and that the above kernel is used in a kernelized LDA. What are the new axes created in the feature space, that didn't exist when $d=1$? Which of these could be useful, and change the solution computed by LDA in the feature space ?\n",
    "- If the input data consists of $n$ samples, what is the time complexity of K-FDA ? \n",
    "- Try to classify using this setup, and report your results. Then increase $n$, from 2 to 4. You will very likely encounter some overflow issues. If it happens, explain what is wrong, and add some code to preprocess the data to circumvent it."
   ]
  },
  {
   "cell_type": "code",
   "execution_count": 5,
   "id": "435382c1",
   "metadata": {},
   "outputs": [],
   "source": [
    "### Your answer here"
   ]
  },
  {
   "cell_type": "markdown",
   "id": "a1fb3b61",
   "metadata": {},
   "source": [
    "### Question 7\n",
    "\n",
    "We will now slightely improve the above kernel by replacing the natural dot product \n",
    "$$<\\boldsymbol{x},\\boldsymbol{y}>$$ \n",
    "by \n",
    "$$ \\sum_i \\min(\\boldsymbol{x}_i, \\boldsymbol{y}_i) $$\n",
    "resulting in\n",
    "\n",
    "$$f(\\boldsymbol{x},\\boldsymbol{y})= (1+\\sum_i \\min(\\boldsymbol{x}_i, \\boldsymbol{y}_i) )^n$$\n",
    "\n",
    "Is $f$ a positive semidefinite kernel ? Either prove that it is, or give a counter-example."
   ]
  },
  {
   "cell_type": "code",
   "execution_count": null,
   "id": "be2450b0",
   "metadata": {},
   "outputs": [],
   "source": []
  },
  {
   "cell_type": "markdown",
   "id": "45996a2d",
   "metadata": {},
   "source": [
    "### Question 8\n",
    "\n",
    "Irrespective of your answer to question 8, try kfda with $f$ as its kernel. Looking at the source code https://github.com/concavegit/kfda/blob/master/kfda/kfda.py you will notice (line 92) that it relies on the paiwise_kernels function from sklearn to compute the Gram matrix. \n",
    "\n",
    "According to sklearn documentation https://scikit-learn.org/stable/modules/generated/sklearn.metrics.pairwise.pairwise_kernels.html the kernel parameter can be a callable, hence you can supply a function of your own as the kernel argument, possibly using the keywords field (kwds).\n",
    "\n",
    "Report your classification results, possibly varying $n$ (be reasonable with values, high $n$ may cause floating point exceptions, as in the last question). You should likely obtain decent (~ 75% accuracy, say) but not outstanding results.  This, however, is highly dependent on the dataset and classes you chose."
   ]
  },
  {
   "cell_type": "code",
   "execution_count": null,
   "id": "a99a4fb6",
   "metadata": {},
   "outputs": [],
   "source": [
    "### Your answer here"
   ]
  },
  {
   "cell_type": "markdown",
   "id": "42178c26",
   "metadata": {},
   "source": [
    "### Question 9\n",
    "\n",
    "One reason why the obtained accuracy is not fantastic is that the vector model we are using is blind to bigrams. For instance, we may encounter (normalized) words \"donald\", and \"trump\" separately in a document, but this is very different from \"donald trump\".\n",
    "\n",
    "One way to fix this is to include bigrams in the vocabulary : for two consecutive words, like \"donald trump\", we would add a synthetic word \"donald_trump\" to the vocabulary. \n",
    "\n",
    "Add an extra \"bigram\" parameter to voc_from_csv() to do so, and compare your results to those of question 9. Bigrams can be generated very simply using a code similar to this one:"
   ]
  },
  {
   "cell_type": "code",
   "execution_count": 4,
   "id": "2fb98f57",
   "metadata": {
    "scrolled": true
   },
   "outputs": [
    {
     "data": {
      "text/plain": [
       "['I_think',\n",
       " 'think_traveling',\n",
       " 'traveling_to',\n",
       " 'to_Rio',\n",
       " 'Rio_next',\n",
       " 'next_winter',\n",
       " 'winter_would',\n",
       " 'would_be',\n",
       " 'be_great']"
      ]
     },
     "execution_count": 4,
     "metadata": {},
     "output_type": "execute_result"
    }
   ],
   "source": [
    "w=['I','think','traveling','to','Rio','next','winter','would','be','great']\n",
    "[w[i]+'_'+w[i+1] for i in range(0,len(w)-1)]"
   ]
  },
  {
   "cell_type": "code",
   "execution_count": null,
   "id": "61b12aea",
   "metadata": {},
   "outputs": [],
   "source": []
  }
 ],
 "metadata": {
  "kernelspec": {
   "display_name": "pynlp (3.11.2)",
   "language": "python",
   "name": "python3"
  },
  "language_info": {
   "codemirror_mode": {
    "name": "ipython",
    "version": 3
   },
   "file_extension": ".py",
   "mimetype": "text/x-python",
   "name": "python",
   "nbconvert_exporter": "python",
   "pygments_lexer": "ipython3",
   "version": "3.11.2"
  }
 },
 "nbformat": 4,
 "nbformat_minor": 5
}
